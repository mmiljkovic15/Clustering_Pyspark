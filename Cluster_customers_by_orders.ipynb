{
 "cells": [
  {
   "cell_type": "code",
   "execution_count": 1,
   "metadata": {
    "collapsed": true
   },
   "outputs": [],
   "source": [
    "import findspark\n",
    "findspark.init()\n",
    "import pyspark\n",
    "import numpy as np\n",
    "import pandas as pd\n",
    "from pyspark.sql import SparkSession\n",
    "\n",
    "from pyspark import SparkContext\n",
    "sc=SparkContext()\n",
    "\n",
    "from pyspark.sql import SQLContext\n",
    "sqlContext = SQLContext(sc)"
   ]
  },
  {
   "cell_type": "code",
   "execution_count": 2,
   "metadata": {
    "collapsed": true
   },
   "outputs": [],
   "source": [
    "from pyspark.sql import functions as F\n",
    "from pyspark.sql.functions import *\n",
    "from pyspark.sql.types import IntegerType, TimestampType\n",
    "from pyspark.sql.window import Window"
   ]
  },
  {
   "cell_type": "code",
   "execution_count": 3,
   "metadata": {
    "collapsed": true
   },
   "outputs": [],
   "source": [
    "s_df = sqlContext.read.csv(\"big_data_log/big_data-2019-02-*.log\", sep=';').cache()"
   ]
  },
  {
   "cell_type": "code",
   "execution_count": 4,
   "metadata": {
    "collapsed": true
   },
   "outputs": [],
   "source": [
    "s_products = sqlContext.read.format('jdbc').options(\n",
    "          url='jdbc:mysql://10.1.3.244/tm_datasc',\n",
    "          driver='com.mysql.jdbc.Driver',\n",
    "          dbtable='products',\n",
    "          user='datasc',\n",
    "          password='scdata',\n",
    "          serverTimezone='GMT',\n",
    "          zeroDateTimeBehavior='CONVERT_TO_NULL').load()\n",
    "\n",
    "categories = sqlContext.read.format('jdbc').options(\n",
    "          url='jdbc:mysql://10.1.3.244/tm_datasc',\n",
    "          driver='com.mysql.jdbc.Driver',\n",
    "          dbtable='categories',\n",
    "          user='datasc',\n",
    "          password='scdata',\n",
    "          serverTimezone='GMT',\n",
    "          zeroDateTimeBehavior='CONVERT_TO_NULL').load() \n",
    "          \n",
    "products_categories = sqlContext.read.format('jdbc').options(\n",
    "          url='jdbc:mysql://10.1.3.244/tm_datasc',\n",
    "          driver='com.mysql.jdbc.Driver',\n",
    "          dbtable='products_categories',\n",
    "          user='datasc',\n",
    "          password='scdata',\n",
    "          serverTimezone='GMT',\n",
    "          zeroDateTimeBehavior='CONVERT_TO_NULL').load()\n",
    "          \n",
    "categories_content = sqlContext.read.format('jdbc').options(\n",
    "          url='jdbc:mysql://10.1.3.244/tm_datasc',\n",
    "          driver='com.mysql.jdbc.Driver',\n",
    "          dbtable='categories_content',\n",
    "          user='datasc',\n",
    "          password='scdata',\n",
    "          serverTimezone='GMT',\n",
    "          zeroDateTimeBehavior='CONVERT_TO_NULL').load()\n",
    "          \n",
    "products_content = sqlContext.read.format('jdbc').options(\n",
    "          url='jdbc:mysql://10.1.3.244/tm_datasc',\n",
    "          driver='com.mysql.jdbc.Driver',\n",
    "          dbtable='products_content',\n",
    "          user='datasc',\n",
    "          password='scdata',\n",
    "          serverTimezone='GMT',\n",
    "          zeroDateTimeBehavior='CONVERT_TO_NULL').load()\n",
    "\n",
    "orders = sqlContext.read.format('jdbc').options(\n",
    "          url='jdbc:mysql://10.1.3.244/tm_datasc',\n",
    "          driver='com.mysql.jdbc.Driver',\n",
    "          dbtable='orders',\n",
    "          user='datasc',\n",
    "          password='scdata',\n",
    "          serverTimezone='GMT',\n",
    "          zeroDateTimeBehavior='CONVERT_TO_NULL').load()\n",
    "\n",
    "order_items = sqlContext.read.format('jdbc').options(\n",
    "          url='jdbc:mysql://10.1.3.244/tm_datasc',\n",
    "          driver='com.mysql.jdbc.Driver',\n",
    "          dbtable='order_items',\n",
    "          user='datasc',\n",
    "          password='scdata',\n",
    "          serverTimezone='GMT',\n",
    "          zeroDateTimeBehavior='CONVERT_TO_NULL').load()"
   ]
  },
  {
   "cell_type": "code",
   "execution_count": 5,
   "metadata": {
    "collapsed": true
   },
   "outputs": [],
   "source": [
    "s_df = s_df.selectExpr('_c0 as data_id', \n",
    "                   '_c1 as data_type', \n",
    "                   '_c2 as view_type',\n",
    "                   '_c3 as customer_id',\n",
    "                   '_c4 as vote_index',\n",
    "                   '_c5 as added_qty',\n",
    "                   '_c6 as token',\n",
    "                   '_c7 as log_time',\n",
    "                   '_c8 as session_id',\n",
    "                   '_c9 as ip_address',\n",
    "                   '_c10 as device_type',\n",
    "                   '_c11 as click_success')\n",
    "\n",
    "s_df = s_df.select(s_df.data_id.cast(\"integer\"),\n",
    "               s_df.view_type.cast(\"integer\"),\n",
    "               s_df.data_type.cast(\"integer\"),\n",
    "               s_df.customer_id.cast(\"integer\"),\n",
    "               s_df.added_qty.cast(\"integer\"),\n",
    "               s_df.token.cast(\"string\"),\n",
    "               s_df.log_time.cast(\"string\"),\n",
    "               s_df.session_id.cast(\"string\"),\n",
    "               s_df.ip_address.cast(\"string\"),\n",
    "               s_df.device_type.cast(\"integer\"),\n",
    "               s_df.click_success.cast(\"integer\"))\n",
    "\n",
    "\n",
    "s_df = s_df.fillna({'click_success':'0'})\n",
    "s_df = s_df.fillna({'added_qty':'0'})\n",
    "s_df = s_df.fillna({'data_id':'0'})\n",
    "s_df = s_df.fillna({'view_type':'0'})\n",
    "s_df = s_df.fillna({'data_type':'0'})\n",
    "\n",
    "s_df = s_df.filter(s_df.click_success<3)\n",
    "s_df = s_df.filter(s_df.added_qty<100)\n",
    "s_df = s_df.filter(s_df.view_type<25)\n",
    "s_df = s_df.filter(s_df.data_type<25)\n",
    "s_df = s_df.filter(s_df.device_type<2)\n",
    "s_df = s_df.filter(s_df.click_success<3)\n",
    "\n",
    "\n",
    "s_df = s_df.withColumn('log_time', unix_timestamp(\"log_time\", \"yyyy-MM-dd HH:mm:ss\").cast('timestamp').alias(\"log_time\"))\n",
    "s_df = s_df.withColumnRenamed('customer_cookie_token', 'token')\n",
    "s_df = s_df.drop('id')\n",
    "s_df = s_df.cache()\n",
    "\n",
    "break_point = '2017-04-29 00:00:00'\n",
    "\n",
    "s_df = s_df.filter(s_df.log_time>break_point)\n",
    "s_df = s_df.withColumn('date', s_df['log_time'].cast('date'))\n",
    "s_df = s_df.withColumn('prod', F.when(s_df.data_type == 1, s_df.data_id).otherwise(0))\n",
    "s_df = s_df.withColumn('cat', F.when(s_df.data_type == 7, s_df.data_id).otherwise(0))\n",
    "s_df = s_df.withColumn('class', F.when(s_df.click_success == 1, s_df.click_success).otherwise(0))\n",
    "\n",
    "s_df = s_df.dropDuplicates()\n",
    "\n",
    "\n",
    "s_df = s_df.withColumn('year', year(\"log_time\").alias('year'))\n",
    "s_df = s_df.withColumn('month', month(\"log_time\").alias('month'))\n",
    "s_df = s_df.withColumn('wday', date_format('date', 'u'))\n",
    "s_df = s_df.withColumn('hour', hour(\"log_time\").alias('hour'))\n",
    "s_df = s_df.withColumn('minute', minute(\"log_time\").alias('minute'))\n",
    "s_df = s_df.select(s_df.data_id,\n",
    "               s_df.view_type,\n",
    "               s_df.data_type,\n",
    "               s_df.customer_id,\n",
    "               s_df.added_qty,\n",
    "               s_df.token,\n",
    "               s_df.log_time,\n",
    "               s_df.session_id,\n",
    "               s_df.ip_address,\n",
    "               s_df.device_type,\n",
    "               s_df.click_success,\n",
    "               s_df.date,\n",
    "               s_df.prod.cast(\"integer\"),\n",
    "               s_df.cat.cast(\"integer\"),\n",
    "               s_df.year.cast(\"integer\"),\n",
    "               s_df.month.cast(\"integer\"),\n",
    "               s_df.wday.cast(\"integer\"),\n",
    "               s_df.hour.cast(\"integer\"),\n",
    "               s_df.minute.cast(\"integer\"))\n",
    "s_df = s_df.cache()\n",
    "\n",
    "s_df = s_df.filter(\"token is not NULL\")\n",
    "s_df = s_df.filter(\"session_id is not NULL\")\n",
    "s_df = s_df.filter(\"log_time is not NULL\")\n",
    "s_df = s_df.filter(\"data_type is not NULL\")\n",
    "s_df = s_df.filter(\"view_type is not NULL\")\n",
    "s_df = s_df.filter(\"added_qty is not NULL\")\n",
    "s_df = s_df.filter(\"year is not NULL\")\n",
    "s_df = s_df.filter(\"month is not NULL\")\n",
    "s_df = s_df.filter(\"wday is not NULL\")\n",
    "s_df = s_df.filter(\"hour is not NULL\")\n",
    "s_df = s_df.filter(\"minute is not NULL\")\n",
    "s_df = s_df.filter(\"prod is not NULL\")"
   ]
  },
  {
   "cell_type": "code",
   "execution_count": 6,
   "metadata": {
    "collapsed": true
   },
   "outputs": [],
   "source": [
    "categories = categories_content.select('category_id', 'name')\n",
    "categories = categories.withColumnRenamed(\"name\", \"category_name\")\n",
    "\n",
    "products_content = products_content.select('product_id', 'name', 'type')\n",
    "products_content = products_content.withColumnRenamed(\"name\", \"product_name\")\n",
    "\n",
    "s_products = s_products.select('product_id', 'brand', 'cena_niza_redovna', 'status')\n",
    "s_products = s_products.withColumnRenamed(\"cena_niza_redovna\", \"price\")\n",
    "s_products = s_products.filter('status==1')"
   ]
  },
  {
   "cell_type": "code",
   "execution_count": 7,
   "metadata": {
    "collapsed": true
   },
   "outputs": [],
   "source": [
    "s_products = s_products.alias('a').join(products_content.alias('b'), s_products['product_id']==products_content['product_id'], 'inner').select('a.product_id', 'b.product_name', 'b.type', 'a.brand', 'a.price')\n",
    "\n",
    "s_products = s_products.alias('a').join(products_categories.alias('b'), s_products['product_id']==products_categories['product_id'], 'inner').select('a.product_id', 'a.product_name', 'a.type', 'b.category_id', 'a.brand', 'a.price')\n",
    "\n",
    "s_products = s_products.alias('a').join(categories.alias('b'), s_products['category_id']==categories['category_id'], 'inner').select('a.product_id', 'a.product_name', 'a.type', 'b.category_id', 'b.category_name','a.brand', 'a.price')"
   ]
  },
  {
   "cell_type": "code",
   "execution_count": 8,
   "metadata": {},
   "outputs": [
    {
     "name": "stdout",
     "output_type": "stream",
     "text": [
      "+----------+--------------------+-------------+-----------+----------------+---------+-----+\n",
      "|product_id|        product_name|         type|category_id|   category_name|    brand|price|\n",
      "+----------+--------------------+-------------+-----------+----------------+---------+-----+\n",
      "|     54114|Energizer baterij...|        LAMPA|        474|Baterijske lampe|Energizer|  919|\n",
      "|     54116|Energizer baterij...|        LAMPA|        474|Baterijske lampe|Energizer|  959|\n",
      "|     54117|Energizer baterij...|        LAMPA|        474|Baterijske lampe|Energizer|  619|\n",
      "|     54113|Energizer baterij...|        LAMPA|        474|Baterijske lampe|Energizer|  999|\n",
      "|     35515|  Reflecta LED lampa|        LAMPA|        474|Baterijske lampe| Reflecta|  199|\n",
      "|    135011|INTEX Dušek na na...|       Duseci|       1677|          Dušeci|    Intex| 6999|\n",
      "|    135007|INTEX Krevet na n...|       Duseci|       1677|          Dušeci|    Intex| 4999|\n",
      "|    135013|INTEX Fotelja 1.2...|       Duseci|       1677|          Dušeci|    Intex| 2999|\n",
      "|    135014|INTEX Krevetac na...|       Duseci|       1677|          Dušeci|    Intex| 2999|\n",
      "|    135012|INTEX Fotelja 1.0...|       Duseci|       1677|          Dušeci|    Intex| 1999|\n",
      "|    135010|INTEX Dušek na na...|       Duseci|       1677|          Dušeci|    Intex| 5999|\n",
      "|    135001|INTEX Dušeci FOTE...|       Duseci|       1677|          Dušeci|    Intex| 2699|\n",
      "|    135004|INTEX Dušeci KREV...|       Duseci|       1677|          Dušeci|    Intex| 3999|\n",
      "|    135003|INTEX Dušek na na...|       Duseci|       1677|          Dušeci|    Intex| 3799|\n",
      "|    134151|SAMSUNG Ugradna r...|Ugradne rerne|       1010|   Ugradne rerne|  Samsung|41999|\n",
      "|     58827|GORENJE Ugradna r...|        RERNA|       1010|   Ugradne rerne|  Gorenje|44990|\n",
      "|     78516|Indesit ugradna r...|        RERNA|       1010|   Ugradne rerne|  Indesit|29990|\n",
      "|     81314|WHIRLPOOL Rerna A...|        RERNA|       1010|   Ugradne rerne|Whirlpool|50990|\n",
      "|    131851|CANDY Ugradna rer...|Ugradne rerne|       1010|   Ugradne rerne|    Candy|35577|\n",
      "|    127609|GORENJE Ugradna r...|Ugradne rerne|       1010|   Ugradne rerne|  Gorenje|50990|\n",
      "+----------+--------------------+-------------+-----------+----------------+---------+-----+\n",
      "only showing top 20 rows\n",
      "\n"
     ]
    }
   ],
   "source": [
    "s_products.show()"
   ]
  },
  {
   "cell_type": "code",
   "execution_count": 8,
   "metadata": {
    "collapsed": true
   },
   "outputs": [],
   "source": [
    "tokens = s_df.select('token').distinct()\n",
    "tokens = tokens.withColumn(\"user\", monotonically_increasing_id())\n",
    "\n",
    "tokens = tokens.cache()\n",
    "\n",
    "s_df = s_df.alias('a').join(tokens.alias('b'), s_df['token'] == tokens['token'], 'left')\\\n",
    ".select('a.data_id', 'a.view_type', 'a.data_type', 'a.customer_id', 'a.added_qty', 'a.token', 'b.user', 'a.log_time', 'a.ip_address', 'a.session_id', 'a.device_type', 'a.click_success', 'a.prod', 'a.cat', 'a.date','a.year', 'a.month', 'a.wday', 'a.hour', 'a.minute')\\\n",
    ".cache()"
   ]
  },
  {
   "cell_type": "code",
   "execution_count": null,
   "metadata": {
    "collapsed": true
   },
   "outputs": [],
   "source": []
  },
  {
   "cell_type": "code",
   "execution_count": 9,
   "metadata": {},
   "outputs": [
    {
     "data": {
      "text/plain": [
       "1670512"
      ]
     },
     "execution_count": 9,
     "metadata": {},
     "output_type": "execute_result"
    }
   ],
   "source": [
    "s_df.count()"
   ]
  },
  {
   "cell_type": "code",
   "execution_count": 10,
   "metadata": {},
   "outputs": [
    {
     "data": {
      "text/plain": [
       "['product_id',\n",
       " 'product_name',\n",
       " 'type',\n",
       " 'category_id',\n",
       " 'category_name',\n",
       " 'brand',\n",
       " 'price']"
      ]
     },
     "execution_count": 10,
     "metadata": {},
     "output_type": "execute_result"
    }
   ],
   "source": [
    "s_products.columns"
   ]
  },
  {
   "cell_type": "code",
   "execution_count": 11,
   "metadata": {
    "collapsed": true
   },
   "outputs": [],
   "source": [
    "orders = orders.select('order_id', 'customer_id', 'total_value')"
   ]
  },
  {
   "cell_type": "code",
   "execution_count": 12,
   "metadata": {
    "collapsed": true
   },
   "outputs": [],
   "source": [
    "order_items = order_items.select('order_item_id', 'order_id', 'product_id', 'name', 'price')"
   ]
  },
  {
   "cell_type": "code",
   "execution_count": 13,
   "metadata": {
    "collapsed": true
   },
   "outputs": [],
   "source": [
    "order_items = order_items.join(s_products, ['product_id'], 'inner').select('order_item_id', 'order_id', 'product_id', 'product_name', s_products['price'], 'category_id', 'category_name')"
   ]
  },
  {
   "cell_type": "code",
   "execution_count": 14,
   "metadata": {},
   "outputs": [
    {
     "name": "stdout",
     "output_type": "stream",
     "text": [
      "+-------------+--------+----------+--------------------+-----+-----------+--------------------+\n",
      "|order_item_id|order_id|product_id|        product_name|price|category_id|       category_name|\n",
      "+-------------+--------+----------+--------------------+-----+-----------+--------------------+\n",
      "|       577708|  431766|     40634|Samsung mikrotala...| 9888|       1024|Samostalne mikrot...|\n",
      "|       879493|  682939|     40634|Samsung mikrotala...| 9888|       1024|Samostalne mikrot...|\n",
      "|       909992|  707726|     40634|Samsung mikrotala...| 9888|       1024|Samostalne mikrot...|\n",
      "|       924841|  719593|     40634|Samsung mikrotala...| 9888|       1024|Samostalne mikrot...|\n",
      "|       970279|  755479|     40634|Samsung mikrotala...| 9888|       1024|Samostalne mikrot...|\n",
      "|       975925|  760189|     40634|Samsung mikrotala...| 9888|       1024|Samostalne mikrot...|\n",
      "|       976611|  760701|     40634|Samsung mikrotala...| 9888|       1024|Samostalne mikrot...|\n",
      "|      1000628|  780110|     40634|Samsung mikrotala...| 9888|       1024|Samostalne mikrot...|\n",
      "|       561896|  419532|     49586|Gorenje salamorez...|11490|       1040|       Salamoreznice|\n",
      "|       569680|  425466|     49586|Gorenje salamorez...|11490|       1040|       Salamoreznice|\n",
      "|       731703|  559679|     49586|Gorenje salamorez...|11490|       1040|       Salamoreznice|\n",
      "|       731705|  559681|     49586|Gorenje salamorez...|11490|       1040|       Salamoreznice|\n",
      "|       982363|  765349|     49586|Gorenje salamorez...|11490|       1040|       Salamoreznice|\n",
      "|       982892|  765704|     49586|Gorenje salamorez...|11490|       1040|       Salamoreznice|\n",
      "|       984488|  766892|     49586|Gorenje salamorez...|11490|       1040|       Salamoreznice|\n",
      "|      1111645|  868839|     49586|Gorenje salamorez...|11490|       1040|       Salamoreznice|\n",
      "|      1156148|  903470|     49586|Gorenje salamorez...|11490|       1040|       Salamoreznice|\n",
      "|      1180951|  922669|     49586|Gorenje salamorez...|11490|       1040|       Salamoreznice|\n",
      "|      1206980|  942962|     49586|Gorenje salamorez...|11490|       1040|       Salamoreznice|\n",
      "|      1217594|  951080|     49586|Gorenje salamorez...|11490|       1040|       Salamoreznice|\n",
      "+-------------+--------+----------+--------------------+-----+-----------+--------------------+\n",
      "only showing top 20 rows\n",
      "\n"
     ]
    }
   ],
   "source": [
    "order_items.show()"
   ]
  },
  {
   "cell_type": "code",
   "execution_count": 15,
   "metadata": {
    "collapsed": true
   },
   "outputs": [],
   "source": [
    "s_df = s_df.select('data_id', 'view_type', \"data_type\", 'customer_id', 'token', 'log_time', 'session_id', 'device_type', 'prod', 'cat', 'date')"
   ]
  },
  {
   "cell_type": "code",
   "execution_count": 16,
   "metadata": {
    "collapsed": true
   },
   "outputs": [],
   "source": [
    "s_df = s_df.filter(\"data_type==11\")"
   ]
  },
  {
   "cell_type": "code",
   "execution_count": 18,
   "metadata": {
    "collapsed": true
   },
   "outputs": [],
   "source": [
    "s_df = s_df.join(orders, orders['order_id']==s_df['data_id'], \"inner\").select(\n",
    "'data_id', orders['customer_id'], 'token','total_value', 'date').join(order_items, s_df['data_id']==order_items['order_id'], 'inner').select(\n",
    "    'data_id', 'customer_id', 'token', 'date', 'order_id', 'total_value', 'product_id', 'product_name','category_id', 'category_name', 'price')"
   ]
  },
  {
   "cell_type": "code",
   "execution_count": 19,
   "metadata": {},
   "outputs": [
    {
     "name": "stdout",
     "output_type": "stream",
     "text": [
      "+-------+-----------+--------------------+----------+--------+-----------+----------+--------------------+-----------+--------------------+------+\n",
      "|data_id|customer_id|               token|      date|order_id|total_value|product_id|        product_name|category_id|       category_name| price|\n",
      "+-------+-----------+--------------------+----------+--------+-----------+----------+--------------------+-----------+--------------------+------+\n",
      "| 996315|     545433|v7cov2kbu0d4f0t9b...|2019-02-04|  996315|     199990|    134124|LG SMART Televizo...|        578|          Televizori|199990|\n",
      "| 998409|          0|mlg5roj6q9pcol9qn...|2019-02-06|  998409|       5780|    125257|BOSCH ketler TWK ...|       1134|      Kuvala za vodu|  3990|\n",
      "| 998409|          0|mlg5roj6q9pcol9qn...|2019-02-06|  998409|       5780|    125424|VOX aparat za sen...|       1090| Tosteri za sendviče|  1790|\n",
      "|1000502|          0|6bcltfrbr171ckbei...|2019-02-08| 1000502|       2499|    132410|GORENJE &Scaron;t...|        168|      Štapni mikseri|  2499|\n",
      "|1000832|     527383|2a3c48fd3ef6a42fa...|2019-02-09| 1000832|       2190|    128415|JVC Zvučnici za k...|        127|       Auto zvučnici|  2190|\n",
      "|1001372|     131165|48967a49974309785...|2019-02-09| 1001372|      21748|     81955|BEKO Mini bar BK ...|        334|         Mini barovi| 10874|\n",
      "| 994352|     544501|56a1ig2g4cal764iu...|2019-01-31|  994352|       3690|     73526| VOX Usisivač SL-121|        579|Usisivači sa keso...|  3990|\n",
      "| 994958|          0|q8cb9kkvgn0l8umnl...|2019-02-01|  994958|      56990|    125571|CANDY Mašina za p...|        359|Mašine za pranje ...| 56990|\n",
      "| 995737|          0|lf2o6uao42c1902q7...|2019-02-03|  995737|       6999|    130701|GORENJE Usisivač ...|        579|Usisivači sa keso...|  9490|\n",
      "| 999788|          0|mkfla8dsu1fejs99u...|2019-02-07|  999788|        749|     81510|GEMBIRD Zvučnici ...|        327|Zvučnici za kompj...|   749|\n",
      "| 999950|          0|thva2cq5kst455oq7...|2019-02-08|  999950|       9590|     81193|GORENJE Usisivač ...|        579|Usisivači sa keso...| 11988|\n",
      "|1001815|          0|jefgojdeppua1aq28...|2019-02-10| 1001815|        890|     48904| MS Slušalice HS-202|        328|           Slušalice|   890|\n",
      "|1002187|          0|h3fs4s32p3cqn0p36...|2019-02-10| 1002187|       1999|    135584|PROMATE Adapter i...|        587|Kablovi, adapteri...|  1999|\n",
      "| 993735|     543296|2sk1rm2d8l165v32o...|2019-01-31|  993735|       3690|     73526| VOX Usisivač SL-121|        579|Usisivači sa keso...|  3990|\n",
      "| 994412|          0|f5da30e5ec3a21efd...|2019-02-01|  994412|      31311|    132275|GORENJE Mašina za...|        131|Mašine za pranje ...| 34990|\n",
      "| 994831|     385159|72e29d4fd772bfe8b...|2019-02-01|  994831|      39999|    133650|SAMSUNG Smart sat...|       1374|      Pametni satovi| 39999|\n",
      "| 994928|          0|kahqqu5j6627kaa8d...|2019-02-01|  994928|       4399|    132061|PHILIPS Pegla GC ...|        145|    Standardne pegle|  5499|\n",
      "| 996452|          0|tja79t3isl013m2aa...|2019-02-04|  996452|       8990|    135709|HOOVER Usisivač s...|        171|Usisivači sa posu...|  8990|\n",
      "| 996577|          0|c585b6c32ddf80254...|2019-02-05|  996577|       2799|     16703|   Ardes rešo 037EXP|       1156|    Standardni rešoi|  2799|\n",
      "| 997436|          0|u5l2q24olvfcu7jbj...|2019-02-06|  997436|       2499|    129020|FIRST Stajler i p...|       1408|             Styleri|  2499|\n",
      "+-------+-----------+--------------------+----------+--------+-----------+----------+--------------------+-----------+--------------------+------+\n",
      "only showing top 20 rows\n",
      "\n"
     ]
    }
   ],
   "source": [
    "s_df.show()"
   ]
  },
  {
   "cell_type": "code",
   "execution_count": null,
   "metadata": {
    "collapsed": true
   },
   "outputs": [],
   "source": []
  },
  {
   "cell_type": "code",
   "execution_count": 20,
   "metadata": {
    "collapsed": true
   },
   "outputs": [],
   "source": [
    "window = Window.partitionBy(s_df['token']).orderBy(s_df['date'].asc())\n",
    "\n",
    "first_transaction = s_df.select(col('token'), col('date'), row_number().over(window).alias('row_number')) \\\n",
    "  .where(col('row_number') <= 1).drop('row_number')\n",
    "first_transaction = first_transaction.withColumnRenamed('date', 'first_transaction')"
   ]
  },
  {
   "cell_type": "code",
   "execution_count": 21,
   "metadata": {
    "collapsed": true
   },
   "outputs": [],
   "source": [
    "window = Window.partitionBy(s_df['token']).orderBy(s_df['date'].desc())\n",
    "\n",
    "last_transaction = s_df.select(col('token'), col('date'), row_number().over(window).alias('row_number')) \\\n",
    "  .where(col('row_number') <= 1).drop('row_number')\n",
    "last_transaction = last_transaction.withColumnRenamed('date', 'last_transaction')"
   ]
  },
  {
   "cell_type": "code",
   "execution_count": 22,
   "metadata": {
    "collapsed": true
   },
   "outputs": [],
   "source": [
    "#shopping_frequency (num of orders per customer_id)\n",
    "frequency = s_df.groupBy(\"token\").count().withColumnRenamed(\"count\", \"frequency\")"
   ]
  },
  {
   "cell_type": "code",
   "execution_count": 23,
   "metadata": {
    "collapsed": true
   },
   "outputs": [],
   "source": [
    "#recency (difference between last transaction and today)\n",
    "recency = last_transaction.withColumn(\"current_date\", F.date_format(F.current_date(), \"y-M-d\")).withColumn(\"date\", F.date_format(last_transaction.last_transaction, \"y-M-d\"))\n",
    "recency = recency.withColumn(\"days_between\", F.datediff(recency.current_date, recency.last_transaction))\n",
    "recency = recency.withColumnRenamed('days_between','recency').drop('last_transaction', 'current_date')"
   ]
  },
  {
   "cell_type": "code",
   "execution_count": 24,
   "metadata": {
    "collapsed": true
   },
   "outputs": [],
   "source": [
    "length = first_transaction.join(last_transaction, ['token'], 'inner')\n",
    "length = length.withColumn(\"length\", F.datediff(length.last_transaction, length.first_transaction))"
   ]
  },
  {
   "cell_type": "code",
   "execution_count": 35,
   "metadata": {},
   "outputs": [
    {
     "name": "stdout",
     "output_type": "stream",
     "text": [
      "+-------+-----------+--------------------+----------+--------+-----------+----------+--------------------+-----------+--------------------+------+\n",
      "|data_id|customer_id|               token|      date|order_id|total_value|product_id|        product_name|category_id|       category_name| price|\n",
      "+-------+-----------+--------------------+----------+--------+-----------+----------+--------------------+-----------+--------------------+------+\n",
      "| 996315|     545433|v7cov2kbu0d4f0t9b...|2019-02-04|  996315|     199990|    134124|LG SMART Televizo...|        578|          Televizori|199990|\n",
      "| 998409|          0|mlg5roj6q9pcol9qn...|2019-02-06|  998409|       5780|    125257|BOSCH ketler TWK ...|       1134|      Kuvala za vodu|  3990|\n",
      "| 998409|          0|mlg5roj6q9pcol9qn...|2019-02-06|  998409|       5780|    125424|VOX aparat za sen...|       1090| Tosteri za sendviče|  1790|\n",
      "|1000502|          0|6bcltfrbr171ckbei...|2019-02-08| 1000502|       2499|    132410|GORENJE &Scaron;t...|        168|      Štapni mikseri|  2499|\n",
      "|1000832|     527383|2a3c48fd3ef6a42fa...|2019-02-09| 1000832|       2190|    128415|JVC Zvučnici za k...|        127|       Auto zvučnici|  2190|\n",
      "|1001372|     131165|48967a49974309785...|2019-02-09| 1001372|      21748|     81955|BEKO Mini bar BK ...|        334|         Mini barovi| 10874|\n",
      "| 994352|     544501|56a1ig2g4cal764iu...|2019-01-31|  994352|       3690|     73526| VOX Usisivač SL-121|        579|Usisivači sa keso...|  3990|\n",
      "| 994958|          0|q8cb9kkvgn0l8umnl...|2019-02-01|  994958|      56990|    125571|CANDY Mašina za p...|        359|Mašine za pranje ...| 56990|\n",
      "| 995737|          0|lf2o6uao42c1902q7...|2019-02-03|  995737|       6999|    130701|GORENJE Usisivač ...|        579|Usisivači sa keso...|  9490|\n",
      "| 999788|          0|mkfla8dsu1fejs99u...|2019-02-07|  999788|        749|     81510|GEMBIRD Zvučnici ...|        327|Zvučnici za kompj...|   749|\n",
      "| 999950|          0|thva2cq5kst455oq7...|2019-02-08|  999950|       9590|     81193|GORENJE Usisivač ...|        579|Usisivači sa keso...| 11988|\n",
      "|1001815|          0|jefgojdeppua1aq28...|2019-02-10| 1001815|        890|     48904| MS Slušalice HS-202|        328|           Slušalice|   890|\n",
      "|1002187|          0|h3fs4s32p3cqn0p36...|2019-02-10| 1002187|       1999|    135584|PROMATE Adapter i...|        587|Kablovi, adapteri...|  1999|\n",
      "| 993735|     543296|2sk1rm2d8l165v32o...|2019-01-31|  993735|       3690|     73526| VOX Usisivač SL-121|        579|Usisivači sa keso...|  3990|\n",
      "| 994412|          0|f5da30e5ec3a21efd...|2019-02-01|  994412|      31311|    132275|GORENJE Mašina za...|        131|Mašine za pranje ...| 34990|\n",
      "| 994831|     385159|72e29d4fd772bfe8b...|2019-02-01|  994831|      39999|    133650|SAMSUNG Smart sat...|       1374|      Pametni satovi| 39999|\n",
      "| 994928|          0|kahqqu5j6627kaa8d...|2019-02-01|  994928|       4399|    132061|PHILIPS Pegla GC ...|        145|    Standardne pegle|  5499|\n",
      "| 996452|          0|tja79t3isl013m2aa...|2019-02-04|  996452|       8990|    135709|HOOVER Usisivač s...|        171|Usisivači sa posu...|  8990|\n",
      "| 996577|          0|c585b6c32ddf80254...|2019-02-05|  996577|       2799|     16703|   Ardes rešo 037EXP|       1156|    Standardni rešoi|  2799|\n",
      "| 997436|          0|u5l2q24olvfcu7jbj...|2019-02-06|  997436|       2499|    129020|FIRST Stajler i p...|       1408|             Styleri|  2499|\n",
      "+-------+-----------+--------------------+----------+--------+-----------+----------+--------------------+-----------+--------------------+------+\n",
      "only showing top 20 rows\n",
      "\n"
     ]
    }
   ],
   "source": [
    "s_df.show()"
   ]
  },
  {
   "cell_type": "code",
   "execution_count": 37,
   "metadata": {
    "collapsed": true
   },
   "outputs": [],
   "source": [
    "monetary = s_df.select('token', 'order_id', 'total_value')\n",
    "monetary = monetary.groupBy(\"token\").sum()\n",
    "monetary = monetary.drop(\"sum(token)\").withColumnRenamed(\"sum(total_value)\", \"monetary\")"
   ]
  },
  {
   "cell_type": "code",
   "execution_count": 38,
   "metadata": {},
   "outputs": [
    {
     "name": "stdout",
     "output_type": "stream",
     "text": [
      "Monetary:  1532\n",
      "Frequency:  1532\n",
      "Length:  1532\n",
      "Recency:  1532\n"
     ]
    }
   ],
   "source": [
    "print(\"Monetary: \",monetary.count())\n",
    "print(\"Frequency: \",frequency.count())\n",
    "print(\"Length: \",length.count())\n",
    "print(\"Recency: \",recency.count())"
   ]
  },
  {
   "cell_type": "code",
   "execution_count": 39,
   "metadata": {
    "collapsed": true
   },
   "outputs": [],
   "source": [
    "lrfm = frequency.join(length, ['token'], 'inner').join(recency, ['token'], 'inner').join(monetary, ['token'], 'left').fillna(0)\n",
    "lrfm = lrfm.drop(\"first_transaction\", \"last_transaction\", \"log_date\")"
   ]
  },
  {
   "cell_type": "code",
   "execution_count": 40,
   "metadata": {},
   "outputs": [
    {
     "name": "stdout",
     "output_type": "stream",
     "text": [
      "+--------------------+---------+------+---------+-------+-------------+--------+\n",
      "|               token|frequency|length|     date|recency|sum(order_id)|monetary|\n",
      "+--------------------+---------+------+---------+-------+-------------+--------+\n",
      "|5de71ve7vd3mu6oov...|        1|     0|2019-1-31|     13|       994003|    5499|\n",
      "|5dkii9k1m4etjr5if...|        2|     0| 2019-2-9|      4|      2002314|   84960|\n",
      "|5kq1dic520hi5edsk...|        1|     0|2019-1-31|     13|       993614|   15102|\n",
      "|aho59b24j96b619sr...|        1|     0| 2019-2-2|     11|       995055|   48990|\n",
      "|jd3qu36a4bm4dnpre...|        1|     0|2019-2-10|      3|      1001839|    6392|\n",
      "|tiu8886h4l0ie6och...|        1|     0| 2019-2-6|      7|       998095|    5999|\n",
      "|f35d8e418c9c67df3...|        1|     0| 2019-2-6|      7|       998197|   30990|\n",
      "|h583qa2nq7i33ta9m...|        1|     0| 2019-2-6|      7|       997455|    3190|\n",
      "|j491831ms9d83brsl...|        1|     0| 2019-2-6|      7|       997591|    8988|\n",
      "|kr3ml8339f4sgtofi...|        1|     0| 2019-2-9|      4|      1000893|   19990|\n",
      "|oicc4jim8l0g4l1t8...|        1|     0| 2019-2-6|      7|       997893|   23998|\n",
      "|s2uc60rvh86os5lrc...|        1|     0|2019-1-31|     13|       994016|    8990|\n",
      "|ub02oatc31dhfkqnh...|        1|     0|2019-2-10|      3|      1001755|   26091|\n",
      "|7145jo68vah77ms12...|        1|     0| 2019-2-9|      4|      1001143|   51321|\n",
      "|8bvp8idsbhbtknm4d...|        1|     0| 2019-2-8|      5|      1000335|    1990|\n",
      "|aeb97f4053afe95ac...|        1|     0| 2019-2-1|     12|       994766|   26961|\n",
      "|isni0ksan3rth69k0...|        1|     0| 2019-2-3|     10|       995841|   33990|\n",
      "|p3b9e7bgfpn2hebjg...|        1|     0| 2019-2-8|      5|      1000262|    3290|\n",
      "|s81qt1jekkdhvr2f3...|        1|     0|2019-1-31|     13|       993645|   17091|\n",
      "|ut6dlfj41ehq5p259...|        1|     0| 2019-2-3|     10|       995571|     829|\n",
      "+--------------------+---------+------+---------+-------+-------------+--------+\n",
      "only showing top 20 rows\n",
      "\n"
     ]
    }
   ],
   "source": [
    "lrfm.show()"
   ]
  },
  {
   "cell_type": "code",
   "execution_count": 41,
   "metadata": {
    "collapsed": true
   },
   "outputs": [],
   "source": [
    "pseudo_products = sqlContext.read.csv(\"cbr.csv\", sep=',', header = True).cache()"
   ]
  },
  {
   "cell_type": "code",
   "execution_count": 43,
   "metadata": {},
   "outputs": [
    {
     "data": {
      "text/plain": [
       "['data_id',\n",
       " 'customer_id',\n",
       " 'token',\n",
       " 'date',\n",
       " 'order_id',\n",
       " 'total_value',\n",
       " 'product_id',\n",
       " 'product_name',\n",
       " 'category_id',\n",
       " 'category_name',\n",
       " 'price']"
      ]
     },
     "execution_count": 43,
     "metadata": {},
     "output_type": "execute_result"
    }
   ],
   "source": [
    "s_df.columns"
   ]
  },
  {
   "cell_type": "code",
   "execution_count": 46,
   "metadata": {
    "collapsed": true
   },
   "outputs": [],
   "source": [
    "customer_category = s_df.select('token', 'product_id', 'category_name')"
   ]
  },
  {
   "cell_type": "code",
   "execution_count": 47,
   "metadata": {
    "collapsed": true
   },
   "outputs": [],
   "source": [
    "grouped = customer_category.groupBy(\"token\", \"category_name\").count()\n",
    "pivoted = grouped.groupBy(\"token\").pivot(\"category_name\").agg(F.sum(F.col(\"count\")))\n",
    "pivoted = pivoted.na.fill(0)"
   ]
  },
  {
   "cell_type": "code",
   "execution_count": 48,
   "metadata": {
    "collapsed": true
   },
   "outputs": [],
   "source": [
    "pivoted = pivoted.join(lrfm, ['token'], 'inner')"
   ]
  },
  {
   "cell_type": "code",
   "execution_count": 49,
   "metadata": {},
   "outputs": [
    {
     "data": {
      "text/plain": [
       "['token',\n",
       " 'Adapteri za auto',\n",
       " 'Akumulatori',\n",
       " 'Alati za baštu',\n",
       " 'Aparati za brijanje',\n",
       " 'Aparati za espresso',\n",
       " 'Aparati za galete',\n",
       " 'Aparati za kokice',\n",
       " 'Aparati za kuvanje na pari',\n",
       " 'Aparati za pravljenje jogurta',\n",
       " 'Aparati za pritisak',\n",
       " 'Aparati za vertikalno peglanje',\n",
       " 'Audio zvučnici',\n",
       " 'Auto punjači za mobilne telefone',\n",
       " 'Auto radio',\n",
       " 'Auto zvučnici',\n",
       " 'Balansirajući skuter',\n",
       " 'Bežični telefoni',\n",
       " 'Bežični zvučnici',\n",
       " 'Bluetooth uređaji',\n",
       " 'Bokali za filtriranje vode',\n",
       " 'Bušilice i odvrtači',\n",
       " 'CD',\n",
       " 'Cediljke i citrusete',\n",
       " 'DSLR fotoaparati',\n",
       " 'DVD plejeri',\n",
       " 'Daljinski upravljači',\n",
       " 'Daske i oprema za pegle',\n",
       " 'Dehidratori',\n",
       " 'Depilatori',\n",
       " 'Desktop računari',\n",
       " 'Diktafoni',\n",
       " 'Dodaci za blendere',\n",
       " 'Dodatna oprema za aparate za kafu',\n",
       " 'Dodatna oprema za računare',\n",
       " 'Dodatna oprema za tablete',\n",
       " 'Dodatna oprema za usisivače',\n",
       " 'Dronovi',\n",
       " 'Držači mobilnih telefona za auto',\n",
       " 'Dušeci',\n",
       " 'Džojstik',\n",
       " 'Eksterni hard diskovi',\n",
       " 'Električne džezve',\n",
       " 'Električne četkice za zube',\n",
       " 'Električni šporeti',\n",
       " 'Epilatori',\n",
       " 'FM transmiteri',\n",
       " 'Fenovi za kosu',\n",
       " 'Filteri za bokale za vodu',\n",
       " 'Fitnes oprema',\n",
       " 'Foto papir',\n",
       " 'Friteze',\n",
       " 'Frižideri sa jednim vratima',\n",
       " 'Grejalice',\n",
       " 'Grejni vikleri',\n",
       " 'Handsfree uređaji',\n",
       " 'Horizontalni zamrzivači',\n",
       " 'Igre',\n",
       " 'Inverter klime',\n",
       " 'Jonizatori',\n",
       " 'Kablovi za TV / AV',\n",
       " 'Kablovi, adapteri i baterije',\n",
       " 'Kafa',\n",
       " 'Kertridži i toneri',\n",
       " 'Kese za vakumiranje',\n",
       " 'Kombinovani frižideri',\n",
       " 'Kombinovani šporeti',\n",
       " 'Kompaktni fotoaparati',\n",
       " 'Konzole',\n",
       " 'Kuhinjske vage',\n",
       " 'Kuhinjski pribor',\n",
       " 'Kuhinjski roboti',\n",
       " 'Kuvala za vodu',\n",
       " 'Laptop računari',\n",
       " 'Masažeri',\n",
       " 'Masažeri za stopala',\n",
       " 'Mašine za meso',\n",
       " 'Mašine za pranje i sušenje veša',\n",
       " 'Mašine za pranje veša',\n",
       " 'Mašine za sušenje veša',\n",
       " 'Memorijske kartice',\n",
       " 'Meteorološke stanice',\n",
       " 'Mikrofoni',\n",
       " 'Mikseri sa posudom',\n",
       " 'Mini barovi',\n",
       " 'Mini linije',\n",
       " 'Mini šporeti',\n",
       " 'Miševi',\n",
       " 'Mlinovi za kafu',\n",
       " 'Monitori',\n",
       " 'Multi trimeri',\n",
       " 'Multicookeri',\n",
       " 'Multipraktici',\n",
       " 'Mutilice za nes kafu',\n",
       " 'Nosači i police',\n",
       " 'Nutri blenderi',\n",
       " 'Obavezna auto oprema',\n",
       " 'Odvlaživači',\n",
       " 'Oprema za frižidere',\n",
       " 'Oprema za igrice',\n",
       " 'Oprema za šivaće mašine',\n",
       " 'Ostala oprema za telefone',\n",
       " 'Ovlaživači',\n",
       " 'Pametni satovi',\n",
       " 'Parne stanice',\n",
       " 'Paročistači',\n",
       " 'Pekare',\n",
       " 'Pekači i tepsije',\n",
       " 'Podloge za miš',\n",
       " 'Postolja za laptopove',\n",
       " 'Posude za vakumiranje',\n",
       " 'Power Bank',\n",
       " 'Prekrivači',\n",
       " 'Prenosna pojačala',\n",
       " 'Prese za kosu',\n",
       " 'Procesori',\n",
       " 'Programi i softveri',\n",
       " 'Radijatori',\n",
       " 'Radio satovi',\n",
       " 'Risiveri',\n",
       " 'Robotski usisivači',\n",
       " 'Roštilji i grilovi',\n",
       " 'Ruteri',\n",
       " 'Ručni mikseri',\n",
       " 'Ručni usisivači',\n",
       " 'Salamoreznice',\n",
       " 'Samostalne mašine za pranje sudova',\n",
       " 'Samostalne mikrotalasne rerne',\n",
       " 'Samostalni aspiratori',\n",
       " 'Set-top box tjuneri i risiveri',\n",
       " 'Setovi posuđa',\n",
       " 'Setovi ručnog alata',\n",
       " 'Setovi za pedikir',\n",
       " 'Sijalice',\n",
       " 'Slušalice',\n",
       " 'Smart telefoni',\n",
       " 'Smoothie blenderi',\n",
       " 'Sobne antene',\n",
       " 'Sokovnici za hladno cedjenje',\n",
       " 'Standardne klime',\n",
       " 'Standardne pegle',\n",
       " 'Standardne seckalice',\n",
       " 'Standardni blenderi',\n",
       " 'Standardni bojleri',\n",
       " 'Standardni rešoi',\n",
       " 'Standardni sokovnici',\n",
       " 'Standardni telefoni',\n",
       " 'Standardni tosteri',\n",
       " 'Stone sudomašine',\n",
       " 'Styleri',\n",
       " 'Sušilice za veš',\n",
       " 'Tableti',\n",
       " 'Tastature',\n",
       " 'Televizori',\n",
       " 'Testere',\n",
       " 'Tiganji',\n",
       " 'Torbe i futrole',\n",
       " 'Tosteri za sendviče',\n",
       " 'Tranzistori i radio uređaji',\n",
       " 'Trimeri za bradu',\n",
       " 'Trimeri za kosu',\n",
       " 'UPS i prenaponske zaštite',\n",
       " 'USB flashevi',\n",
       " 'Ugradne mašine za sudove',\n",
       " 'Ugradne mikrotalasne rerne',\n",
       " 'Ugradne ploče',\n",
       " 'Ugradne rerne',\n",
       " 'Ugradni aspiratori',\n",
       " 'Ugradni frižideri',\n",
       " 'Ugradni setovi',\n",
       " 'Usisivači sa kesom za prašinu',\n",
       " 'Usisivači sa posudom za prašinu',\n",
       " 'Usisivači sa vodenim filterom',\n",
       " 'Vage za merenje kofera',\n",
       " 'Vage za merenje telesne težine',\n",
       " 'Vakum aparati',\n",
       " 'Vertikalni zamrzivači',\n",
       " 'Wi-Fi, Bluetooth i USB adapteri',\n",
       " 'Zvučnici',\n",
       " 'Zvučnici za kompjuter',\n",
       " 'iPod i MP3 plejeri',\n",
       " 'Čitači kartica',\n",
       " 'Šerpe i lonci',\n",
       " 'Šivaće mašine',\n",
       " 'Šporeti na čvrsto gorivo',\n",
       " 'Štampači',\n",
       " 'Štapni mikseri',\n",
       " 'Štapni usisivači',\n",
       " 'Žični telefoni',\n",
       " 'frequency',\n",
       " 'length',\n",
       " 'date',\n",
       " 'recency',\n",
       " 'sum(order_id)',\n",
       " 'monetary']"
      ]
     },
     "execution_count": 49,
     "metadata": {},
     "output_type": "execute_result"
    }
   ],
   "source": [
    "pivoted.columns"
   ]
  },
  {
   "cell_type": "code",
   "execution_count": 50,
   "metadata": {
    "collapsed": true
   },
   "outputs": [],
   "source": [
    "from pyspark.ml.feature import VectorAssembler\n",
    "from pyspark.mllib.util import MLUtils\n",
    "from pyspark.ml.feature import Normalizer\n",
    "from pyspark.ml.feature import StandardScaler"
   ]
  },
  {
   "cell_type": "code",
   "execution_count": 55,
   "metadata": {
    "collapsed": true
   },
   "outputs": [],
   "source": [
    "vecAssembler = VectorAssembler(inputCols=['Adapteri za auto',\n",
    " 'Akumulatori',\n",
    " 'Alati za baštu',\n",
    " 'Aparati za brijanje',\n",
    " 'Aparati za espresso',\n",
    " 'Aparati za galete',\n",
    " 'Aparati za kokice',\n",
    " 'Aparati za kuvanje na pari',\n",
    " 'Aparati za pravljenje jogurta',\n",
    " 'Aparati za pritisak',\n",
    " 'Aparati za vertikalno peglanje',\n",
    " 'Audio zvučnici',\n",
    " 'Auto punjači za mobilne telefone',\n",
    " 'Auto radio',\n",
    " 'Auto zvučnici',\n",
    " 'Balansirajući skuter',\n",
    " 'Bežični telefoni',\n",
    " 'Bežični zvučnici',\n",
    " 'Bluetooth uređaji',\n",
    " 'Bokali za filtriranje vode',\n",
    " 'Bušilice i odvrtači',\n",
    " 'CD',\n",
    " 'Cediljke i citrusete',\n",
    " 'DSLR fotoaparati',\n",
    " 'DVD plejeri',\n",
    " 'Daljinski upravljači',\n",
    " 'Daske i oprema za pegle',\n",
    " 'Dehidratori',\n",
    " 'Depilatori',\n",
    " 'Desktop računari',\n",
    " 'Diktafoni',\n",
    " 'Dodaci za blendere',\n",
    " 'Dodatna oprema za aparate za kafu',\n",
    " 'Dodatna oprema za računare',\n",
    " 'Dodatna oprema za tablete',\n",
    " 'Dodatna oprema za usisivače',\n",
    " 'Dronovi',\n",
    " 'Držači mobilnih telefona za auto',\n",
    " 'Dušeci',\n",
    " 'Džojstik',\n",
    " 'Eksterni hard diskovi',\n",
    " 'Električne džezve',\n",
    " 'Električne četkice za zube',\n",
    " 'Električni šporeti',\n",
    " 'Epilatori',\n",
    " 'FM transmiteri',\n",
    " 'Fenovi za kosu',\n",
    " 'Filteri za bokale za vodu',\n",
    " 'Fitnes oprema',\n",
    " 'Foto papir',\n",
    " 'Friteze',\n",
    " 'Frižideri sa jednim vratima',\n",
    " 'Grejalice',\n",
    " 'Grejni vikleri',\n",
    " 'Handsfree uređaji',\n",
    " 'Horizontalni zamrzivači',\n",
    " 'Igre',\n",
    " 'Inverter klime',\n",
    " 'Jonizatori',\n",
    " 'Kablovi za TV / AV',\n",
    " 'Kablovi, adapteri i baterije',\n",
    " 'Kafa',\n",
    " 'Kertridži i toneri',\n",
    " 'Kese za vakumiranje',\n",
    " 'Kombinovani frižideri',\n",
    " 'Kombinovani šporeti',\n",
    " 'Kompaktni fotoaparati',\n",
    " 'Konzole',\n",
    " 'Kuhinjske vage',\n",
    " 'Kuhinjski pribor',\n",
    " 'Kuhinjski roboti',\n",
    " 'Kuvala za vodu',\n",
    " 'Laptop računari',\n",
    " 'Masažeri',\n",
    " 'Masažeri za stopala',\n",
    " 'Mašine za meso',\n",
    " 'Mašine za pranje i sušenje veša',\n",
    " 'Mašine za pranje veša',\n",
    " 'Mašine za sušenje veša',\n",
    " 'Memorijske kartice',\n",
    " 'Meteorološke stanice',\n",
    " 'Mikrofoni',\n",
    " 'Mikseri sa posudom',\n",
    " 'Mini barovi',\n",
    " 'Mini linije',\n",
    " 'Mini šporeti',\n",
    " 'Miševi',\n",
    " 'Mlinovi za kafu',\n",
    " 'Monitori',\n",
    " 'Multi trimeri',\n",
    " 'Multicookeri',\n",
    " 'Multipraktici',\n",
    " 'Mutilice za nes kafu',\n",
    " 'Nosači i police',\n",
    " 'Nutri blenderi',\n",
    " 'Obavezna auto oprema',\n",
    " 'Odvlaživači',\n",
    " 'Oprema za frižidere',\n",
    " 'Oprema za igrice',\n",
    " 'Oprema za šivaće mašine',\n",
    " 'Ostala oprema za telefone',\n",
    " 'Ovlaživači',\n",
    " 'Pametni satovi',\n",
    " 'Parne stanice',\n",
    " 'Paročistači',\n",
    " 'Pekare',\n",
    " 'Pekači i tepsije',\n",
    " 'Podloge za miš',\n",
    " 'Postolja za laptopove',\n",
    " 'Posude za vakumiranje',\n",
    " 'Power Bank',\n",
    " 'Prekrivači',\n",
    " 'Prenosna pojačala',\n",
    " 'Prese za kosu',\n",
    " 'Procesori',\n",
    " 'Programi i softveri',\n",
    " 'Radijatori',\n",
    " 'Radio satovi',\n",
    " 'Risiveri',\n",
    " 'Robotski usisivači',\n",
    " 'Roštilji i grilovi',\n",
    " 'Ruteri',\n",
    " 'Ručni mikseri',\n",
    " 'Ručni usisivači',\n",
    " 'Salamoreznice',\n",
    " 'Samostalne mašine za pranje sudova',\n",
    " 'Samostalne mikrotalasne rerne',\n",
    " 'Samostalni aspiratori',\n",
    " 'Set-top box tjuneri i risiveri',\n",
    " 'Setovi posuđa',\n",
    " 'Setovi ručnog alata',\n",
    " 'Setovi za pedikir',\n",
    " 'Sijalice',\n",
    " 'Slušalice',\n",
    " 'Smart telefoni',\n",
    " 'Smoothie blenderi',\n",
    " 'Sobne antene',\n",
    " 'Sokovnici za hladno cedjenje',\n",
    " 'Standardne klime',\n",
    " 'Standardne pegle',\n",
    " 'Standardne seckalice',\n",
    " 'Standardni blenderi',\n",
    " 'Standardni bojleri',\n",
    " 'Standardni rešoi',\n",
    " 'Standardni sokovnici',\n",
    " 'Standardni telefoni',\n",
    " 'Standardni tosteri',\n",
    " 'Stone sudomašine',\n",
    " 'Styleri',\n",
    " 'Sušilice za veš',\n",
    " 'Tableti',\n",
    " 'Tastature',\n",
    " 'Televizori',\n",
    " 'Testere',\n",
    " 'Tiganji',\n",
    " 'Torbe i futrole',\n",
    " 'Tosteri za sendviče',\n",
    " 'Tranzistori i radio uređaji',\n",
    " 'Trimeri za bradu',\n",
    " 'Trimeri za kosu',\n",
    " 'UPS i prenaponske zaštite',\n",
    " 'USB flashevi',\n",
    " 'Ugradne mašine za sudove',\n",
    " 'Ugradne mikrotalasne rerne',\n",
    " 'Ugradne ploče',\n",
    " 'Ugradne rerne',\n",
    " 'Ugradni aspiratori',\n",
    " 'Ugradni frižideri',\n",
    " 'Ugradni setovi',\n",
    " 'Usisivači sa kesom za prašinu',\n",
    " 'Usisivači sa posudom za prašinu',\n",
    " 'Usisivači sa vodenim filterom',\n",
    " 'Vage za merenje kofera',\n",
    " 'Vage za merenje telesne težine',\n",
    " 'Vakum aparati',\n",
    " 'Vertikalni zamrzivači',\n",
    " 'Wi-Fi, Bluetooth i USB adapteri',\n",
    " 'Zvučnici',\n",
    " 'Zvučnici za kompjuter',\n",
    " 'iPod i MP3 plejeri',\n",
    " 'Čitači kartica',\n",
    " 'Šerpe i lonci',\n",
    " 'Šivaće mašine',\n",
    " 'Šporeti na čvrsto gorivo',\n",
    " 'Štampači',\n",
    " 'Štapni mikseri',\n",
    " 'Štapni usisivači',\n",
    " 'Žični telefoni',\n",
    " 'frequency',\n",
    " 'length',\n",
    " 'recency',\n",
    " 'monetary'], outputCol='features')"
   ]
  },
  {
   "cell_type": "code",
   "execution_count": 56,
   "metadata": {},
   "outputs": [
    {
     "name": "stdout",
     "output_type": "stream",
     "text": [
      "+----------------------------------------------------+---------------------------------------------------------------------------------------------------------------------------+\n",
      "|features                                            |scaledFeatures                                                                                                             |\n",
      "+----------------------------------------------------+---------------------------------------------------------------------------------------------------------------------------+\n",
      "|(192,[28,188,190,191],[1.0,1.0,13.0,5499.0])        |(192,[28,188,190,191],[10.473033799344616,1.1996917553612978,3.8822274689198806,0.09099423272331615])                      |\n",
      "|(192,[65,127,188,190,191],[1.0,1.0,2.0,4.0,84960.0])|(192,[65,127,188,190,191],[13.870097086028382,11.339778224261645,2.3993835107225956,1.1945315288984248,1.4058683419117912])|\n",
      "|(192,[152,188,190,191],[1.0,1.0,13.0,15102.0])      |(192,[152,188,190,191],[4.764881484343154,1.1996917553612978,3.8822274689198806,0.2498990548440663])                       |\n",
      "|(192,[64,188,190,191],[1.0,1.0,11.0,48990.0])       |(192,[64,188,190,191],[4.240787831451431,1.1996917553612978,3.2849617044706685,0.8106578398100124])                        |\n",
      "|(192,[169,188,190,191],[1.0,1.0,3.0,6392.0])        |(192,[169,188,190,191],[3.653196373217185,1.1996917553612978,0.8958986466738186,0.10577107393479485])                      |\n",
      "|(192,[46,188,190,191],[1.0,1.0,7.0,5999.0])         |(192,[46,188,190,191],[6.330728483443013,1.1996917553612978,2.0904301755722434,0.09926794000857858])                       |\n",
      "|(192,[77,188,190,191],[1.0,1.0,7.0,30990.0])        |(192,[77,188,190,191],[3.2111856563834986,1.1996917553612978,2.0904301755722434,0.5128043775405651])                       |\n",
      "|(192,[154,188,190,191],[1.0,1.0,7.0,3190.0])        |(192,[154,188,190,191],[6.951316967408131,1.1996917553612978,2.0904301755722434,0.052786252479974274])                     |\n",
      "|(192,[134,188,190,191],[1.0,1.0,7.0,8988.0])        |(192,[134,188,190,191],[3.947794152838687,1.1996917553612978,2.0904301755722434,0.14872816215987736])                      |\n",
      "|(192,[150,188,190,191],[1.0,1.0,4.0,19990.0])       |(192,[150,188,190,191],[7.04907574719475,1.1996917553612978,1.1945315288984248,0.33078281726479175])                       |\n",
      "|(192,[139,188,190,191],[1.0,1.0,7.0,23998.0])       |(192,[139,188,190,191],[3.8858042522919036,1.1996917553612978,2.0904301755722434,0.39710485486345537])                     |\n",
      "|(192,[169,188,190,191],[1.0,1.0,13.0,8990.0])       |(192,[169,188,190,191],[3.653196373217185,1.1996917553612978,3.8822274689198806,0.1487612569890184])                       |\n",
      "|(192,[55,188,190,191],[1.0,1.0,3.0,26091.0])        |(192,[55,188,190,191],[10.874289119375904,1.1996917553612978,0.8958986466738186,0.4317385935595639])                       |\n",
      "|(192,[64,188,190,191],[1.0,1.0,4.0,51321.0])        |(192,[64,188,190,191],[4.240787831451431,1.1996917553612978,1.1945315288984248,0.8492298631739058])                        |\n",
      "|(192,[71,188,190,191],[1.0,1.0,5.0,1990.0])         |(192,[71,188,190,191],[5.692560941182786,1.1996917553612978,1.493164411123031,0.032929354995344454])                       |\n",
      "|(192,[77,188,190,191],[1.0,1.0,12.0,26961.0])       |(192,[77,188,190,191],[3.2111856563834986,1.1996917553612978,3.5835945866952743,0.4461348442359205])                       |\n",
      "|(192,[77,188,190,191],[1.0,1.0,10.0,33990.0])       |(192,[77,188,190,191],[3.2111856563834986,1.1996917553612978,2.986328822246062,0.5624466212521396])                        |\n",
      "|(192,[140,188,190,191],[1.0,1.0,5.0,3290.0])        |(192,[140,188,190,191],[7.739587563314963,1.1996917553612978,1.493164411123031,0.05444099393702676])                       |\n",
      "|(192,[164,188,190,191],[1.0,1.0,13.0,17091.0])      |(192,[164,188,190,191],[5.481401036899341,1.1996917553612978,3.8822274689198806,0.28281186242484024])                      |\n",
      "|(192,[154,188,190,191],[1.0,1.0,10.0,829.0])        |(192,[154,188,190,191],[6.951316967408131,1.1996917553612978,2.986328822246062,0.013717806678965102])                      |\n",
      "+----------------------------------------------------+---------------------------------------------------------------------------------------------------------------------------+\n",
      "only showing top 20 rows\n",
      "\n"
     ]
    }
   ],
   "source": [
    "new_df = vecAssembler.transform(pivoted)\n",
    "\n",
    "scaler = StandardScaler(inputCol='features', outputCol='scaledFeatures')\n",
    "scaler_model = scaler.fit(new_df)\n",
    "scaled_data = scaler_model.transform(new_df)\n",
    "scaled_data.select('features','scaledFeatures').show(truncate=False)"
   ]
  },
  {
   "cell_type": "code",
   "execution_count": 57,
   "metadata": {
    "collapsed": true
   },
   "outputs": [],
   "source": [
    "from pyspark.ml.clustering import BisectingKMeans\n",
    "\n",
    "# Trains a bisecting k-means model.\n",
    "bkm = BisectingKMeans().setK(10).setSeed(1)\n",
    "model = bkm.fit(scaled_data)\n",
    "\n",
    "transformed = model.transform(scaled_data)"
   ]
  },
  {
   "cell_type": "code",
   "execution_count": 58,
   "metadata": {},
   "outputs": [
    {
     "name": "stdout",
     "output_type": "stream",
     "text": [
      "+----------+-----+\n",
      "|prediction|count|\n",
      "+----------+-----+\n",
      "|         0|  734|\n",
      "|         1|  260|\n",
      "|         2|  293|\n",
      "|         3|  137|\n",
      "|         4|   66|\n",
      "|         5|   24|\n",
      "|         6|    9|\n",
      "|         7|    4|\n",
      "|         8|    3|\n",
      "|         9|    2|\n",
      "+----------+-----+\n",
      "\n"
     ]
    }
   ],
   "source": [
    "transformed.groupBy('prediction').count().sort(col('prediction').asc()).show(15)"
   ]
  },
  {
   "cell_type": "code",
   "execution_count": null,
   "metadata": {
    "collapsed": true
   },
   "outputs": [],
   "source": []
  }
 ],
 "metadata": {
  "kernelspec": {
   "display_name": "Python 3",
   "language": "python",
   "name": "python3"
  },
  "language_info": {
   "codemirror_mode": {
    "name": "ipython",
    "version": 3
   },
   "file_extension": ".py",
   "mimetype": "text/x-python",
   "name": "python",
   "nbconvert_exporter": "python",
   "pygments_lexer": "ipython3",
   "version": "3.6.3"
  }
 },
 "nbformat": 4,
 "nbformat_minor": 2
}
