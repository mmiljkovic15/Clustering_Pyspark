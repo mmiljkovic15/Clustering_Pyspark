{
 "cells": [
  {
   "cell_type": "code",
   "execution_count": 4,
   "metadata": {
    "collapsed": true
   },
   "outputs": [],
   "source": [
    "import findspark\n",
    "#findspark.init('/usr/hdp/2.6.1.0-129/spark2')\n",
    "findspark.init()\n",
    "import pyspark\n",
    "import numpy as np\n",
    "import pandas as pd\n",
    "from pyspark.sql import SparkSession"
   ]
  },
  {
   "cell_type": "raw",
   "metadata": {
    "collapsed": true
   },
   "source": [
    "#import pyspark.sql\n",
    "#from pyspark.sql import SQLContext\n",
    "#spark = SparkSession.builder.appName('thm').getOrCreate()\n",
    "#sqlContext = SQLContext(spark)"
   ]
  },
  {
   "cell_type": "code",
   "execution_count": 5,
   "metadata": {},
   "outputs": [],
   "source": [
    "from pyspark import SparkContext\n",
    "sc=SparkContext()"
   ]
  },
  {
   "cell_type": "code",
   "execution_count": 6,
   "metadata": {
    "collapsed": true
   },
   "outputs": [],
   "source": [
    "from pyspark.sql import SQLContext\n",
    "sqlContext = SQLContext(sc)"
   ]
  },
  {
   "cell_type": "code",
   "execution_count": 7,
   "metadata": {
    "collapsed": true
   },
   "outputs": [],
   "source": [
    "s_df = sqlContext.read.csv(\"C:/big_data_log/big_data-2019-02-*.log\", sep=';').cache()"
   ]
  },
  {
   "cell_type": "code",
   "execution_count": 8,
   "metadata": {
    "collapsed": true
   },
   "outputs": [],
   "source": [
    "s_products = sqlContext.read.format('jdbc').options(\n",
    "          url='jdbc:mysql://10.1.3.244/tm_datasc',\n",
    "          driver='com.mysql.jdbc.Driver',\n",
    "          dbtable='products',\n",
    "          user='datasc',\n",
    "          password='scdata',\n",
    "          serverTimezone='GMT',\n",
    "          zeroDateTimeBehavior='CONVERT_TO_NULL').load()\n",
    "\n",
    "categories = sqlContext.read.format('jdbc').options(\n",
    "          url='jdbc:mysql://10.1.3.244/tm_datasc',\n",
    "          driver='com.mysql.jdbc.Driver',\n",
    "          dbtable='categories',\n",
    "          user='datasc',\n",
    "          password='scdata',\n",
    "          serverTimezone='GMT',\n",
    "          zeroDateTimeBehavior='CONVERT_TO_NULL').load() \n",
    "          \n",
    "products_categories = sqlContext.read.format('jdbc').options(\n",
    "          url='jdbc:mysql://10.1.3.244/tm_datasc',\n",
    "          driver='com.mysql.jdbc.Driver',\n",
    "          dbtable='products_categories',\n",
    "          user='datasc',\n",
    "          password='scdata',\n",
    "          serverTimezone='GMT',\n",
    "          zeroDateTimeBehavior='CONVERT_TO_NULL').load()\n",
    "          \n",
    "categories_content = sqlContext.read.format('jdbc').options(\n",
    "          url='jdbc:mysql://10.1.3.244/tm_datasc',\n",
    "          driver='com.mysql.jdbc.Driver',\n",
    "          dbtable='categories_content',\n",
    "          user='datasc',\n",
    "          password='scdata',\n",
    "          serverTimezone='GMT',\n",
    "          zeroDateTimeBehavior='CONVERT_TO_NULL').load()\n",
    "          \n",
    "products_content = sqlContext.read.format('jdbc').options(\n",
    "          url='jdbc:mysql://10.1.3.244/tm_datasc',\n",
    "          driver='com.mysql.jdbc.Driver',\n",
    "          dbtable='products_content',\n",
    "          user='datasc',\n",
    "          password='scdata',\n",
    "          serverTimezone='GMT',\n",
    "          zeroDateTimeBehavior='CONVERT_TO_NULL').load()"
   ]
  },
  {
   "cell_type": "code",
   "execution_count": 44,
   "metadata": {
    "collapsed": true
   },
   "outputs": [],
   "source": [
    "orders = sqlContext.read.format('jdbc').options(\n",
    "          url='jdbc:mysql://10.1.3.244/tm_datasc',\n",
    "          driver='com.mysql.jdbc.Driver',\n",
    "          dbtable='orders',\n",
    "          user='datasc',\n",
    "          password='scdata',\n",
    "          serverTimezone='GMT',\n",
    "          zeroDateTimeBehavior='CONVERT_TO_NULL').load()\n",
    "\n",
    "order_items = sqlContext.read.format('jdbc').options(\n",
    "          url='jdbc:mysql://10.1.3.244/tm_datasc',\n",
    "          driver='com.mysql.jdbc.Driver',\n",
    "          dbtable='order_items',\n",
    "          user='datasc',\n",
    "          password='scdata',\n",
    "          serverTimezone='GMT',\n",
    "          zeroDateTimeBehavior='CONVERT_TO_NULL').load()"
   ]
  },
  {
   "cell_type": "code",
   "execution_count": 9,
   "metadata": {
    "collapsed": true
   },
   "outputs": [],
   "source": [
    "s_df = s_df.selectExpr('_c0 as data_id', \n",
    "                   '_c1 as data_type', \n",
    "                   '_c2 as view_type',\n",
    "                   '_c3 as customer_id',\n",
    "                   '_c4 as vote_index',\n",
    "                   '_c5 as added_qty',\n",
    "                   '_c6 as token',\n",
    "                   '_c7 as log_time',\n",
    "                   '_c8 as session_id',\n",
    "                   '_c9 as ip_address',\n",
    "                   '_c10 as device_type',\n",
    "                   '_c11 as click_success')\n",
    "\n",
    "s_df = s_df.select(s_df.data_id.cast(\"integer\"),\n",
    "               s_df.view_type.cast(\"integer\"),\n",
    "               s_df.data_type.cast(\"integer\"),\n",
    "               s_df.customer_id.cast(\"integer\"),\n",
    "               s_df.added_qty.cast(\"integer\"),\n",
    "               s_df.token.cast(\"string\"),\n",
    "               s_df.log_time.cast(\"string\"),\n",
    "               s_df.session_id.cast(\"string\"),\n",
    "               s_df.ip_address.cast(\"string\"),\n",
    "               s_df.device_type.cast(\"integer\"),\n",
    "               s_df.click_success.cast(\"integer\"))\n",
    "\n",
    "\n",
    "s_df = s_df.fillna({'click_success':'0'})\n",
    "s_df = s_df.fillna({'added_qty':'0'})\n",
    "s_df = s_df.fillna({'data_id':'0'})\n",
    "s_df = s_df.fillna({'view_type':'0'})\n",
    "s_df = s_df.fillna({'data_type':'0'})\n",
    "\n",
    "s_df = s_df.filter(s_df.click_success<3)\n",
    "s_df = s_df.filter(s_df.added_qty<100)\n",
    "s_df = s_df.filter(s_df.view_type<25)\n",
    "s_df = s_df.filter(s_df.data_type<25)\n",
    "s_df = s_df.filter(s_df.device_type<2)\n",
    "s_df = s_df.filter(s_df.click_success<3)"
   ]
  },
  {
   "cell_type": "code",
   "execution_count": 10,
   "metadata": {
    "collapsed": true
   },
   "outputs": [],
   "source": [
    "from pyspark.sql.types import IntegerType, TimestampType\n",
    "from pyspark.sql.functions import unix_timestamp, from_unixtime\n",
    "\n",
    "s_df = s_df.withColumn('log_time', unix_timestamp(\"log_time\", \"yyyy-MM-dd HH:mm:ss\").cast('timestamp').alias(\"log_time\"))\n",
    "s_df = s_df.withColumnRenamed('customer_cookie_token', 'token')\n",
    "s_df = s_df.drop('id')\n",
    "s_df = s_df.cache()"
   ]
  },
  {
   "cell_type": "code",
   "execution_count": 11,
   "metadata": {
    "collapsed": true
   },
   "outputs": [],
   "source": [
    "from pyspark.sql import functions as F\n",
    "from pyspark.sql.functions import *\n",
    "from pyspark.sql.functions import col, size\n",
    "from pyspark.sql.types import IntegerType\n",
    "from pyspark.sql.functions import udf\n",
    "from pyspark.sql.functions import datediff, to_date, lit\n",
    "\n",
    "break_point = '2017-04-29 00:00:00'\n",
    "\n",
    "s_df = s_df.filter(s_df.log_time>break_point)\n",
    "s_df = s_df.withColumn('date', s_df['log_time'].cast('date'))\n",
    "s_df = s_df.withColumn('prod', F.when(s_df.data_type == 1, s_df.data_id).otherwise(0))\n",
    "s_df = s_df.withColumn('cat', F.when(s_df.data_type == 7, s_df.data_id).otherwise(0))\n",
    "s_df = s_df.withColumn('class', F.when(s_df.click_success == 1, s_df.click_success).otherwise(0))"
   ]
  },
  {
   "cell_type": "code",
   "execution_count": 12,
   "metadata": {
    "collapsed": true
   },
   "outputs": [],
   "source": [
    "s_df = s_df.dropDuplicates()"
   ]
  },
  {
   "cell_type": "code",
   "execution_count": 13,
   "metadata": {
    "collapsed": true
   },
   "outputs": [],
   "source": [
    "from pyspark.sql.functions import date_format\n",
    "\n",
    "s_df = s_df.withColumn('year', year(\"log_time\").alias('year'))\n",
    "s_df = s_df.withColumn('month', month(\"log_time\").alias('month'))\n",
    "s_df = s_df.withColumn('wday', date_format('date', 'u'))\n",
    "s_df = s_df.withColumn('hour', hour(\"log_time\").alias('hour'))\n",
    "s_df = s_df.withColumn('minute', minute(\"log_time\").alias('minute'))\n",
    "s_df = s_df.select(s_df.data_id,\n",
    "               s_df.view_type,\n",
    "               s_df.data_type,\n",
    "               s_df.customer_id,\n",
    "               s_df.added_qty,\n",
    "               s_df.token,\n",
    "               s_df.log_time,\n",
    "               s_df.session_id,\n",
    "               s_df.ip_address,\n",
    "               s_df.device_type,\n",
    "               s_df.click_success,\n",
    "               s_df.date,\n",
    "               s_df.prod.cast(\"integer\"),\n",
    "               s_df.cat.cast(\"integer\"),\n",
    "               s_df.year.cast(\"integer\"),\n",
    "               s_df.month.cast(\"integer\"),\n",
    "               s_df.wday.cast(\"integer\"),\n",
    "               s_df.hour.cast(\"integer\"),\n",
    "               s_df.minute.cast(\"integer\"))\n",
    "s_df = s_df.cache()"
   ]
  },
  {
   "cell_type": "code",
   "execution_count": 14,
   "metadata": {
    "collapsed": true
   },
   "outputs": [],
   "source": [
    "s_df = s_df.filter(\"token is not NULL\")\n",
    "s_df = s_df.filter(\"session_id is not NULL\")\n",
    "s_df = s_df.filter(\"log_time is not NULL\")\n",
    "s_df = s_df.filter(\"data_type is not NULL\")\n",
    "s_df = s_df.filter(\"view_type is not NULL\")\n",
    "s_df = s_df.filter(\"added_qty is not NULL\")\n",
    "s_df = s_df.filter(\"year is not NULL\")\n",
    "s_df = s_df.filter(\"month is not NULL\")\n",
    "s_df = s_df.filter(\"wday is not NULL\")\n",
    "s_df = s_df.filter(\"hour is not NULL\")\n",
    "s_df = s_df.filter(\"minute is not NULL\")\n",
    "s_df = s_df.filter(\"prod is not NULL\")"
   ]
  },
  {
   "cell_type": "code",
   "execution_count": 15,
   "metadata": {
    "collapsed": true
   },
   "outputs": [],
   "source": [
    "categories = categories_content.select('category_id', 'name')\n",
    "categories = categories.withColumnRenamed(\"name\", \"category_name\")\n",
    "\n",
    "products_content = products_content.select('product_id', 'name', 'type')\n",
    "products_content = products_content.withColumnRenamed(\"name\", \"product_name\")\n",
    "\n",
    "s_products = s_products.select('product_id', 'brand', 'cena_niza_redovna', 'status')\n",
    "s_products = s_products.withColumnRenamed(\"cena_niza_redovna\", \"price\")\n",
    "s_products = s_products.filter('status==1')"
   ]
  },
  {
   "cell_type": "code",
   "execution_count": 16,
   "metadata": {
    "collapsed": true
   },
   "outputs": [],
   "source": [
    "s_products = s_products.alias('a').join(products_content.alias('b'), s_products['product_id']==products_content['product_id'], 'inner').select('a.product_id', 'b.product_name', 'b.type', 'a.brand', 'a.price')\n",
    "\n",
    "s_products = s_products.alias('a').join(products_categories.alias('b'), s_products['product_id']==products_categories['product_id'], 'inner').select('a.product_id', 'a.product_name', 'a.type', 'b.category_id', 'a.brand', 'a.price')\n",
    "\n",
    "s_products = s_products.alias('a').join(categories.alias('b'), s_products['category_id']==categories['category_id'], 'inner').select('a.product_id', 'a.product_name', 'a.type', 'b.category_id', 'b.category_name','a.brand', 'a.price')"
   ]
  },
  {
   "cell_type": "code",
   "execution_count": 17,
   "metadata": {
    "collapsed": true
   },
   "outputs": [],
   "source": [
    "from pyspark.sql.functions import monotonically_increasing_id\n",
    "\n",
    "tokens = s_df.select('token').distinct()\n",
    "tokens = tokens.withColumn(\"user\", monotonically_increasing_id())\n",
    "\n",
    "tokens = tokens.cache()\n",
    "\n",
    "s_df = s_df.alias('a').join(tokens.alias('b'), s_df['token'] == tokens['token'], 'left')\\\n",
    ".select('a.data_id', 'a.view_type', 'a.data_type', 'a.customer_id', 'a.added_qty', 'a.token', 'b.user', 'a.log_time', 'a.ip_address', 'a.session_id', 'a.device_type', 'a.click_success', 'a.prod', 'a.cat', 'a.date','a.year', 'a.month', 'a.wday', 'a.hour', 'a.minute')\\\n",
    ".cache()"
   ]
  },
  {
   "cell_type": "code",
   "execution_count": 18,
   "metadata": {},
   "outputs": [
    {
     "data": {
      "text/plain": [
       "1670512"
      ]
     },
     "execution_count": 18,
     "metadata": {},
     "output_type": "execute_result"
    }
   ],
   "source": [
    "s_df.count()"
   ]
  },
  {
   "cell_type": "code",
   "execution_count": 19,
   "metadata": {
    "scrolled": true
   },
   "outputs": [
    {
     "name": "stdout",
     "output_type": "stream",
     "text": [
      "+-------+---------+---------+-----------+---------+--------------------+----+-------------------+---------------+--------------------+-----------+-------------+------+---+----------+----+-----+----+----+------+\n",
      "|data_id|view_type|data_type|customer_id|added_qty|               token|user|           log_time|     ip_address|          session_id|device_type|click_success|  prod|cat|      date|year|month|wday|hour|minute|\n",
      "+-------+---------+---------+-----------+---------+--------------------+----+-------------------+---------------+--------------------+-----------+-------------+------+---+----------+----+-----+----+----+------+\n",
      "|  75936|        7|        1|          0|        0|000344tlgncv5k5lr...|1059|2019-02-03 19:59:03|   66.249.92.33|000344tlgncv5k5lr...|          0|            0| 75936|  0|2019-02-03|2019|    2|   7|  19|    59|\n",
      "| 128207|        7|        1|          0|        0|00750610f0d326cb6...| 235|2019-02-08 18:07:20|  93.87.106.241|pvt567f3l2oaadded...|          0|            0|128207|  0|2019-02-08|2019|    2|   5|  18|     7|\n",
      "|  54930|        7|        1|          0|        0|00750610f0d326cb6...| 235|2019-02-01 23:49:19|  93.87.106.241|a0spcb3mqb8go620o...|          0|            0| 54930|  0|2019-02-01|2019|    2|   5|  23|    49|\n",
      "| 132273|        7|        1|          0|        0|00mlb31pvvj1oe6vl...|2352|2019-02-07 10:45:49|  173.44.48.117|00mlb31pvvj1oe6vl...|          0|            0|132273|  0|2019-02-07|2019|    2|   4|  10|    45|\n",
      "|  76555|        7|        1|          0|        0|0105026b2cbfd2563...| 840|2019-02-06 21:49:20|  82.117.197.90|vf04ljaaohjvgmf0t...|          1|            0| 76555|  0|2019-02-06|2019|    2|   3|  21|    49|\n",
      "|  80049|        7|        1|          0|        0|01bgiqc91ncg9dahj...|1911|2019-02-07 16:13:23|  157.55.39.117|01bgiqc91ncg9dahj...|          1|            0| 80049|  0|2019-02-07|2019|    2|   4|  16|    13|\n",
      "|  74166|        7|        1|          0|        0|01bqoto4dopl589qn...|3433|2019-02-05 01:48:50|   52.50.86.106|01bqoto4dopl589qn...|          0|            0| 74166|  0|2019-02-05|2019|    2|   2|   1|    48|\n",
      "|  84668|        7|        1|          0|        0|01j902pmva808c507...| 736|2019-02-05 12:10:56|   207.46.13.92|01j902pmva808c507...|          0|            0| 84668|  0|2019-02-05|2019|    2|   2|  12|    10|\n",
      "|  48456|        7|        1|          0|        0|01k9f6eolqs83qmjn...|3603|2019-01-31 21:57:20|  54.36.148.241|01k9f6eolqs83qmjn...|          0|            0| 48456|  0|2019-01-31|2019|    1|   4|  21|    57|\n",
      "|  82073|        7|        1|          0|        0|01nac94btjdffvnnu...|2760|2019-02-09 07:45:39| 185.50.184.234|01nac94btjdffvnnu...|          1|            0| 82073|  0|2019-02-09|2019|    2|   6|   7|    45|\n",
      "| 127764|        7|        1|          0|        0|01s4g313rf852aad1...|  95|2019-02-08 08:04:40|109.245.227.225|01s4g313rf852aad1...|          1|            0|127764|  0|2019-02-08|2019|    2|   5|   8|     4|\n",
      "|  82734|        7|        1|          0|        0|01s4g313rf852aad1...|  95|2019-02-08 08:03:34|109.245.227.225|01s4g313rf852aad1...|          1|            0| 82734|  0|2019-02-08|2019|    2|   5|   8|     3|\n",
      "|  58957|        7|        1|          0|        0|02q0bm4djeobaahct...| 298|2019-02-05 17:52:40| 178.149.135.22|c53dmiommecqcnbqs...|          1|            0| 58957|  0|2019-02-05|2019|    2|   2|  17|    52|\n",
      "|  58957|        7|        1|          0|        0|02q0bm4djeobaahct...| 298|2019-02-05 18:00:39| 178.149.135.22|c53dmiommecqcnbqs...|          1|            0| 58957|  0|2019-02-05|2019|    2|   2|  18|     0|\n",
      "|  58535|        7|        1|          0|        0|02q0bm4djeobaahct...| 298|2019-02-05 17:51:40| 178.149.135.22|c53dmiommecqcnbqs...|          1|            0| 58535|  0|2019-02-05|2019|    2|   2|  17|    51|\n",
      "|  58958|        7|        1|          0|        0|02q0bm4djeobaahct...| 298|2019-02-05 17:52:18| 178.149.135.22|c53dmiommecqcnbqs...|          1|            0| 58958|  0|2019-02-05|2019|    2|   2|  17|    52|\n",
      "| 126288|        7|        1|          0|        0|02q0bm4djeobaahct...| 298|2019-02-05 17:53:38| 178.149.135.22|c53dmiommecqcnbqs...|          1|            0|126288|  0|2019-02-05|2019|    2|   2|  17|    53|\n",
      "| 134972|        7|        1|          0|        0|03202a259b9a35678...| 412|2019-02-03 18:25:23| 79.175.110.124|es229da5l62kunbb6...|          1|            0|134972|  0|2019-02-03|2019|    2|   7|  18|    25|\n",
      "|  80624|        7|        1|          0|        0|039cb72craro5mi11...|2362|2019-01-31 04:54:20|148.251.133.233|039cb72craro5mi11...|          0|            0| 80624|  0|2019-01-31|2019|    1|   4|   4|    54|\n",
      "| 125268|        7|        1|          0|        0|03skqsb5g9liv261a...|1604|2019-02-09 08:18:55|  37.19.109.252|dts4sd2vsf0dr8nqe...|          0|            0|125268|  0|2019-02-09|2019|    2|   6|   8|    18|\n",
      "+-------+---------+---------+-----------+---------+--------------------+----+-------------------+---------------+--------------------+-----------+-------------+------+---+----------+----+-----+----+----+------+\n",
      "only showing top 20 rows\n",
      "\n"
     ]
    }
   ],
   "source": [
    "s_df.show()"
   ]
  },
  {
   "cell_type": "code",
   "execution_count": 20,
   "metadata": {},
   "outputs": [
    {
     "name": "stdout",
     "output_type": "stream",
     "text": [
      "root\n",
      " |-- data_id: integer (nullable = true)\n",
      " |-- view_type: integer (nullable = true)\n",
      " |-- data_type: integer (nullable = true)\n",
      " |-- customer_id: integer (nullable = true)\n",
      " |-- added_qty: integer (nullable = true)\n",
      " |-- token: string (nullable = true)\n",
      " |-- user: long (nullable = true)\n",
      " |-- log_time: timestamp (nullable = true)\n",
      " |-- ip_address: string (nullable = true)\n",
      " |-- session_id: string (nullable = true)\n",
      " |-- device_type: integer (nullable = true)\n",
      " |-- click_success: integer (nullable = true)\n",
      " |-- prod: integer (nullable = true)\n",
      " |-- cat: integer (nullable = true)\n",
      " |-- date: date (nullable = true)\n",
      " |-- year: integer (nullable = true)\n",
      " |-- month: integer (nullable = true)\n",
      " |-- wday: integer (nullable = true)\n",
      " |-- hour: integer (nullable = true)\n",
      " |-- minute: integer (nullable = true)\n",
      "\n"
     ]
    }
   ],
   "source": [
    "s_df.printSchema()"
   ]
  },
  {
   "cell_type": "code",
   "execution_count": 21,
   "metadata": {
    "scrolled": true
   },
   "outputs": [
    {
     "data": {
      "text/plain": [
       "7624"
      ]
     },
     "execution_count": 21,
     "metadata": {},
     "output_type": "execute_result"
    }
   ],
   "source": [
    "s_df = s_df.filter(\"customer_id>0\")\n",
    "s_df.count()"
   ]
  },
  {
   "cell_type": "code",
   "execution_count": 22,
   "metadata": {
    "collapsed": true
   },
   "outputs": [],
   "source": [
    "s_df = s_df.withColumn(\"current_date\", F.date_format(F.current_date(), \"y-M-d\")).withColumn(\"log_date\", F.date_format(s_df.date, \"y-M-d\"))\n",
    "s_df = s_df.withColumn('current_date', s_df['current_date'].cast('date'))\n",
    "s_df = s_df.withColumn('log_date', s_df['log_date'].cast('date'))\n",
    "s_df = s_df.withColumn(\"days_between\", F.datediff(s_df.current_date, s_df.date))"
   ]
  },
  {
   "cell_type": "code",
   "execution_count": 23,
   "metadata": {},
   "outputs": [
    {
     "name": "stdout",
     "output_type": "stream",
     "text": [
      "root\n",
      " |-- data_id: integer (nullable = true)\n",
      " |-- view_type: integer (nullable = true)\n",
      " |-- data_type: integer (nullable = true)\n",
      " |-- customer_id: integer (nullable = true)\n",
      " |-- added_qty: integer (nullable = true)\n",
      " |-- token: string (nullable = true)\n",
      " |-- user: long (nullable = true)\n",
      " |-- log_time: timestamp (nullable = true)\n",
      " |-- ip_address: string (nullable = true)\n",
      " |-- session_id: string (nullable = true)\n",
      " |-- device_type: integer (nullable = true)\n",
      " |-- click_success: integer (nullable = true)\n",
      " |-- prod: integer (nullable = true)\n",
      " |-- cat: integer (nullable = true)\n",
      " |-- date: date (nullable = true)\n",
      " |-- year: integer (nullable = true)\n",
      " |-- month: integer (nullable = true)\n",
      " |-- wday: integer (nullable = true)\n",
      " |-- hour: integer (nullable = true)\n",
      " |-- minute: integer (nullable = true)\n",
      " |-- current_date: date (nullable = true)\n",
      " |-- log_date: date (nullable = true)\n",
      " |-- days_between: integer (nullable = true)\n",
      "\n"
     ]
    }
   ],
   "source": [
    "\n",
    "s_df.printSchema()"
   ]
  },
  {
   "cell_type": "code",
   "execution_count": 24,
   "metadata": {
    "scrolled": false
   },
   "outputs": [
    {
     "name": "stdout",
     "output_type": "stream",
     "text": [
      "+-----------+----------+------------+\n",
      "|customer_id|  log_date|days_between|\n",
      "+-----------+----------+------------+\n",
      "|      32477|2019-02-04|           8|\n",
      "|     544369|2019-02-02|          10|\n",
      "|     544369|2019-02-02|          10|\n",
      "|     544369|2019-02-02|          10|\n",
      "|     544369|2019-02-02|          10|\n",
      "|     544369|2019-02-02|          10|\n",
      "|     544369|2019-02-02|          10|\n",
      "|     544369|2019-02-02|          10|\n",
      "|     208691|2019-02-10|           2|\n",
      "|     208691|2019-02-10|           2|\n",
      "|     156367|2019-02-05|           7|\n",
      "|     444110|2019-02-06|           6|\n",
      "|     444110|2019-02-06|           6|\n",
      "|     444110|2019-02-06|           6|\n",
      "|     444110|2019-02-06|           6|\n",
      "|     528559|2019-02-06|           6|\n",
      "|     528559|2019-02-06|           6|\n",
      "|     528559|2019-02-06|           6|\n",
      "|     528559|2019-02-06|           6|\n",
      "|     528559|2019-02-06|           6|\n",
      "+-----------+----------+------------+\n",
      "only showing top 20 rows\n",
      "\n"
     ]
    }
   ],
   "source": [
    "s_df.select(\"customer_id\", \"log_date\", \"days_between\").show()"
   ]
  },
  {
   "cell_type": "code",
   "execution_count": 25,
   "metadata": {
    "collapsed": true
   },
   "outputs": [],
   "source": [
    "from pyspark.sql.window import Window\n",
    "from pyspark.sql.functions import rank, col\n",
    "\n",
    "window = Window.partitionBy(s_df['customer_id']).orderBy(s_df['log_date'].asc())"
   ]
  },
  {
   "cell_type": "code",
   "execution_count": 26,
   "metadata": {
    "collapsed": true
   },
   "outputs": [],
   "source": [
    "n=1\n",
    "first_transaction = s_df.select(col('customer_id'), col('log_date'), row_number().over(window).alias('row_number')) \\\n",
    "  .where(col('row_number') <= n).drop('row_number')"
   ]
  },
  {
   "cell_type": "code",
   "execution_count": 27,
   "metadata": {
    "collapsed": true
   },
   "outputs": [],
   "source": [
    "first_transaction = first_transaction.withColumnRenamed('log_date', 'first_transaction')"
   ]
  },
  {
   "cell_type": "code",
   "execution_count": 28,
   "metadata": {
    "collapsed": true
   },
   "outputs": [],
   "source": [
    "window = Window.partitionBy(s_df['customer_id']).orderBy(s_df['log_date'].desc())"
   ]
  },
  {
   "cell_type": "code",
   "execution_count": 29,
   "metadata": {
    "collapsed": true
   },
   "outputs": [],
   "source": [
    "last_transaction = s_df.select(col('customer_id'), col('log_date'), row_number().over(window).alias('row_number')) \\\n",
    "  .where(col('row_number') <= n).drop('row_number')"
   ]
  },
  {
   "cell_type": "code",
   "execution_count": 30,
   "metadata": {
    "collapsed": true
   },
   "outputs": [],
   "source": [
    "last_transaction = last_transaction.withColumnRenamed('log_date', 'last_transaction')"
   ]
  },
  {
   "cell_type": "code",
   "execution_count": 31,
   "metadata": {
    "collapsed": true
   },
   "outputs": [],
   "source": [
    "#shopping_frequency (num of orders per customer_id)\n",
    "frequency = s_df.groupBy(\"customer_id\", \"data_type\").count().filter(\"data_type==11\").orderBy(\"count\", ascending=False).drop('data_type')"
   ]
  },
  {
   "cell_type": "code",
   "execution_count": 32,
   "metadata": {
    "collapsed": true
   },
   "outputs": [],
   "source": [
    "#recency (difference between last transaction and today)\n",
    "recency = last_transaction.withColumn(\"current_date\", F.date_format(F.current_date(), \"y-M-d\")).withColumn(\"log_date\", F.date_format(last_transaction.last_transaction, \"y-M-d\"))\n",
    "recency = recency.withColumn(\"days_between\", F.datediff(recency.current_date, recency.last_transaction))\n",
    "recency = recency.withColumnRenamed('days_between','recency').drop('last_transaction', 'current_date')"
   ]
  },
  {
   "cell_type": "code",
   "execution_count": 33,
   "metadata": {
    "collapsed": true
   },
   "outputs": [],
   "source": [
    "length = first_transaction.join(last_transaction, ['customer_id'], 'inner')"
   ]
  },
  {
   "cell_type": "code",
   "execution_count": 34,
   "metadata": {
    "collapsed": true
   },
   "outputs": [],
   "source": [
    "length = length.withColumn(\"length\", F.datediff(length.last_transaction, length.first_transaction))"
   ]
  },
  {
   "cell_type": "code",
   "execution_count": 35,
   "metadata": {},
   "outputs": [
    {
     "name": "stdout",
     "output_type": "stream",
     "text": [
      "+-----------+-----------------+----------------+------+\n",
      "|customer_id|first_transaction|last_transaction|length|\n",
      "+-----------+-----------------+----------------+------+\n",
      "|      94819|       2019-02-02|      2019-02-02|     0|\n",
      "|     413073|       2019-01-31|      2019-01-31|     0|\n",
      "|     459999|       2019-02-07|      2019-02-07|     0|\n",
      "|     493490|       2019-02-07|      2019-02-07|     0|\n",
      "|     547213|       2019-02-08|      2019-02-09|     1|\n",
      "|     105437|       2019-01-31|      2019-02-08|     8|\n",
      "|     444553|       2019-01-31|      2019-01-31|     0|\n",
      "|     544177|       2019-01-31|      2019-01-31|     0|\n",
      "|     545725|       2019-02-05|      2019-02-05|     0|\n",
      "|     545792|       2019-02-05|      2019-02-05|     0|\n",
      "|     546883|       2019-02-07|      2019-02-07|     0|\n",
      "|     502742|       2019-02-01|      2019-02-07|     6|\n",
      "|     544777|       2019-02-01|      2019-02-02|     1|\n",
      "|     546284|       2019-02-06|      2019-02-06|     0|\n",
      "|     546829|       2019-02-07|      2019-02-08|     1|\n",
      "|     547827|       2019-02-10|      2019-02-10|     0|\n",
      "|      18884|       2019-02-08|      2019-02-10|     2|\n",
      "|     439105|       2019-02-09|      2019-02-09|     0|\n",
      "|     543014|       2019-02-01|      2019-02-01|     0|\n",
      "|     544035|       2019-01-31|      2019-01-31|     0|\n",
      "|     544231|       2019-01-31|      2019-01-31|     0|\n",
      "|     544909|       2019-02-02|      2019-02-02|     0|\n",
      "|     545186|       2019-02-03|      2019-02-06|     3|\n",
      "|     545983|       2019-02-06|      2019-02-06|     0|\n",
      "|     547143|       2019-02-08|      2019-02-08|     0|\n",
      "|     547683|       2019-02-09|      2019-02-09|     0|\n",
      "|     548108|       2019-02-10|      2019-02-10|     0|\n",
      "|     548127|       2019-02-10|      2019-02-10|     0|\n",
      "|       6934|       2019-02-08|      2019-02-08|     0|\n",
      "|     403364|       2019-02-07|      2019-02-07|     0|\n",
      "|     418394|       2019-02-09|      2019-02-09|     0|\n",
      "|     510945|       2019-02-02|      2019-02-02|     0|\n",
      "|     519133|       2019-01-31|      2019-02-06|     6|\n",
      "|     535431|       2019-02-07|      2019-02-08|     1|\n",
      "|     543638|       2019-02-09|      2019-02-09|     0|\n",
      "|     544742|       2019-02-01|      2019-02-07|     6|\n",
      "|     545546|       2019-02-04|      2019-02-04|     0|\n",
      "|     547645|       2019-02-09|      2019-02-09|     0|\n",
      "|     534476|       2019-02-06|      2019-02-06|     0|\n",
      "|     541850|       2019-01-31|      2019-02-01|     1|\n",
      "|     544347|       2019-01-31|      2019-01-31|     0|\n",
      "|     544449|       2019-01-31|      2019-01-31|     0|\n",
      "|     545024|       2019-02-02|      2019-02-03|     1|\n",
      "|     546758|       2019-02-07|      2019-02-07|     0|\n",
      "|     546969|       2019-02-07|      2019-02-07|     0|\n",
      "|     548079|       2019-02-10|      2019-02-10|     0|\n",
      "|     321599|       2019-02-02|      2019-02-02|     0|\n",
      "|     342735|       2019-02-02|      2019-02-02|     0|\n",
      "|     416151|       2019-02-06|      2019-02-06|     0|\n",
      "|     538226|       2019-02-05|      2019-02-05|     0|\n",
      "|     206277|       2019-02-08|      2019-02-08|     0|\n",
      "|     381320|       2019-02-06|      2019-02-08|     2|\n",
      "|     469723|       2019-02-02|      2019-02-02|     0|\n",
      "|     506739|       2019-02-05|      2019-02-05|     0|\n",
      "|     545324|       2019-02-04|      2019-02-04|     0|\n",
      "|     545900|       2019-02-06|      2019-02-06|     0|\n",
      "|     546698|       2019-02-07|      2019-02-07|     0|\n",
      "|     547070|       2019-02-08|      2019-02-08|     0|\n",
      "|     547545|       2019-02-09|      2019-02-09|     0|\n",
      "|     538647|       2019-02-02|      2019-02-02|     0|\n",
      "|     544748|       2019-02-01|      2019-02-01|     0|\n",
      "|     545599|       2019-02-06|      2019-02-06|     0|\n",
      "|      16544|       2019-02-06|      2019-02-07|     1|\n",
      "|     478280|       2019-01-31|      2019-01-31|     0|\n",
      "|     536529|       2019-01-31|      2019-01-31|     0|\n",
      "|     545445|       2019-02-04|      2019-02-04|     0|\n",
      "|     546896|       2019-02-07|      2019-02-07|     0|\n",
      "|     547082|       2019-02-08|      2019-02-08|     0|\n",
      "|      13751|       2019-02-07|      2019-02-10|     3|\n",
      "|     103761|       2019-02-06|      2019-02-08|     2|\n",
      "|     543843|       2019-02-05|      2019-02-05|     0|\n",
      "|     544262|       2019-01-31|      2019-01-31|     0|\n",
      "|     546225|       2019-02-06|      2019-02-06|     0|\n",
      "|     546716|       2019-02-07|      2019-02-07|     0|\n",
      "|     529730|       2019-02-04|      2019-02-04|     0|\n",
      "|     541827|       2019-01-31|      2019-01-31|     0|\n",
      "|     545277|       2019-02-03|      2019-02-04|     1|\n",
      "|     545498|       2019-02-04|      2019-02-04|     0|\n",
      "|     546938|       2019-02-07|      2019-02-07|     0|\n",
      "|     547238|       2019-02-08|      2019-02-08|     0|\n",
      "|     493441|       2019-02-07|      2019-02-07|     0|\n",
      "|     507397|       2019-02-03|      2019-02-03|     0|\n",
      "|     547107|       2019-02-08|      2019-02-08|     0|\n",
      "|     548072|       2019-02-10|      2019-02-10|     0|\n",
      "|     327457|       2019-02-04|      2019-02-07|     3|\n",
      "|     415076|       2019-01-31|      2019-01-31|     0|\n",
      "|     545835|       2019-02-05|      2019-02-05|     0|\n",
      "|     545847|       2019-02-05|      2019-02-05|     0|\n",
      "|     547089|       2019-02-08|      2019-02-08|     0|\n",
      "|      31747|       2019-01-31|      2019-01-31|     0|\n",
      "|     237621|       2019-02-06|      2019-02-08|     2|\n",
      "|     355766|       2019-02-01|      2019-02-02|     1|\n",
      "|     445225|       2019-02-03|      2019-02-03|     0|\n",
      "|     546519|       2019-02-06|      2019-02-06|     0|\n",
      "|     547489|       2019-02-09|      2019-02-09|     0|\n",
      "|      46591|       2019-02-08|      2019-02-08|     0|\n",
      "|     544509|       2019-01-31|      2019-01-31|     0|\n",
      "|     546055|       2019-02-06|      2019-02-06|     0|\n",
      "|       2778|       2019-02-06|      2019-02-10|     4|\n",
      "|      91833|       2019-02-09|      2019-02-09|     0|\n",
      "+-----------+-----------------+----------------+------+\n",
      "only showing top 100 rows\n",
      "\n"
     ]
    }
   ],
   "source": [
    "length.show(100)"
   ]
  },
  {
   "cell_type": "code",
   "execution_count": 36,
   "metadata": {},
   "outputs": [
    {
     "name": "stdout",
     "output_type": "stream",
     "text": [
      "root\n",
      " |-- customer_id: integer (nullable = true)\n",
      " |-- first_transaction: date (nullable = true)\n",
      " |-- last_transaction: date (nullable = true)\n",
      " |-- length: integer (nullable = true)\n",
      "\n"
     ]
    }
   ],
   "source": [
    "length.printSchema()"
   ]
  },
  {
   "cell_type": "code",
   "execution_count": 37,
   "metadata": {},
   "outputs": [
    {
     "name": "stdout",
     "output_type": "stream",
     "text": [
      "root\n",
      " |-- customer_id: integer (nullable = true)\n",
      " |-- log_date: string (nullable = true)\n",
      " |-- recency: integer (nullable = true)\n",
      "\n"
     ]
    }
   ],
   "source": [
    "recency.printSchema()"
   ]
  },
  {
   "cell_type": "code",
   "execution_count": 38,
   "metadata": {
    "collapsed": true
   },
   "outputs": [],
   "source": [
    "#fali monetary i frequency"
   ]
  },
  {
   "cell_type": "code",
   "execution_count": 39,
   "metadata": {},
   "outputs": [
    {
     "name": "stdout",
     "output_type": "stream",
     "text": [
      "root\n",
      " |-- data_id: integer (nullable = true)\n",
      " |-- view_type: integer (nullable = true)\n",
      " |-- data_type: integer (nullable = true)\n",
      " |-- customer_id: integer (nullable = true)\n",
      " |-- added_qty: integer (nullable = true)\n",
      " |-- token: string (nullable = true)\n",
      " |-- user: long (nullable = true)\n",
      " |-- log_time: timestamp (nullable = true)\n",
      " |-- ip_address: string (nullable = true)\n",
      " |-- session_id: string (nullable = true)\n",
      " |-- device_type: integer (nullable = true)\n",
      " |-- click_success: integer (nullable = true)\n",
      " |-- prod: integer (nullable = true)\n",
      " |-- cat: integer (nullable = true)\n",
      " |-- date: date (nullable = true)\n",
      " |-- year: integer (nullable = true)\n",
      " |-- month: integer (nullable = true)\n",
      " |-- wday: integer (nullable = true)\n",
      " |-- hour: integer (nullable = true)\n",
      " |-- minute: integer (nullable = true)\n",
      " |-- current_date: date (nullable = true)\n",
      " |-- log_date: date (nullable = true)\n",
      " |-- days_between: integer (nullable = true)\n",
      "\n"
     ]
    }
   ],
   "source": [
    "s_df.printSchema()"
   ]
  },
  {
   "cell_type": "code",
   "execution_count": 40,
   "metadata": {
    "collapsed": true
   },
   "outputs": [],
   "source": [
    "frequency = s_df.groupBy(\"customer_id\").count().withColumnRenamed(\"count\", \"frequency\")"
   ]
  },
  {
   "cell_type": "code",
   "execution_count": 41,
   "metadata": {},
   "outputs": [
    {
     "name": "stdout",
     "output_type": "stream",
     "text": [
      "+-----------+---------+\n",
      "|customer_id|frequency|\n",
      "+-----------+---------+\n",
      "|     547213|       19|\n",
      "|     493490|        3|\n",
      "|     459999|        3|\n",
      "|      94819|        2|\n",
      "|     413073|        3|\n",
      "|     544177|        4|\n",
      "|     444553|        2|\n",
      "|     545725|        6|\n",
      "|     105437|        6|\n",
      "|     546883|        8|\n",
      "|     545792|       14|\n",
      "|     546829|        4|\n",
      "|     544777|       47|\n",
      "|     502742|        3|\n",
      "|     547827|        5|\n",
      "|     546284|        2|\n",
      "|     545983|        2|\n",
      "|     545186|        8|\n",
      "|     543014|        1|\n",
      "|     544231|        3|\n",
      "+-----------+---------+\n",
      "only showing top 20 rows\n",
      "\n"
     ]
    }
   ],
   "source": [
    "frequency.show()"
   ]
  },
  {
   "cell_type": "code",
   "execution_count": 61,
   "metadata": {
    "collapsed": true
   },
   "outputs": [],
   "source": [
    "monetary = s_df.filter(\"data_type==11\")"
   ]
  },
  {
   "cell_type": "code",
   "execution_count": 62,
   "metadata": {},
   "outputs": [],
   "source": [
    "orders = orders.select(\"order_id\", \"customer_id\", \"total_value\")"
   ]
  },
  {
   "cell_type": "code",
   "execution_count": 63,
   "metadata": {},
   "outputs": [],
   "source": [
    "monetary = monetary.join(orders, monetary['data_id']==orders['order_id'], 'inner').select(monetary['customer_id'], 'total_value')"
   ]
  },
  {
   "cell_type": "code",
   "execution_count": 64,
   "metadata": {
    "collapsed": true
   },
   "outputs": [],
   "source": [
    "monetary = monetary.groupBy(\"customer_id\").sum()"
   ]
  },
  {
   "cell_type": "code",
   "execution_count": 66,
   "metadata": {},
   "outputs": [],
   "source": [
    "monetary = monetary.drop(\"sum(customer_id)\").withColumnRenamed(\"sum(total_value)\", \"monetary\")"
   ]
  },
  {
   "cell_type": "code",
   "execution_count": 67,
   "metadata": {},
   "outputs": [
    {
     "name": "stdout",
     "output_type": "stream",
     "text": [
      "+-----------+--------+\n",
      "|customer_id|monetary|\n",
      "+-----------+--------+\n",
      "|     413073|   29479|\n",
      "|     459999|   29499|\n",
      "|      94819|   33051|\n",
      "|     444553|    2580|\n",
      "|     545792|   34290|\n",
      "|     105437|   21591|\n",
      "|     546284|    5990|\n",
      "|     545983|    7999|\n",
      "|     547143|    1788|\n",
      "|     544035|    5390|\n",
      "|     547683|   47898|\n",
      "|     544231|    3861|\n",
      "|     547645|   37399|\n",
      "|     519133|   49090|\n",
      "|     545546|    3699|\n",
      "|     544347|   35991|\n",
      "|     541850|   65980|\n",
      "|     546758|   24439|\n",
      "|     545024|   25990|\n",
      "|     546969|    2029|\n",
      "+-----------+--------+\n",
      "only showing top 20 rows\n",
      "\n"
     ]
    }
   ],
   "source": [
    "monetary.show()"
   ]
  },
  {
   "cell_type": "code",
   "execution_count": 69,
   "metadata": {},
   "outputs": [
    {
     "name": "stdout",
     "output_type": "stream",
     "text": [
      "Monetary:  614\n",
      "Frequency:  1224\n",
      "Length:  1224\n",
      "Recency:  1224\n"
     ]
    }
   ],
   "source": [
    "print(\"Monetary: \",monetary.count())\n",
    "print(\"Frequency: \",frequency.count())\n",
    "print(\"Length: \",length.count())\n",
    "print(\"Recency: \",recency.count())"
   ]
  },
  {
   "cell_type": "code",
   "execution_count": 71,
   "metadata": {},
   "outputs": [],
   "source": [
    "lrfm = frequency.join(length, ['customer_id'], 'inner').join(recency, ['customer_id'], 'inner').join(monetary, ['customer_id'], 'left').fillna(0)"
   ]
  },
  {
   "cell_type": "code",
   "execution_count": 73,
   "metadata": {},
   "outputs": [],
   "source": [
    "lrfm = lrfm.drop(\"first_transaction\", \"last_transaction\", \"log_date\")"
   ]
  },
  {
   "cell_type": "code",
   "execution_count": null,
   "metadata": {
    "collapsed": true
   },
   "outputs": [],
   "source": [
    "lrfm.show()"
   ]
  },
  {
   "cell_type": "code",
   "execution_count": null,
   "metadata": {
    "collapsed": true
   },
   "outputs": [],
   "source": []
  }
 ],
 "metadata": {
  "kernelspec": {
   "display_name": "Python 3",
   "language": "python",
   "name": "python3"
  },
  "language_info": {
   "codemirror_mode": {
    "name": "ipython",
    "version": 3
   },
   "file_extension": ".py",
   "mimetype": "text/x-python",
   "name": "python",
   "nbconvert_exporter": "python",
   "pygments_lexer": "ipython3",
   "version": "3.6.3"
  }
 },
 "nbformat": 4,
 "nbformat_minor": 2
}
