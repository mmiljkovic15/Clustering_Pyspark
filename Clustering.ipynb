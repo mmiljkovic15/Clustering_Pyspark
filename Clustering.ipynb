{
 "cells": [
  {
   "cell_type": "code",
   "execution_count": 1,
   "metadata": {
    "collapsed": true
   },
   "outputs": [],
   "source": [
    "import findspark\n",
    "#findspark.init('/usr/hdp/2.6.1.0-129/spark2')\n",
    "findspark.init()\n",
    "import pyspark\n",
    "import numpy as np\n",
    "import pandas as pd\n",
    "from pyspark.sql import SparkSession"
   ]
  },
  {
   "cell_type": "raw",
   "metadata": {
    "collapsed": true
   },
   "source": [
    "#import pyspark.sql\n",
    "#from pyspark.sql import SQLContext\n",
    "#spark = SparkSession.builder.appName('thm').getOrCreate()\n",
    "#sqlContext = SQLContext(spark)"
   ]
  },
  {
   "cell_type": "code",
   "execution_count": 2,
   "metadata": {
    "collapsed": true
   },
   "outputs": [],
   "source": [
    "from pyspark import SparkContext\n",
    "sc=SparkContext()"
   ]
  },
  {
   "cell_type": "code",
   "execution_count": 3,
   "metadata": {
    "collapsed": true
   },
   "outputs": [],
   "source": [
    "from pyspark.sql import SQLContext\n",
    "sqlContext = SQLContext(sc)"
   ]
  },
  {
   "cell_type": "code",
   "execution_count": 4,
   "metadata": {
    "collapsed": true
   },
   "outputs": [],
   "source": [
    "s_df = sqlContext.read.csv(\"big_data_log/big_data-2019-02-*.log\", sep=';').cache()"
   ]
  },
  {
   "cell_type": "code",
   "execution_count": 5,
   "metadata": {
    "collapsed": true
   },
   "outputs": [],
   "source": [
    "s_products = sqlContext.read.format('jdbc').options(\n",
    "          url='jdbc:mysql://10.1.3.244/tm_datasc',\n",
    "          driver='com.mysql.jdbc.Driver',\n",
    "          dbtable='products',\n",
    "          user='datasc',\n",
    "          password='scdata',\n",
    "          serverTimezone='GMT',\n",
    "          zeroDateTimeBehavior='CONVERT_TO_NULL').load()\n",
    "\n",
    "categories = sqlContext.read.format('jdbc').options(\n",
    "          url='jdbc:mysql://10.1.3.244/tm_datasc',\n",
    "          driver='com.mysql.jdbc.Driver',\n",
    "          dbtable='categories',\n",
    "          user='datasc',\n",
    "          password='scdata',\n",
    "          serverTimezone='GMT',\n",
    "          zeroDateTimeBehavior='CONVERT_TO_NULL').load() \n",
    "          \n",
    "products_categories = sqlContext.read.format('jdbc').options(\n",
    "          url='jdbc:mysql://10.1.3.244/tm_datasc',\n",
    "          driver='com.mysql.jdbc.Driver',\n",
    "          dbtable='products_categories',\n",
    "          user='datasc',\n",
    "          password='scdata',\n",
    "          serverTimezone='GMT',\n",
    "          zeroDateTimeBehavior='CONVERT_TO_NULL').load()\n",
    "          \n",
    "categories_content = sqlContext.read.format('jdbc').options(\n",
    "          url='jdbc:mysql://10.1.3.244/tm_datasc',\n",
    "          driver='com.mysql.jdbc.Driver',\n",
    "          dbtable='categories_content',\n",
    "          user='datasc',\n",
    "          password='scdata',\n",
    "          serverTimezone='GMT',\n",
    "          zeroDateTimeBehavior='CONVERT_TO_NULL').load()\n",
    "          \n",
    "products_content = sqlContext.read.format('jdbc').options(\n",
    "          url='jdbc:mysql://10.1.3.244/tm_datasc',\n",
    "          driver='com.mysql.jdbc.Driver',\n",
    "          dbtable='products_content',\n",
    "          user='datasc',\n",
    "          password='scdata',\n",
    "          serverTimezone='GMT',\n",
    "          zeroDateTimeBehavior='CONVERT_TO_NULL').load()\n",
    "\n",
    "orders = sqlContext.read.format('jdbc').options(\n",
    "          url='jdbc:mysql://10.1.3.244/tm_datasc',\n",
    "          driver='com.mysql.jdbc.Driver',\n",
    "          dbtable='orders',\n",
    "          user='datasc',\n",
    "          password='scdata',\n",
    "          serverTimezone='GMT',\n",
    "          zeroDateTimeBehavior='CONVERT_TO_NULL').load()\n",
    "\n",
    "order_items = sqlContext.read.format('jdbc').options(\n",
    "          url='jdbc:mysql://10.1.3.244/tm_datasc',\n",
    "          driver='com.mysql.jdbc.Driver',\n",
    "          dbtable='order_items',\n",
    "          user='datasc',\n",
    "          password='scdata',\n",
    "          serverTimezone='GMT',\n",
    "          zeroDateTimeBehavior='CONVERT_TO_NULL').load()"
   ]
  },
  {
   "cell_type": "code",
   "execution_count": 7,
   "metadata": {
    "collapsed": true
   },
   "outputs": [],
   "source": [
    "s_df = s_df.selectExpr('_c0 as data_id', \n",
    "                   '_c1 as data_type', \n",
    "                   '_c2 as view_type',\n",
    "                   '_c3 as customer_id',\n",
    "                   '_c4 as vote_index',\n",
    "                   '_c5 as added_qty',\n",
    "                   '_c6 as token',\n",
    "                   '_c7 as log_time',\n",
    "                   '_c8 as session_id',\n",
    "                   '_c9 as ip_address',\n",
    "                   '_c10 as device_type',\n",
    "                   '_c11 as click_success')\n",
    "\n",
    "s_df = s_df.select(s_df.data_id.cast(\"integer\"),\n",
    "               s_df.view_type.cast(\"integer\"),\n",
    "               s_df.data_type.cast(\"integer\"),\n",
    "               s_df.customer_id.cast(\"integer\"),\n",
    "               s_df.added_qty.cast(\"integer\"),\n",
    "               s_df.token.cast(\"string\"),\n",
    "               s_df.log_time.cast(\"string\"),\n",
    "               s_df.session_id.cast(\"string\"),\n",
    "               s_df.ip_address.cast(\"string\"),\n",
    "               s_df.device_type.cast(\"integer\"),\n",
    "               s_df.click_success.cast(\"integer\"))\n",
    "\n",
    "\n",
    "s_df = s_df.fillna({'click_success':'0'})\n",
    "s_df = s_df.fillna({'added_qty':'0'})\n",
    "s_df = s_df.fillna({'data_id':'0'})\n",
    "s_df = s_df.fillna({'view_type':'0'})\n",
    "s_df = s_df.fillna({'data_type':'0'})\n",
    "\n",
    "s_df = s_df.filter(s_df.click_success<3)\n",
    "s_df = s_df.filter(s_df.added_qty<100)\n",
    "s_df = s_df.filter(s_df.view_type<25)\n",
    "s_df = s_df.filter(s_df.data_type<25)\n",
    "s_df = s_df.filter(s_df.device_type<2)\n",
    "s_df = s_df.filter(s_df.click_success<3)"
   ]
  },
  {
   "cell_type": "code",
   "execution_count": 8,
   "metadata": {
    "collapsed": true
   },
   "outputs": [],
   "source": [
    "from pyspark.sql.types import IntegerType, TimestampType\n",
    "from pyspark.sql.functions import unix_timestamp, from_unixtime\n",
    "\n",
    "s_df = s_df.withColumn('log_time', unix_timestamp(\"log_time\", \"yyyy-MM-dd HH:mm:ss\").cast('timestamp').alias(\"log_time\"))\n",
    "s_df = s_df.withColumnRenamed('customer_cookie_token', 'token')\n",
    "s_df = s_df.drop('id')\n",
    "s_df = s_df.cache()"
   ]
  },
  {
   "cell_type": "code",
   "execution_count": 9,
   "metadata": {
    "collapsed": true
   },
   "outputs": [],
   "source": [
    "from pyspark.sql import functions as F\n",
    "from pyspark.sql.functions import *\n",
    "from pyspark.sql.functions import col, size\n",
    "from pyspark.sql.types import IntegerType\n",
    "from pyspark.sql.functions import udf\n",
    "from pyspark.sql.functions import datediff, to_date, lit\n",
    "\n",
    "break_point = '2017-04-29 00:00:00'\n",
    "\n",
    "s_df = s_df.filter(s_df.log_time>break_point)\n",
    "s_df = s_df.withColumn('date', s_df['log_time'].cast('date'))\n",
    "s_df = s_df.withColumn('prod', F.when(s_df.data_type == 1, s_df.data_id).otherwise(0))\n",
    "s_df = s_df.withColumn('cat', F.when(s_df.data_type == 7, s_df.data_id).otherwise(0))\n",
    "s_df = s_df.withColumn('class', F.when(s_df.click_success == 1, s_df.click_success).otherwise(0))"
   ]
  },
  {
   "cell_type": "code",
   "execution_count": 10,
   "metadata": {
    "collapsed": true
   },
   "outputs": [],
   "source": [
    "s_df = s_df.dropDuplicates()"
   ]
  },
  {
   "cell_type": "code",
   "execution_count": 11,
   "metadata": {
    "collapsed": true
   },
   "outputs": [],
   "source": [
    "from pyspark.sql.functions import date_format\n",
    "\n",
    "s_df = s_df.withColumn('year', year(\"log_time\").alias('year'))\n",
    "s_df = s_df.withColumn('month', month(\"log_time\").alias('month'))\n",
    "s_df = s_df.withColumn('wday', date_format('date', 'u'))\n",
    "s_df = s_df.withColumn('hour', hour(\"log_time\").alias('hour'))\n",
    "s_df = s_df.withColumn('minute', minute(\"log_time\").alias('minute'))\n",
    "s_df = s_df.select(s_df.data_id,\n",
    "               s_df.view_type,\n",
    "               s_df.data_type,\n",
    "               s_df.customer_id,\n",
    "               s_df.added_qty,\n",
    "               s_df.token,\n",
    "               s_df.log_time,\n",
    "               s_df.session_id,\n",
    "               s_df.ip_address,\n",
    "               s_df.device_type,\n",
    "               s_df.click_success,\n",
    "               s_df.date,\n",
    "               s_df.prod.cast(\"integer\"),\n",
    "               s_df.cat.cast(\"integer\"),\n",
    "               s_df.year.cast(\"integer\"),\n",
    "               s_df.month.cast(\"integer\"),\n",
    "               s_df.wday.cast(\"integer\"),\n",
    "               s_df.hour.cast(\"integer\"),\n",
    "               s_df.minute.cast(\"integer\"))\n",
    "s_df = s_df.cache()"
   ]
  },
  {
   "cell_type": "code",
   "execution_count": 12,
   "metadata": {
    "collapsed": true
   },
   "outputs": [],
   "source": [
    "s_df = s_df.filter(\"token is not NULL\")\n",
    "s_df = s_df.filter(\"session_id is not NULL\")\n",
    "s_df = s_df.filter(\"log_time is not NULL\")\n",
    "s_df = s_df.filter(\"data_type is not NULL\")\n",
    "s_df = s_df.filter(\"view_type is not NULL\")\n",
    "s_df = s_df.filter(\"added_qty is not NULL\")\n",
    "s_df = s_df.filter(\"year is not NULL\")\n",
    "s_df = s_df.filter(\"month is not NULL\")\n",
    "s_df = s_df.filter(\"wday is not NULL\")\n",
    "s_df = s_df.filter(\"hour is not NULL\")\n",
    "s_df = s_df.filter(\"minute is not NULL\")\n",
    "s_df = s_df.filter(\"prod is not NULL\")"
   ]
  },
  {
   "cell_type": "code",
   "execution_count": 13,
   "metadata": {
    "collapsed": true
   },
   "outputs": [],
   "source": [
    "categories = categories_content.select('category_id', 'name')\n",
    "categories = categories.withColumnRenamed(\"name\", \"category_name\")\n",
    "\n",
    "products_content = products_content.select('product_id', 'name', 'type')\n",
    "products_content = products_content.withColumnRenamed(\"name\", \"product_name\")\n",
    "\n",
    "s_products = s_products.select('product_id', 'brand', 'cena_niza_redovna', 'status')\n",
    "s_products = s_products.withColumnRenamed(\"cena_niza_redovna\", \"price\")\n",
    "s_products = s_products.filter('status==1')"
   ]
  },
  {
   "cell_type": "code",
   "execution_count": 14,
   "metadata": {
    "collapsed": true
   },
   "outputs": [],
   "source": [
    "s_products = s_products.alias('a').join(products_content.alias('b'), s_products['product_id']==products_content['product_id'], 'inner').select('a.product_id', 'b.product_name', 'b.type', 'a.brand', 'a.price')\n",
    "\n",
    "s_products = s_products.alias('a').join(products_categories.alias('b'), s_products['product_id']==products_categories['product_id'], 'inner').select('a.product_id', 'a.product_name', 'a.type', 'b.category_id', 'a.brand', 'a.price')\n",
    "\n",
    "s_products = s_products.alias('a').join(categories.alias('b'), s_products['category_id']==categories['category_id'], 'inner').select('a.product_id', 'a.product_name', 'a.type', 'b.category_id', 'b.category_name','a.brand', 'a.price')"
   ]
  },
  {
   "cell_type": "code",
   "execution_count": 15,
   "metadata": {
    "collapsed": true
   },
   "outputs": [],
   "source": [
    "from pyspark.sql.functions import monotonically_increasing_id\n",
    "\n",
    "tokens = s_df.select('token').distinct()\n",
    "tokens = tokens.withColumn(\"user\", monotonically_increasing_id())\n",
    "\n",
    "tokens = tokens.cache()\n",
    "\n",
    "s_df = s_df.alias('a').join(tokens.alias('b'), s_df['token'] == tokens['token'], 'left')\\\n",
    ".select('a.data_id', 'a.view_type', 'a.data_type', 'a.customer_id', 'a.added_qty', 'a.token', 'b.user', 'a.log_time', 'a.ip_address', 'a.session_id', 'a.device_type', 'a.click_success', 'a.prod', 'a.cat', 'a.date','a.year', 'a.month', 'a.wday', 'a.hour', 'a.minute')\\\n",
    ".cache()"
   ]
  },
  {
   "cell_type": "code",
   "execution_count": 16,
   "metadata": {},
   "outputs": [
    {
     "data": {
      "text/plain": [
       "1670512"
      ]
     },
     "execution_count": 16,
     "metadata": {},
     "output_type": "execute_result"
    }
   ],
   "source": [
    "s_df.count()"
   ]
  },
  {
   "cell_type": "code",
   "execution_count": 17,
   "metadata": {
    "scrolled": true
   },
   "outputs": [
    {
     "name": "stdout",
     "output_type": "stream",
     "text": [
      "+-------+---------+---------+-----------+---------+--------------------+----+-------------------+---------------+--------------------+-----------+-------------+------+---+----------+----+-----+----+----+------+\n",
      "|data_id|view_type|data_type|customer_id|added_qty|               token|user|           log_time|     ip_address|          session_id|device_type|click_success|  prod|cat|      date|year|month|wday|hour|minute|\n",
      "+-------+---------+---------+-----------+---------+--------------------+----+-------------------+---------------+--------------------+-----------+-------------+------+---+----------+----+-----+----+----+------+\n",
      "|  75936|        7|        1|          0|        0|000344tlgncv5k5lr...|1059|2019-02-03 19:59:03|   66.249.92.33|000344tlgncv5k5lr...|          0|            0| 75936|  0|2019-02-03|2019|    2|   7|  19|    59|\n",
      "| 128207|        7|        1|          0|        0|00750610f0d326cb6...| 235|2019-02-08 18:07:20|  93.87.106.241|pvt567f3l2oaadded...|          0|            0|128207|  0|2019-02-08|2019|    2|   5|  18|     7|\n",
      "|  54930|        7|        1|          0|        0|00750610f0d326cb6...| 235|2019-02-01 23:49:19|  93.87.106.241|a0spcb3mqb8go620o...|          0|            0| 54930|  0|2019-02-01|2019|    2|   5|  23|    49|\n",
      "| 132273|        7|        1|          0|        0|00mlb31pvvj1oe6vl...|2352|2019-02-07 10:45:49|  173.44.48.117|00mlb31pvvj1oe6vl...|          0|            0|132273|  0|2019-02-07|2019|    2|   4|  10|    45|\n",
      "|  76555|        7|        1|          0|        0|0105026b2cbfd2563...| 840|2019-02-06 21:49:20|  82.117.197.90|vf04ljaaohjvgmf0t...|          1|            0| 76555|  0|2019-02-06|2019|    2|   3|  21|    49|\n",
      "|  80049|        7|        1|          0|        0|01bgiqc91ncg9dahj...|1911|2019-02-07 16:13:23|  157.55.39.117|01bgiqc91ncg9dahj...|          1|            0| 80049|  0|2019-02-07|2019|    2|   4|  16|    13|\n",
      "|  74166|        7|        1|          0|        0|01bqoto4dopl589qn...|3433|2019-02-05 01:48:50|   52.50.86.106|01bqoto4dopl589qn...|          0|            0| 74166|  0|2019-02-05|2019|    2|   2|   1|    48|\n",
      "|  84668|        7|        1|          0|        0|01j902pmva808c507...| 736|2019-02-05 12:10:56|   207.46.13.92|01j902pmva808c507...|          0|            0| 84668|  0|2019-02-05|2019|    2|   2|  12|    10|\n",
      "|  48456|        7|        1|          0|        0|01k9f6eolqs83qmjn...|3603|2019-01-31 21:57:20|  54.36.148.241|01k9f6eolqs83qmjn...|          0|            0| 48456|  0|2019-01-31|2019|    1|   4|  21|    57|\n",
      "|  82073|        7|        1|          0|        0|01nac94btjdffvnnu...|2760|2019-02-09 07:45:39| 185.50.184.234|01nac94btjdffvnnu...|          1|            0| 82073|  0|2019-02-09|2019|    2|   6|   7|    45|\n",
      "| 127764|        7|        1|          0|        0|01s4g313rf852aad1...|  95|2019-02-08 08:04:40|109.245.227.225|01s4g313rf852aad1...|          1|            0|127764|  0|2019-02-08|2019|    2|   5|   8|     4|\n",
      "|  82734|        7|        1|          0|        0|01s4g313rf852aad1...|  95|2019-02-08 08:03:34|109.245.227.225|01s4g313rf852aad1...|          1|            0| 82734|  0|2019-02-08|2019|    2|   5|   8|     3|\n",
      "|  58957|        7|        1|          0|        0|02q0bm4djeobaahct...| 298|2019-02-05 17:52:40| 178.149.135.22|c53dmiommecqcnbqs...|          1|            0| 58957|  0|2019-02-05|2019|    2|   2|  17|    52|\n",
      "|  58957|        7|        1|          0|        0|02q0bm4djeobaahct...| 298|2019-02-05 18:00:39| 178.149.135.22|c53dmiommecqcnbqs...|          1|            0| 58957|  0|2019-02-05|2019|    2|   2|  18|     0|\n",
      "|  58535|        7|        1|          0|        0|02q0bm4djeobaahct...| 298|2019-02-05 17:51:40| 178.149.135.22|c53dmiommecqcnbqs...|          1|            0| 58535|  0|2019-02-05|2019|    2|   2|  17|    51|\n",
      "|  58958|        7|        1|          0|        0|02q0bm4djeobaahct...| 298|2019-02-05 17:52:18| 178.149.135.22|c53dmiommecqcnbqs...|          1|            0| 58958|  0|2019-02-05|2019|    2|   2|  17|    52|\n",
      "| 126288|        7|        1|          0|        0|02q0bm4djeobaahct...| 298|2019-02-05 17:53:38| 178.149.135.22|c53dmiommecqcnbqs...|          1|            0|126288|  0|2019-02-05|2019|    2|   2|  17|    53|\n",
      "| 134972|        7|        1|          0|        0|03202a259b9a35678...| 412|2019-02-03 18:25:23| 79.175.110.124|es229da5l62kunbb6...|          1|            0|134972|  0|2019-02-03|2019|    2|   7|  18|    25|\n",
      "|  80624|        7|        1|          0|        0|039cb72craro5mi11...|2362|2019-01-31 04:54:20|148.251.133.233|039cb72craro5mi11...|          0|            0| 80624|  0|2019-01-31|2019|    1|   4|   4|    54|\n",
      "| 125268|        7|        1|          0|        0|03skqsb5g9liv261a...|1604|2019-02-09 08:18:55|  37.19.109.252|dts4sd2vsf0dr8nqe...|          0|            0|125268|  0|2019-02-09|2019|    2|   6|   8|    18|\n",
      "+-------+---------+---------+-----------+---------+--------------------+----+-------------------+---------------+--------------------+-----------+-------------+------+---+----------+----+-----+----+----+------+\n",
      "only showing top 20 rows\n",
      "\n"
     ]
    }
   ],
   "source": [
    "s_df.show()"
   ]
  },
  {
   "cell_type": "code",
   "execution_count": 18,
   "metadata": {},
   "outputs": [
    {
     "name": "stdout",
     "output_type": "stream",
     "text": [
      "root\n",
      " |-- data_id: integer (nullable = true)\n",
      " |-- view_type: integer (nullable = true)\n",
      " |-- data_type: integer (nullable = true)\n",
      " |-- customer_id: integer (nullable = true)\n",
      " |-- added_qty: integer (nullable = true)\n",
      " |-- token: string (nullable = true)\n",
      " |-- user: long (nullable = true)\n",
      " |-- log_time: timestamp (nullable = true)\n",
      " |-- ip_address: string (nullable = true)\n",
      " |-- session_id: string (nullable = true)\n",
      " |-- device_type: integer (nullable = true)\n",
      " |-- click_success: integer (nullable = true)\n",
      " |-- prod: integer (nullable = true)\n",
      " |-- cat: integer (nullable = true)\n",
      " |-- date: date (nullable = true)\n",
      " |-- year: integer (nullable = true)\n",
      " |-- month: integer (nullable = true)\n",
      " |-- wday: integer (nullable = true)\n",
      " |-- hour: integer (nullable = true)\n",
      " |-- minute: integer (nullable = true)\n",
      "\n"
     ]
    }
   ],
   "source": [
    "s_df.printSchema()"
   ]
  },
  {
   "cell_type": "code",
   "execution_count": 19,
   "metadata": {
    "scrolled": true
   },
   "outputs": [
    {
     "data": {
      "text/plain": [
       "7624"
      ]
     },
     "execution_count": 19,
     "metadata": {},
     "output_type": "execute_result"
    }
   ],
   "source": [
    "s_df = s_df.filter(\"customer_id>0\")\n",
    "s_df.count()"
   ]
  },
  {
   "cell_type": "code",
   "execution_count": 20,
   "metadata": {
    "collapsed": true
   },
   "outputs": [],
   "source": [
    "s_df = s_df.withColumn(\"current_date\", F.date_format(F.current_date(), \"y-M-d\")).withColumn(\"log_date\", F.date_format(s_df.date, \"y-M-d\"))\n",
    "s_df = s_df.withColumn('current_date', s_df['current_date'].cast('date'))\n",
    "s_df = s_df.withColumn('log_date', s_df['log_date'].cast('date'))\n",
    "s_df = s_df.withColumn(\"days_between\", F.datediff(s_df.current_date, s_df.date))"
   ]
  },
  {
   "cell_type": "code",
   "execution_count": 21,
   "metadata": {},
   "outputs": [
    {
     "name": "stdout",
     "output_type": "stream",
     "text": [
      "root\n",
      " |-- data_id: integer (nullable = true)\n",
      " |-- view_type: integer (nullable = true)\n",
      " |-- data_type: integer (nullable = true)\n",
      " |-- customer_id: integer (nullable = true)\n",
      " |-- added_qty: integer (nullable = true)\n",
      " |-- token: string (nullable = true)\n",
      " |-- user: long (nullable = true)\n",
      " |-- log_time: timestamp (nullable = true)\n",
      " |-- ip_address: string (nullable = true)\n",
      " |-- session_id: string (nullable = true)\n",
      " |-- device_type: integer (nullable = true)\n",
      " |-- click_success: integer (nullable = true)\n",
      " |-- prod: integer (nullable = true)\n",
      " |-- cat: integer (nullable = true)\n",
      " |-- date: date (nullable = true)\n",
      " |-- year: integer (nullable = true)\n",
      " |-- month: integer (nullable = true)\n",
      " |-- wday: integer (nullable = true)\n",
      " |-- hour: integer (nullable = true)\n",
      " |-- minute: integer (nullable = true)\n",
      " |-- current_date: date (nullable = true)\n",
      " |-- log_date: date (nullable = true)\n",
      " |-- days_between: integer (nullable = true)\n",
      "\n"
     ]
    }
   ],
   "source": [
    "s_df.printSchema()"
   ]
  },
  {
   "cell_type": "code",
   "execution_count": 22,
   "metadata": {
    "scrolled": false
   },
   "outputs": [
    {
     "name": "stdout",
     "output_type": "stream",
     "text": [
      "+-----------+----------+------------+\n",
      "|customer_id|  log_date|days_between|\n",
      "+-----------+----------+------------+\n",
      "|      32477|2019-02-04|           8|\n",
      "|     544369|2019-02-02|          10|\n",
      "|     544369|2019-02-02|          10|\n",
      "|     544369|2019-02-02|          10|\n",
      "|     544369|2019-02-02|          10|\n",
      "|     544369|2019-02-02|          10|\n",
      "|     544369|2019-02-02|          10|\n",
      "|     544369|2019-02-02|          10|\n",
      "|     208691|2019-02-10|           2|\n",
      "|     208691|2019-02-10|           2|\n",
      "|     156367|2019-02-05|           7|\n",
      "|     444110|2019-02-06|           6|\n",
      "|     444110|2019-02-06|           6|\n",
      "|     444110|2019-02-06|           6|\n",
      "|     444110|2019-02-06|           6|\n",
      "|     528559|2019-02-06|           6|\n",
      "|     528559|2019-02-06|           6|\n",
      "|     528559|2019-02-06|           6|\n",
      "|     528559|2019-02-06|           6|\n",
      "|     528559|2019-02-06|           6|\n",
      "+-----------+----------+------------+\n",
      "only showing top 20 rows\n",
      "\n"
     ]
    }
   ],
   "source": [
    "s_df.select(\"customer_id\", \"log_date\", \"days_between\").show()"
   ]
  },
  {
   "cell_type": "code",
   "execution_count": 23,
   "metadata": {
    "collapsed": true
   },
   "outputs": [],
   "source": [
    "from pyspark.sql.window import Window\n",
    "from pyspark.sql.functions import rank, col\n",
    "\n",
    "window = Window.partitionBy(s_df['customer_id']).orderBy(s_df['log_date'].asc())"
   ]
  },
  {
   "cell_type": "code",
   "execution_count": 24,
   "metadata": {
    "collapsed": true
   },
   "outputs": [],
   "source": [
    "n=1\n",
    "first_transaction = s_df.select(col('customer_id'), col('log_date'), row_number().over(window).alias('row_number')) \\\n",
    "  .where(col('row_number') <= n).drop('row_number')"
   ]
  },
  {
   "cell_type": "code",
   "execution_count": 25,
   "metadata": {
    "collapsed": true
   },
   "outputs": [],
   "source": [
    "first_transaction = first_transaction.withColumnRenamed('log_date', 'first_transaction')"
   ]
  },
  {
   "cell_type": "code",
   "execution_count": 26,
   "metadata": {
    "collapsed": true
   },
   "outputs": [],
   "source": [
    "window = Window.partitionBy(s_df['customer_id']).orderBy(s_df['log_date'].desc())"
   ]
  },
  {
   "cell_type": "code",
   "execution_count": 27,
   "metadata": {
    "collapsed": true
   },
   "outputs": [],
   "source": [
    "last_transaction = s_df.select(col('customer_id'), col('log_date'), row_number().over(window).alias('row_number')) \\\n",
    "  .where(col('row_number') <= n).drop('row_number')"
   ]
  },
  {
   "cell_type": "code",
   "execution_count": 28,
   "metadata": {
    "collapsed": true
   },
   "outputs": [],
   "source": [
    "last_transaction = last_transaction.withColumnRenamed('log_date', 'last_transaction')"
   ]
  },
  {
   "cell_type": "code",
   "execution_count": 29,
   "metadata": {
    "collapsed": true
   },
   "outputs": [],
   "source": [
    "#shopping_frequency (num of orders per customer_id)\n",
    "frequency = s_df.groupBy(\"customer_id\", \"data_type\").count().filter(\"data_type==11\").orderBy(\"count\", ascending=False).drop('data_type')"
   ]
  },
  {
   "cell_type": "code",
   "execution_count": 30,
   "metadata": {
    "collapsed": true
   },
   "outputs": [],
   "source": [
    "#recency (difference between last transaction and today)\n",
    "recency = last_transaction.withColumn(\"current_date\", F.date_format(F.current_date(), \"y-M-d\")).withColumn(\"log_date\", F.date_format(last_transaction.last_transaction, \"y-M-d\"))\n",
    "recency = recency.withColumn(\"days_between\", F.datediff(recency.current_date, recency.last_transaction))\n",
    "recency = recency.withColumnRenamed('days_between','recency').drop('last_transaction', 'current_date')"
   ]
  },
  {
   "cell_type": "code",
   "execution_count": 31,
   "metadata": {
    "collapsed": true
   },
   "outputs": [],
   "source": [
    "length = first_transaction.join(last_transaction, ['customer_id'], 'inner')"
   ]
  },
  {
   "cell_type": "code",
   "execution_count": 32,
   "metadata": {
    "collapsed": true
   },
   "outputs": [],
   "source": [
    "length = length.withColumn(\"length\", F.datediff(length.last_transaction, length.first_transaction))"
   ]
  },
  {
   "cell_type": "code",
   "execution_count": 33,
   "metadata": {},
   "outputs": [
    {
     "name": "stdout",
     "output_type": "stream",
     "text": [
      "+-----------+-----------------+----------------+------+\n",
      "|customer_id|first_transaction|last_transaction|length|\n",
      "+-----------+-----------------+----------------+------+\n",
      "|      94819|       2019-02-02|      2019-02-02|     0|\n",
      "|     413073|       2019-01-31|      2019-01-31|     0|\n",
      "|     459999|       2019-02-07|      2019-02-07|     0|\n",
      "|     493490|       2019-02-07|      2019-02-07|     0|\n",
      "|     547213|       2019-02-08|      2019-02-09|     1|\n",
      "|     105437|       2019-01-31|      2019-02-08|     8|\n",
      "|     444553|       2019-01-31|      2019-01-31|     0|\n",
      "|     544177|       2019-01-31|      2019-01-31|     0|\n",
      "|     545725|       2019-02-05|      2019-02-05|     0|\n",
      "|     545792|       2019-02-05|      2019-02-05|     0|\n",
      "|     546883|       2019-02-07|      2019-02-07|     0|\n",
      "|     502742|       2019-02-01|      2019-02-07|     6|\n",
      "|     544777|       2019-02-01|      2019-02-02|     1|\n",
      "|     546284|       2019-02-06|      2019-02-06|     0|\n",
      "|     546829|       2019-02-07|      2019-02-08|     1|\n",
      "|     547827|       2019-02-10|      2019-02-10|     0|\n",
      "|      18884|       2019-02-08|      2019-02-10|     2|\n",
      "|     439105|       2019-02-09|      2019-02-09|     0|\n",
      "|     543014|       2019-02-01|      2019-02-01|     0|\n",
      "|     544035|       2019-01-31|      2019-01-31|     0|\n",
      "|     544231|       2019-01-31|      2019-01-31|     0|\n",
      "|     544909|       2019-02-02|      2019-02-02|     0|\n",
      "|     545186|       2019-02-03|      2019-02-06|     3|\n",
      "|     545983|       2019-02-06|      2019-02-06|     0|\n",
      "|     547143|       2019-02-08|      2019-02-08|     0|\n",
      "|     547683|       2019-02-09|      2019-02-09|     0|\n",
      "|     548108|       2019-02-10|      2019-02-10|     0|\n",
      "|     548127|       2019-02-10|      2019-02-10|     0|\n",
      "|       6934|       2019-02-08|      2019-02-08|     0|\n",
      "|     403364|       2019-02-07|      2019-02-07|     0|\n",
      "|     418394|       2019-02-09|      2019-02-09|     0|\n",
      "|     510945|       2019-02-02|      2019-02-02|     0|\n",
      "|     519133|       2019-01-31|      2019-02-06|     6|\n",
      "|     535431|       2019-02-07|      2019-02-08|     1|\n",
      "|     543638|       2019-02-09|      2019-02-09|     0|\n",
      "|     544742|       2019-02-01|      2019-02-07|     6|\n",
      "|     545546|       2019-02-04|      2019-02-04|     0|\n",
      "|     547645|       2019-02-09|      2019-02-09|     0|\n",
      "|     534476|       2019-02-06|      2019-02-06|     0|\n",
      "|     541850|       2019-01-31|      2019-02-01|     1|\n",
      "|     544347|       2019-01-31|      2019-01-31|     0|\n",
      "|     544449|       2019-01-31|      2019-01-31|     0|\n",
      "|     545024|       2019-02-02|      2019-02-03|     1|\n",
      "|     546758|       2019-02-07|      2019-02-07|     0|\n",
      "|     546969|       2019-02-07|      2019-02-07|     0|\n",
      "|     548079|       2019-02-10|      2019-02-10|     0|\n",
      "|     321599|       2019-02-02|      2019-02-02|     0|\n",
      "|     342735|       2019-02-02|      2019-02-02|     0|\n",
      "|     416151|       2019-02-06|      2019-02-06|     0|\n",
      "|     538226|       2019-02-05|      2019-02-05|     0|\n",
      "|     206277|       2019-02-08|      2019-02-08|     0|\n",
      "|     381320|       2019-02-06|      2019-02-08|     2|\n",
      "|     469723|       2019-02-02|      2019-02-02|     0|\n",
      "|     506739|       2019-02-05|      2019-02-05|     0|\n",
      "|     545324|       2019-02-04|      2019-02-04|     0|\n",
      "|     545900|       2019-02-06|      2019-02-06|     0|\n",
      "|     546698|       2019-02-07|      2019-02-07|     0|\n",
      "|     547070|       2019-02-08|      2019-02-08|     0|\n",
      "|     547545|       2019-02-09|      2019-02-09|     0|\n",
      "|     538647|       2019-02-02|      2019-02-02|     0|\n",
      "|     544748|       2019-02-01|      2019-02-01|     0|\n",
      "|     545599|       2019-02-06|      2019-02-06|     0|\n",
      "|      16544|       2019-02-06|      2019-02-07|     1|\n",
      "|     478280|       2019-01-31|      2019-01-31|     0|\n",
      "|     536529|       2019-01-31|      2019-01-31|     0|\n",
      "|     545445|       2019-02-04|      2019-02-04|     0|\n",
      "|     546896|       2019-02-07|      2019-02-07|     0|\n",
      "|     547082|       2019-02-08|      2019-02-08|     0|\n",
      "|      13751|       2019-02-07|      2019-02-10|     3|\n",
      "|     103761|       2019-02-06|      2019-02-08|     2|\n",
      "|     543843|       2019-02-05|      2019-02-05|     0|\n",
      "|     544262|       2019-01-31|      2019-01-31|     0|\n",
      "|     546225|       2019-02-06|      2019-02-06|     0|\n",
      "|     546716|       2019-02-07|      2019-02-07|     0|\n",
      "|     529730|       2019-02-04|      2019-02-04|     0|\n",
      "|     541827|       2019-01-31|      2019-01-31|     0|\n",
      "|     545277|       2019-02-03|      2019-02-04|     1|\n",
      "|     545498|       2019-02-04|      2019-02-04|     0|\n",
      "|     546938|       2019-02-07|      2019-02-07|     0|\n",
      "|     547238|       2019-02-08|      2019-02-08|     0|\n",
      "|     493441|       2019-02-07|      2019-02-07|     0|\n",
      "|     507397|       2019-02-03|      2019-02-03|     0|\n",
      "|     547107|       2019-02-08|      2019-02-08|     0|\n",
      "|     548072|       2019-02-10|      2019-02-10|     0|\n",
      "|     327457|       2019-02-04|      2019-02-07|     3|\n",
      "|     415076|       2019-01-31|      2019-01-31|     0|\n",
      "|     545835|       2019-02-05|      2019-02-05|     0|\n",
      "|     545847|       2019-02-05|      2019-02-05|     0|\n",
      "|     547089|       2019-02-08|      2019-02-08|     0|\n",
      "|      31747|       2019-01-31|      2019-01-31|     0|\n",
      "|     237621|       2019-02-06|      2019-02-08|     2|\n",
      "|     355766|       2019-02-01|      2019-02-02|     1|\n",
      "|     445225|       2019-02-03|      2019-02-03|     0|\n",
      "|     546519|       2019-02-06|      2019-02-06|     0|\n",
      "|     547489|       2019-02-09|      2019-02-09|     0|\n",
      "|      46591|       2019-02-08|      2019-02-08|     0|\n",
      "|     544509|       2019-01-31|      2019-01-31|     0|\n",
      "|     546055|       2019-02-06|      2019-02-06|     0|\n",
      "|       2778|       2019-02-06|      2019-02-10|     4|\n",
      "|      91833|       2019-02-09|      2019-02-09|     0|\n",
      "+-----------+-----------------+----------------+------+\n",
      "only showing top 100 rows\n",
      "\n"
     ]
    }
   ],
   "source": [
    "length.show(100)"
   ]
  },
  {
   "cell_type": "code",
   "execution_count": 34,
   "metadata": {},
   "outputs": [
    {
     "name": "stdout",
     "output_type": "stream",
     "text": [
      "root\n",
      " |-- customer_id: integer (nullable = true)\n",
      " |-- first_transaction: date (nullable = true)\n",
      " |-- last_transaction: date (nullable = true)\n",
      " |-- length: integer (nullable = true)\n",
      "\n"
     ]
    }
   ],
   "source": [
    "length.printSchema()"
   ]
  },
  {
   "cell_type": "code",
   "execution_count": 35,
   "metadata": {},
   "outputs": [
    {
     "name": "stdout",
     "output_type": "stream",
     "text": [
      "root\n",
      " |-- customer_id: integer (nullable = true)\n",
      " |-- log_date: string (nullable = true)\n",
      " |-- recency: integer (nullable = true)\n",
      "\n"
     ]
    }
   ],
   "source": [
    "recency.printSchema()"
   ]
  },
  {
   "cell_type": "code",
   "execution_count": 36,
   "metadata": {
    "collapsed": true
   },
   "outputs": [],
   "source": [
    "#fali monetary i frequency"
   ]
  },
  {
   "cell_type": "code",
   "execution_count": 37,
   "metadata": {},
   "outputs": [
    {
     "name": "stdout",
     "output_type": "stream",
     "text": [
      "root\n",
      " |-- data_id: integer (nullable = true)\n",
      " |-- view_type: integer (nullable = true)\n",
      " |-- data_type: integer (nullable = true)\n",
      " |-- customer_id: integer (nullable = true)\n",
      " |-- added_qty: integer (nullable = true)\n",
      " |-- token: string (nullable = true)\n",
      " |-- user: long (nullable = true)\n",
      " |-- log_time: timestamp (nullable = true)\n",
      " |-- ip_address: string (nullable = true)\n",
      " |-- session_id: string (nullable = true)\n",
      " |-- device_type: integer (nullable = true)\n",
      " |-- click_success: integer (nullable = true)\n",
      " |-- prod: integer (nullable = true)\n",
      " |-- cat: integer (nullable = true)\n",
      " |-- date: date (nullable = true)\n",
      " |-- year: integer (nullable = true)\n",
      " |-- month: integer (nullable = true)\n",
      " |-- wday: integer (nullable = true)\n",
      " |-- hour: integer (nullable = true)\n",
      " |-- minute: integer (nullable = true)\n",
      " |-- current_date: date (nullable = true)\n",
      " |-- log_date: date (nullable = true)\n",
      " |-- days_between: integer (nullable = true)\n",
      "\n"
     ]
    }
   ],
   "source": [
    "s_df.printSchema()"
   ]
  },
  {
   "cell_type": "code",
   "execution_count": 38,
   "metadata": {
    "collapsed": true
   },
   "outputs": [],
   "source": [
    "frequency = s_df.groupBy(\"customer_id\").count().withColumnRenamed(\"count\", \"frequency\")"
   ]
  },
  {
   "cell_type": "code",
   "execution_count": 39,
   "metadata": {},
   "outputs": [
    {
     "name": "stdout",
     "output_type": "stream",
     "text": [
      "+-----------+---------+\n",
      "|customer_id|frequency|\n",
      "+-----------+---------+\n",
      "|     547213|       19|\n",
      "|     493490|        3|\n",
      "|     459999|        3|\n",
      "|      94819|        2|\n",
      "|     413073|        3|\n",
      "|     544177|        4|\n",
      "|     444553|        2|\n",
      "|     545725|        6|\n",
      "|     105437|        6|\n",
      "|     546883|        8|\n",
      "|     545792|       14|\n",
      "|     546829|        4|\n",
      "|     544777|       47|\n",
      "|     502742|        3|\n",
      "|     547827|        5|\n",
      "|     546284|        2|\n",
      "|     545983|        2|\n",
      "|     545186|        8|\n",
      "|     543014|        1|\n",
      "|     544231|        3|\n",
      "+-----------+---------+\n",
      "only showing top 20 rows\n",
      "\n"
     ]
    }
   ],
   "source": [
    "frequency.show()"
   ]
  },
  {
   "cell_type": "code",
   "execution_count": 40,
   "metadata": {
    "collapsed": true
   },
   "outputs": [],
   "source": [
    "monetary = s_df.filter(\"data_type==11\")"
   ]
  },
  {
   "cell_type": "code",
   "execution_count": 41,
   "metadata": {
    "collapsed": true
   },
   "outputs": [],
   "source": [
    "orders = orders.select(\"order_id\", \"customer_id\", \"total_value\")"
   ]
  },
  {
   "cell_type": "code",
   "execution_count": 42,
   "metadata": {
    "collapsed": true
   },
   "outputs": [],
   "source": [
    "monetary = monetary.join(orders, monetary['data_id']==orders['order_id'], 'inner').select(monetary['customer_id'], 'total_value')"
   ]
  },
  {
   "cell_type": "code",
   "execution_count": 43,
   "metadata": {
    "collapsed": true
   },
   "outputs": [],
   "source": [
    "monetary = monetary.groupBy(\"customer_id\").sum()"
   ]
  },
  {
   "cell_type": "code",
   "execution_count": 44,
   "metadata": {
    "collapsed": true
   },
   "outputs": [],
   "source": [
    "monetary = monetary.drop(\"sum(customer_id)\").withColumnRenamed(\"sum(total_value)\", \"monetary\")"
   ]
  },
  {
   "cell_type": "code",
   "execution_count": 45,
   "metadata": {},
   "outputs": [
    {
     "name": "stdout",
     "output_type": "stream",
     "text": [
      "+-----------+--------+\n",
      "|customer_id|monetary|\n",
      "+-----------+--------+\n",
      "|     413073|   29479|\n",
      "|     459999|   29499|\n",
      "|      94819|   33051|\n",
      "|     444553|    2580|\n",
      "|     545792|   34290|\n",
      "|     105437|   21591|\n",
      "|     546284|    5990|\n",
      "|     545983|    7999|\n",
      "|     547143|    1788|\n",
      "|     544035|    5390|\n",
      "|     547683|   47898|\n",
      "|     544231|    3861|\n",
      "|     547645|   37399|\n",
      "|     519133|   49090|\n",
      "|     545546|    3699|\n",
      "|     544347|   35991|\n",
      "|     541850|   65980|\n",
      "|     546758|   24439|\n",
      "|     545024|   25990|\n",
      "|     546969|    2029|\n",
      "+-----------+--------+\n",
      "only showing top 20 rows\n",
      "\n"
     ]
    }
   ],
   "source": [
    "monetary.show()"
   ]
  },
  {
   "cell_type": "code",
   "execution_count": 46,
   "metadata": {},
   "outputs": [
    {
     "name": "stdout",
     "output_type": "stream",
     "text": [
      "Monetary:  614\n",
      "Frequency:  1224\n",
      "Length:  1224\n",
      "Recency:  1224\n"
     ]
    }
   ],
   "source": [
    "print(\"Monetary: \",monetary.count())\n",
    "print(\"Frequency: \",frequency.count())\n",
    "print(\"Length: \",length.count())\n",
    "print(\"Recency: \",recency.count())"
   ]
  },
  {
   "cell_type": "code",
   "execution_count": 47,
   "metadata": {
    "collapsed": true
   },
   "outputs": [],
   "source": [
    "lrfm = frequency.join(length, ['customer_id'], 'inner').join(recency, ['customer_id'], 'inner').join(monetary, ['customer_id'], 'left').fillna(0)"
   ]
  },
  {
   "cell_type": "code",
   "execution_count": 48,
   "metadata": {
    "collapsed": true
   },
   "outputs": [],
   "source": [
    "lrfm = lrfm.drop(\"first_transaction\", \"last_transaction\", \"log_date\")"
   ]
  },
  {
   "cell_type": "code",
   "execution_count": 49,
   "metadata": {
    "scrolled": true
   },
   "outputs": [
    {
     "name": "stdout",
     "output_type": "stream",
     "text": [
      "+-----------+---------+------+-------+--------+\n",
      "|customer_id|frequency|length|recency|monetary|\n",
      "+-----------+---------+------+-------+--------+\n",
      "|      94819|        2|     0|     10|   33051|\n",
      "|     413073|        3|     0|     12|   29479|\n",
      "|     459999|        3|     0|      5|   29499|\n",
      "|     493490|        3|     0|      5|       0|\n",
      "|     547213|       19|     1|      3|       0|\n",
      "|     105437|        6|     8|      4|   21591|\n",
      "|     444553|        2|     0|     12|    2580|\n",
      "|     544177|        4|     0|     12|       0|\n",
      "|     545725|        6|     0|      7|       0|\n",
      "|     545792|       14|     0|      7|   34290|\n",
      "|     546883|        8|     0|      5|       0|\n",
      "|     502742|        3|     6|      5|       0|\n",
      "|     544777|       47|     1|     10|       0|\n",
      "|     546284|        2|     0|      6|    5990|\n",
      "|     546829|        4|     1|      4|       0|\n",
      "|     547827|        5|     0|      2|       0|\n",
      "|      18884|       24|     2|      2|       0|\n",
      "|     439105|        2|     0|      3|       0|\n",
      "|     543014|        1|     0|     11|       0|\n",
      "|     544035|        2|     0|     12|    5390|\n",
      "+-----------+---------+------+-------+--------+\n",
      "only showing top 20 rows\n",
      "\n"
     ]
    }
   ],
   "source": [
    "lrfm.show()"
   ]
  },
  {
   "cell_type": "code",
   "execution_count": 51,
   "metadata": {
    "collapsed": true
   },
   "outputs": [],
   "source": [
    "pseudo_products = sqlContext.read.csv(\"cbr.csv\", sep=',', header = True).cache()"
   ]
  },
  {
   "cell_type": "code",
   "execution_count": 59,
   "metadata": {
    "collapsed": true
   },
   "outputs": [],
   "source": [
    "customer_category = s_df.join(s_products, s_df['prod']==s_products['product_id'], 'inner').select('customer_id', 'product_id', 'category_name')"
   ]
  },
  {
   "cell_type": "code",
   "execution_count": 60,
   "metadata": {},
   "outputs": [
    {
     "name": "stdout",
     "output_type": "stream",
     "text": [
      "+-----------+----------+--------------------+\n",
      "|customer_id|product_id|       category_name|\n",
      "+-----------+----------+--------------------+\n",
      "|     545151|     40634|Samostalne mikrot...|\n",
      "|     545151|     40634|Samostalne mikrot...|\n",
      "|     545151|     40634|Samostalne mikrot...|\n",
      "|     545151|     40634|Samostalne mikrot...|\n",
      "|     542642|     40634|Samostalne mikrot...|\n",
      "|     542642|     40634|Samostalne mikrot...|\n",
      "|     542642|     40634|Samostalne mikrot...|\n",
      "|     542642|     40634|Samostalne mikrot...|\n",
      "|     542642|     40634|Samostalne mikrot...|\n",
      "|     273903|     49586|       Salamoreznice|\n",
      "|     235193|     58289|             Tiganji|\n",
      "|     191841|     62895|Wi-Fi, Bluetooth ...|\n",
      "|     235193|     63710|      Inverter klime|\n",
      "|     536425|     63710|      Inverter klime|\n",
      "|     536425|     63710|      Inverter klime|\n",
      "|     327457|     67148|       Ugradne ploče|\n",
      "|     462351|     67148|       Ugradne ploče|\n",
      "|     462351|     67148|       Ugradne ploče|\n",
      "|     544777|     74723|      Inverter klime|\n",
      "|     545805|     74723|      Inverter klime|\n",
      "+-----------+----------+--------------------+\n",
      "only showing top 20 rows\n",
      "\n"
     ]
    }
   ],
   "source": [
    "customer_category.show()"
   ]
  },
  {
   "cell_type": "code",
   "execution_count": 61,
   "metadata": {
    "collapsed": true
   },
   "outputs": [],
   "source": [
    "from pyspark.sql import functions as F\n",
    "\n",
    "grouped = customer_category.groupBy(\"customer_id\", \"category_name\").count()\n",
    "pivoted = grouped.groupBy(\"customer_id\").pivot(\"category_name\").agg(F.sum(F.col(\"count\")))\n",
    "pivoted = pivoted.na.fill(0)"
   ]
  },
  {
   "cell_type": "code",
   "execution_count": 65,
   "metadata": {
    "collapsed": true
   },
   "outputs": [],
   "source": [
    "pivoted = pivoted.join(lrfm, ['customer_id'], 'inner')"
   ]
  },
  {
   "cell_type": "code",
   "execution_count": 66,
   "metadata": {},
   "outputs": [
    {
     "name": "stdout",
     "output_type": "stream",
     "text": [
      "+-----------+----------------------------+--------------+------------------------+-------------------+-------------------+--------------------------+----------------------------+---------------------------+-----------------------------+-------------------+-------------------+----------------+------------------------------+-----------+--------------------------------+----------+-------------+----------------+----------------+----------------+-------+-----------------------------+---------------+---------------+--------------------------+-------------------+---+--------------------+----------------+--------------------+-----------------------+----------+----------------+------------------+---------------------------------+--------------------------+--------------------------+-------------------------+---------------------------+-------+--------------------------------+---------------------+-----------------+-------------------+--------------------------+------------------+---------+------+--------------+--------------+-------------------------+------+-------------+-------+---------------------------+--------------+---------+---------+-----------------------+-----------------+-------------------+--------------+-------+----------+------------------+----------------------------+----+-----------+------------------------------+------------------+-------------------+---------------------+-------------------+-------+--------------+----------------+----------------+--------------+---------------+-----------+--------+-------------+--------------+-------------------------------+---------------------+----------------------+------------------+--------------------+---------+------------------+-----------+------------+-----------+------------+------+--------+-------------+------------+-------------+--------------------+---------+---------------+--------------+-----------+-----------------------------+-------------------+----------------+-----------------------+----------------------------+--------------------+-----------------------+-------------------------+---------------------+-------------------------+----------+--------------+-----------+--------------+-------------+-----------+------+----------------+-------------------------+---------------+--------------+--------------+---------------------+----------+-------------+---------+-------------------+------------------+---------------------------+----------+------------------------+------------------+------------------+------+-------------+---------------+-------------+----------------------------------+-----------------------------+---------------------+------------------------------+-------------+-------------------+----------------------+--------+---------+--------------+-----------------+------------+-----------------+----------------+----------------+--------------------+-------------------+------------------+----------------+--------------------+-------------------+------------------+----------------+-------+--------+---------------+-------+---------+----------+-------+---------+---------------+-------------------------------------+-------------------+---------------------------+----------------+---------------+---------------+------------+------------------------+--------------------------+-------------+-------------+------------------+-----------------+--------------+-----------------------------+-------------------------------+-----------------------------+------------------------------+-------------+---------------------+-------------------------------+---------------------+----+--------------+-------------+-------------+------------------------+--------+--------------+----------------+--------------+---------+------+-------+--------+\n",
      "|customer_id|Adapteri, baterije i punjači|Alati za baštu|Antialergijski usisivači|Aparati za brijanje|Aparati za espresso|Aparati za kuvanje na pari|Aparati za mafine i cupcakes|Aparati za negu lica i tela|Aparati za pravljenje jogurta|Aparati za pritisak|Aparati za sladoled|Aparati za vafle|Aparati za vertikalno peglanje|Auto kamere|Auto punjači za mobilne telefone|Auto radio|Auto zvučnici|Baterijske lampe|Bežični telefoni|Bežični zvučnici|Bicikli|Blenderi sa funkcijom kuvanja|Blu-ray plejeri|Blu-ray sistemi|Bokali za filtriranje vode|Bušilice i odvrtači| CD|Cediljke i citrusete|DSLR fotoaparati|Daljinski upravljači|Daske i oprema za pegle|Depilatori|Desktop računari|Dodaci za blendere|Dodatna oprema za aparate za kafu|Dodatna oprema za računare|Dodatna oprema za sudopere|Dodatna oprema za tablete|Dodatna oprema za usisivače|Dronovi|Držači mobilnih telefona za auto|Eksterni hard diskovi|Električne džezve|Električne vodenice|Električne četkice za zube|Električni šporeti|Epilatori|Escajg|FM transmiteri|Fenovi za kosu|Filteri za bokale za vodu|Fitbit|Fitnes oprema|Friteze|Frižideri sa jednim vratima|Grafičke karte|Gramofoni|Grejalice|Horizontalni zamrzivači|Indukcijski rešoi|Indukcijski šporeti|Inverter klime|Jastuci|Jonizatori|Kablovi za TV / AV|Kablovi, adapteri i baterije|Kafa|Kalkulatori|Kamini i peći na čvrsta goriva|Kertridži i toneri|Kese za vakumiranje|Kombinovani frižideri|Kombinovani šporeti|Konzole|Kuhinjske vage|Kuhinjski pribor|Kuhinjski roboti|Kuvala za vodu|Laptop računari|MP3 plejeri|Masažeri|Matične ploče|Mašine za meso|Mašine za pranje i sušenje veša|Mašine za pranje veša|Mašine za sušenje veša|Memorijske kartice|Meteorološke stanice|Mikrofoni|Mikseri sa posudom|Mini barovi|Mini kuhinje|Mini linije|Mini šporeti|Miševi|Monitori|Multi trimeri|Multicookeri|Multipraktici|Mutilice za nes kafu|Napajanja|Nosači i police|Nutri blenderi|Odvlaživači|Oprema za aparate za brijanje|Oprema za frižidere|Oprema za igrice|Oprema za mašine za veš|Oprema za mikrotalasne rerne|Oprema za sudomašine|Oprema za šivaće mašine|Oprema za šporete i rerne|Ostala oprema za kuću|Ostala oprema za telefone|Ovlaživači|Oštrači noževa|PCI kartice|Pametni satovi|Parne stanice|Paročistači|Pekare|Pekači i tepsije|Plastične kutije za hranu|Plinski šporeti|Podloge za miš|Pokretne klime|Postolja za laptopove|Power Bank|Prese za kosu|Procesori|Programi i softveri|Punjači i baterije|Punjači za mobilne telefone|Radijatori|Rashladne vinske vitrine|Robotski usisivači|Roštilji i grilovi|Ruteri|Ručni mikseri|Ručni usisivači|Salamoreznice|Samostalne mašine za pranje sudova|Samostalne mikrotalasne rerne|Samostalni aspiratori|Set-top box tjuneri i risiveri|Setovi posuđa|Setovi ručnog alata|Side by side frižideri|Sijalice|Slušalice|Smart telefoni|Smoothie blenderi|Sobne antene|Soundbar zvučnici|Standardne klime|Standardne pegle|Standardne seckalice|Standardni blenderi|Standardni bojleri|Standardni rešoi|Standardni sokovnici|Standardni telefoni|Standardni tosteri|Stone sudomašine|Styleri|Sudopere|Sušilice za veš|Tableti|Tastature|Televizori|Tiganji|Toplomeri|Torbe i futrole|Torbice i futrole za mobilne telefone|Tosteri za sendviče|Tranzistori i radio uređaji|Trimeri za bradu|Trimeri za kosu|Trimeri za telo|USB flashevi|Ugradne mašine za sudove|Ugradne mikrotalasne rerne|Ugradne ploče|Ugradne rerne|Ugradni aspiratori|Ugradni frižideri|Ugradni setovi|Usisivači sa kesom za prašinu|Usisivači sa posudom za prašinu|Usisivači sa vodenim filterom|Vage za merenje telesne težine|Vakum aparati|Vertikalni zamrzivači|Wi-Fi, Bluetooth i USB adapteri|Zvučnici za kompjuter|iPad|Čitači kartica|Šerpe i lonci|Šivaće mašine|Šporeti na čvrsto gorivo|Štampači|Štapni mikseri|Štapni usisivači|Žični telefoni|frequency|length|recency|monetary|\n",
      "+-----------+----------------------------+--------------+------------------------+-------------------+-------------------+--------------------------+----------------------------+---------------------------+-----------------------------+-------------------+-------------------+----------------+------------------------------+-----------+--------------------------------+----------+-------------+----------------+----------------+----------------+-------+-----------------------------+---------------+---------------+--------------------------+-------------------+---+--------------------+----------------+--------------------+-----------------------+----------+----------------+------------------+---------------------------------+--------------------------+--------------------------+-------------------------+---------------------------+-------+--------------------------------+---------------------+-----------------+-------------------+--------------------------+------------------+---------+------+--------------+--------------+-------------------------+------+-------------+-------+---------------------------+--------------+---------+---------+-----------------------+-----------------+-------------------+--------------+-------+----------+------------------+----------------------------+----+-----------+------------------------------+------------------+-------------------+---------------------+-------------------+-------+--------------+----------------+----------------+--------------+---------------+-----------+--------+-------------+--------------+-------------------------------+---------------------+----------------------+------------------+--------------------+---------+------------------+-----------+------------+-----------+------------+------+--------+-------------+------------+-------------+--------------------+---------+---------------+--------------+-----------+-----------------------------+-------------------+----------------+-----------------------+----------------------------+--------------------+-----------------------+-------------------------+---------------------+-------------------------+----------+--------------+-----------+--------------+-------------+-----------+------+----------------+-------------------------+---------------+--------------+--------------+---------------------+----------+-------------+---------+-------------------+------------------+---------------------------+----------+------------------------+------------------+------------------+------+-------------+---------------+-------------+----------------------------------+-----------------------------+---------------------+------------------------------+-------------+-------------------+----------------------+--------+---------+--------------+-----------------+------------+-----------------+----------------+----------------+--------------------+-------------------+------------------+----------------+--------------------+-------------------+------------------+----------------+-------+--------+---------------+-------+---------+----------+-------+---------+---------------+-------------------------------------+-------------------+---------------------------+----------------+---------------+---------------+------------+------------------------+--------------------------+-------------+-------------+------------------+-----------------+--------------+-----------------------------+-------------------------------+-----------------------------+------------------------------+-------------+---------------------+-------------------------------+---------------------+----+--------------+-------------+-------------+------------------------+--------+--------------+----------------+--------------+---------+------+-------+--------+\n",
      "|     459999|                           0|             0|                       0|                  0|                  0|                         0|                           0|                          0|                            0|                  0|                  0|               0|                             0|          0|                               0|         0|            0|               0|               0|               0|      0|                            0|              0|              0|                         0|                  0|  0|                   0|               0|                   0|                      0|         0|               0|                 0|                                0|                         0|                         0|                        0|                          0|      0|                               0|                    0|                0|                  0|                         0|                 0|        0|     0|             0|             0|                        0|     0|            0|      0|                          0|             0|        0|        0|                      0|                0|                  0|             0|      0|         0|                 0|                           0|   0|          0|                             0|                 0|                  0|                    0|                  0|      0|             0|               0|               1|             0|              0|          0|       0|            0|             0|                              0|                    0|                     0|                 0|                   0|        0|                 0|          0|           0|          0|           0|     0|       0|            0|           0|            0|                   0|        0|              0|             0|          0|                            0|                  0|               0|                      0|                           0|                   0|                      0|                        0|                    0|                        0|         0|             0|          0|             0|            0|          0|     0|               0|                        0|              0|             0|             0|                    0|         0|            0|        0|                  0|                 0|                          0|         0|                       0|                 0|                 0|     0|            0|              0|            0|                                 0|                            0|                    0|                             0|            0|                  0|                     0|       0|        0|             0|                0|           0|                0|               0|               0|                   0|                  0|                 0|               0|                   0|                  0|                 0|               0|      0|       0|              0|      0|        0|         0|      0|        0|              0|                                    0|                  0|                          0|               0|              0|              0|           0|                       0|                         0|            0|            0|                 0|                0|             0|                            0|                              0|                            0|                             0|            0|                    0|                              0|                    0|   0|             0|            0|            0|                       0|       0|             0|               0|             0|        3|     0|      5|   29499|\n",
      "|     493490|                           0|             0|                       0|                  0|                  0|                         0|                           0|                          0|                            0|                  0|                  0|               0|                             0|          0|                               0|         0|            0|               0|               0|               0|      0|                            0|              0|              0|                         0|                  0|  0|                   0|               0|                   0|                      0|         0|               0|                 0|                                0|                         0|                         0|                        0|                          0|      0|                               0|                    0|                0|                  0|                         0|                 0|        0|     3|             0|             0|                        0|     0|            0|      0|                          0|             0|        0|        0|                      0|                0|                  0|             0|      0|         0|                 0|                           0|   0|          0|                             0|                 0|                  0|                    0|                  0|      0|             0|               0|               0|             0|              0|          0|       0|            0|             0|                              0|                    0|                     0|                 0|                   0|        0|                 0|          0|           0|          0|           0|     0|       0|            0|           0|            0|                   0|        0|              0|             0|          0|                            0|                  0|               0|                      0|                           0|                   0|                      0|                        0|                    0|                        0|         0|             0|          0|             0|            0|          0|     0|               0|                        0|              0|             0|             0|                    0|         0|            0|        0|                  0|                 0|                          0|         0|                       0|                 0|                 0|     0|            0|              0|            0|                                 0|                            0|                    0|                             0|            0|                  0|                     0|       0|        0|             0|                0|           0|                0|               0|               0|                   0|                  0|                 0|               0|                   0|                  0|                 0|               0|      0|       0|              0|      0|        0|         0|      0|        0|              0|                                    0|                  0|                          0|               0|              0|              0|           0|                       0|                         0|            0|            0|                 0|                0|             0|                            0|                              0|                            0|                             0|            0|                    0|                              0|                    0|   0|             0|            0|            0|                       0|       0|             0|               0|             0|        3|     0|      5|       0|\n",
      "|     547213|                           0|             0|                       0|                  0|                  0|                         0|                           0|                          0|                            0|                  0|                  0|               0|                             0|          0|                               0|         0|            0|               0|               0|               0|      0|                            0|              0|              0|                         0|                  0|  0|                   0|               0|                   0|                      0|         0|               0|                 0|                                0|                         0|                         0|                        0|                          0|      0|                               0|                    0|                0|                  0|                         0|                 0|        0|     0|             0|             0|                        0|     0|            0|      0|                          0|             0|        0|        0|                      0|                0|                  0|             0|      0|         0|                 0|                           0|   0|          0|                             0|                 0|                  0|                   10|                  0|      0|             0|               0|               0|             0|              0|          0|       0|            0|             0|                              0|                    0|                     0|                 0|                   0|        0|                 0|          0|           0|          0|           0|     0|       0|            0|           0|            0|                   0|        0|              0|             0|          0|                            0|                  0|               0|                      0|                           0|                   0|                      0|                        0|                    0|                        0|         0|             0|          0|             0|            0|          0|     0|               0|                        0|              0|             0|             0|                    0|         0|            0|        0|                  0|                 0|                          0|         0|                       0|                 0|                 0|     0|            0|              0|            0|                                 0|                            0|                    0|                             0|            0|                  0|                     0|       0|        0|             0|                0|           0|                0|               0|               0|                   0|                  0|                 0|               0|                   0|                  0|                 0|               0|      0|       0|              0|      0|        0|         3|      0|        0|              0|                                    0|                  0|                          0|               0|              0|              0|           0|                       0|                         0|            3|            3|                 0|                0|             0|                            0|                              0|                            0|                             0|            0|                    0|                              0|                    0|   0|             0|            0|            0|                       0|       0|             0|               0|             0|       19|     1|      3|       0|\n",
      "|     105437|                           0|             0|                       0|                  0|                  0|                         0|                           0|                          0|                            0|                  0|                  0|               0|                             0|          0|                               0|         0|            0|               0|               0|               0|      0|                            0|              0|              0|                         0|                  0|  0|                   0|               0|                   0|                      0|         0|               0|                 0|                                0|                         0|                         0|                        0|                          0|      0|                               0|                    0|                0|                  0|                         0|                 0|        0|     0|             0|             0|                        0|     0|            0|      0|                          0|             0|        0|        0|                      0|                0|                  0|             0|      0|         0|                 0|                           0|   0|          0|                             0|                 0|                  0|                    0|                  0|      0|             0|               0|               0|             0|              0|          0|       0|            0|             0|                              0|                    2|                     0|                 0|                   0|        0|                 0|          0|           0|          0|           0|     0|       0|            0|           0|            0|                   0|        0|              0|             0|          0|                            0|                  0|               0|                      0|                           0|                   0|                      0|                        0|                    0|                        0|         0|             0|          0|             0|            0|          0|     0|               0|                        0|              0|             0|             0|                    0|         0|            0|        0|                  0|                 0|                          0|         0|                       0|                 0|                 0|     0|            0|              0|            0|                                 0|                            0|                    0|                             0|            0|                  0|                     0|       0|        0|             0|                0|           0|                0|               0|               0|                   0|                  0|                 0|               0|                   0|                  0|                 0|               0|      0|       0|              0|      0|        0|         0|      0|        0|              0|                                    0|                  0|                          0|               0|              0|              0|           0|                       0|                         0|            0|            0|                 0|                0|             0|                            0|                              0|                            1|                             0|            0|                    0|                              0|                    0|   0|             0|            0|            0|                       0|       0|             0|               0|             0|        6|     8|      4|   21591|\n",
      "|     544177|                           0|             0|                       0|                  0|                  0|                         0|                           0|                          0|                            0|                  0|                  0|               0|                             0|          0|                               0|         0|            0|               0|               0|               0|      0|                            0|              0|              0|                         0|                  0|  0|                   0|               0|                   0|                      0|         0|               0|                 0|                                0|                         0|                         0|                        0|                          0|      0|                               0|                    0|                0|                  0|                         0|                 0|        0|     0|             0|             0|                        0|     0|            0|      0|                          0|             0|        0|        0|                      0|                0|                  0|             0|      0|         0|                 0|                           0|   0|          0|                             0|                 0|                  0|                    0|                  0|      0|             0|               0|               0|             0|              0|          0|       0|            0|             0|                              0|                    2|                     0|                 0|                   0|        0|                 0|          0|           0|          0|           0|     0|       0|            0|           0|            0|                   0|        0|              0|             0|          0|                            0|                  0|               0|                      0|                           0|                   0|                      0|                        0|                    0|                        0|         0|             0|          0|             0|            0|          0|     0|               0|                        0|              0|             0|             0|                    0|         0|            0|        0|                  0|                 0|                          0|         0|                       0|                 0|                 0|     0|            0|              0|            0|                                 0|                            0|                    0|                             0|            0|                  0|                     0|       0|        0|             0|                0|           0|                0|               0|               0|                   2|                  0|                 0|               0|                   0|                  0|                 0|               0|      0|       0|              0|      0|        0|         0|      0|        0|              0|                                    0|                  0|                          0|               0|              0|              0|           0|                       0|                         0|            0|            0|                 0|                0|             0|                            0|                              0|                            0|                             0|            0|                    0|                              0|                    0|   0|             0|            0|            0|                       0|       0|             0|               0|             0|        4|     0|     12|       0|\n",
      "+-----------+----------------------------+--------------+------------------------+-------------------+-------------------+--------------------------+----------------------------+---------------------------+-----------------------------+-------------------+-------------------+----------------+------------------------------+-----------+--------------------------------+----------+-------------+----------------+----------------+----------------+-------+-----------------------------+---------------+---------------+--------------------------+-------------------+---+--------------------+----------------+--------------------+-----------------------+----------+----------------+------------------+---------------------------------+--------------------------+--------------------------+-------------------------+---------------------------+-------+--------------------------------+---------------------+-----------------+-------------------+--------------------------+------------------+---------+------+--------------+--------------+-------------------------+------+-------------+-------+---------------------------+--------------+---------+---------+-----------------------+-----------------+-------------------+--------------+-------+----------+------------------+----------------------------+----+-----------+------------------------------+------------------+-------------------+---------------------+-------------------+-------+--------------+----------------+----------------+--------------+---------------+-----------+--------+-------------+--------------+-------------------------------+---------------------+----------------------+------------------+--------------------+---------+------------------+-----------+------------+-----------+------------+------+--------+-------------+------------+-------------+--------------------+---------+---------------+--------------+-----------+-----------------------------+-------------------+----------------+-----------------------+----------------------------+--------------------+-----------------------+-------------------------+---------------------+-------------------------+----------+--------------+-----------+--------------+-------------+-----------+------+----------------+-------------------------+---------------+--------------+--------------+---------------------+----------+-------------+---------+-------------------+------------------+---------------------------+----------+------------------------+------------------+------------------+------+-------------+---------------+-------------+----------------------------------+-----------------------------+---------------------+------------------------------+-------------+-------------------+----------------------+--------+---------+--------------+-----------------+------------+-----------------+----------------+----------------+--------------------+-------------------+------------------+----------------+--------------------+-------------------+------------------+----------------+-------+--------+---------------+-------+---------+----------+-------+---------+---------------+-------------------------------------+-------------------+---------------------------+----------------+---------------+---------------+------------+------------------------+--------------------------+-------------+-------------+------------------+-----------------+--------------+-----------------------------+-------------------------------+-----------------------------+------------------------------+-------------+---------------------+-------------------------------+---------------------+----+--------------+-------------+-------------+------------------------+--------+--------------+----------------+--------------+---------+------+-------+--------+\n",
      "only showing top 5 rows\n",
      "\n"
     ]
    }
   ],
   "source": [
    "pivoted.show(5)"
   ]
  },
  {
   "cell_type": "code",
   "execution_count": 68,
   "metadata": {},
   "outputs": [
    {
     "data": {
      "text/plain": [
       "['customer_id',\n",
       " 'Adapteri, baterije i punjači',\n",
       " 'Alati za baštu',\n",
       " 'Antialergijski usisivači',\n",
       " 'Aparati za brijanje',\n",
       " 'Aparati za espresso',\n",
       " 'Aparati za kuvanje na pari',\n",
       " 'Aparati za mafine i cupcakes',\n",
       " 'Aparati za negu lica i tela',\n",
       " 'Aparati za pravljenje jogurta',\n",
       " 'Aparati za pritisak',\n",
       " 'Aparati za sladoled',\n",
       " 'Aparati za vafle',\n",
       " 'Aparati za vertikalno peglanje',\n",
       " 'Auto kamere',\n",
       " 'Auto punjači za mobilne telefone',\n",
       " 'Auto radio',\n",
       " 'Auto zvučnici',\n",
       " 'Baterijske lampe',\n",
       " 'Bežični telefoni',\n",
       " 'Bežični zvučnici',\n",
       " 'Bicikli',\n",
       " 'Blenderi sa funkcijom kuvanja',\n",
       " 'Blu-ray plejeri',\n",
       " 'Blu-ray sistemi',\n",
       " 'Bokali za filtriranje vode',\n",
       " 'Bušilice i odvrtači',\n",
       " 'CD',\n",
       " 'Cediljke i citrusete',\n",
       " 'DSLR fotoaparati',\n",
       " 'Daljinski upravljači',\n",
       " 'Daske i oprema za pegle',\n",
       " 'Depilatori',\n",
       " 'Desktop računari',\n",
       " 'Dodaci za blendere',\n",
       " 'Dodatna oprema za aparate za kafu',\n",
       " 'Dodatna oprema za računare',\n",
       " 'Dodatna oprema za sudopere',\n",
       " 'Dodatna oprema za tablete',\n",
       " 'Dodatna oprema za usisivače',\n",
       " 'Dronovi',\n",
       " 'Držači mobilnih telefona za auto',\n",
       " 'Eksterni hard diskovi',\n",
       " 'Električne džezve',\n",
       " 'Električne vodenice',\n",
       " 'Električne četkice za zube',\n",
       " 'Električni šporeti',\n",
       " 'Epilatori',\n",
       " 'Escajg',\n",
       " 'FM transmiteri',\n",
       " 'Fenovi za kosu',\n",
       " 'Filteri za bokale za vodu',\n",
       " 'Fitbit',\n",
       " 'Fitnes oprema',\n",
       " 'Friteze',\n",
       " 'Frižideri sa jednim vratima',\n",
       " 'Grafičke karte',\n",
       " 'Gramofoni',\n",
       " 'Grejalice',\n",
       " 'Horizontalni zamrzivači',\n",
       " 'Indukcijski rešoi',\n",
       " 'Indukcijski šporeti',\n",
       " 'Inverter klime',\n",
       " 'Jastuci',\n",
       " 'Jonizatori',\n",
       " 'Kablovi za TV / AV',\n",
       " 'Kablovi, adapteri i baterije',\n",
       " 'Kafa',\n",
       " 'Kalkulatori',\n",
       " 'Kamini i peći na čvrsta goriva',\n",
       " 'Kertridži i toneri',\n",
       " 'Kese za vakumiranje',\n",
       " 'Kombinovani frižideri',\n",
       " 'Kombinovani šporeti',\n",
       " 'Konzole',\n",
       " 'Kuhinjske vage',\n",
       " 'Kuhinjski pribor',\n",
       " 'Kuhinjski roboti',\n",
       " 'Kuvala za vodu',\n",
       " 'Laptop računari',\n",
       " 'MP3 plejeri',\n",
       " 'Masažeri',\n",
       " 'Matične ploče',\n",
       " 'Mašine za meso',\n",
       " 'Mašine za pranje i sušenje veša',\n",
       " 'Mašine za pranje veša',\n",
       " 'Mašine za sušenje veša',\n",
       " 'Memorijske kartice',\n",
       " 'Meteorološke stanice',\n",
       " 'Mikrofoni',\n",
       " 'Mikseri sa posudom',\n",
       " 'Mini barovi',\n",
       " 'Mini kuhinje',\n",
       " 'Mini linije',\n",
       " 'Mini šporeti',\n",
       " 'Miševi',\n",
       " 'Monitori',\n",
       " 'Multi trimeri',\n",
       " 'Multicookeri',\n",
       " 'Multipraktici',\n",
       " 'Mutilice za nes kafu',\n",
       " 'Napajanja',\n",
       " 'Nosači i police',\n",
       " 'Nutri blenderi',\n",
       " 'Odvlaživači',\n",
       " 'Oprema za aparate za brijanje',\n",
       " 'Oprema za frižidere',\n",
       " 'Oprema za igrice',\n",
       " 'Oprema za mašine za veš',\n",
       " 'Oprema za mikrotalasne rerne',\n",
       " 'Oprema za sudomašine',\n",
       " 'Oprema za šivaće mašine',\n",
       " 'Oprema za šporete i rerne',\n",
       " 'Ostala oprema za kuću',\n",
       " 'Ostala oprema za telefone',\n",
       " 'Ovlaživači',\n",
       " 'Oštrači noževa',\n",
       " 'PCI kartice',\n",
       " 'Pametni satovi',\n",
       " 'Parne stanice',\n",
       " 'Paročistači',\n",
       " 'Pekare',\n",
       " 'Pekači i tepsije',\n",
       " 'Plastične kutije za hranu',\n",
       " 'Plinski šporeti',\n",
       " 'Podloge za miš',\n",
       " 'Pokretne klime',\n",
       " 'Postolja za laptopove',\n",
       " 'Power Bank',\n",
       " 'Prese za kosu',\n",
       " 'Procesori',\n",
       " 'Programi i softveri',\n",
       " 'Punjači i baterije',\n",
       " 'Punjači za mobilne telefone',\n",
       " 'Radijatori',\n",
       " 'Rashladne vinske vitrine',\n",
       " 'Robotski usisivači',\n",
       " 'Roštilji i grilovi',\n",
       " 'Ruteri',\n",
       " 'Ručni mikseri',\n",
       " 'Ručni usisivači',\n",
       " 'Salamoreznice',\n",
       " 'Samostalne mašine za pranje sudova',\n",
       " 'Samostalne mikrotalasne rerne',\n",
       " 'Samostalni aspiratori',\n",
       " 'Set-top box tjuneri i risiveri',\n",
       " 'Setovi posuđa',\n",
       " 'Setovi ručnog alata',\n",
       " 'Side by side frižideri',\n",
       " 'Sijalice',\n",
       " 'Slušalice',\n",
       " 'Smart telefoni',\n",
       " 'Smoothie blenderi',\n",
       " 'Sobne antene',\n",
       " 'Soundbar zvučnici',\n",
       " 'Standardne klime',\n",
       " 'Standardne pegle',\n",
       " 'Standardne seckalice',\n",
       " 'Standardni blenderi',\n",
       " 'Standardni bojleri',\n",
       " 'Standardni rešoi',\n",
       " 'Standardni sokovnici',\n",
       " 'Standardni telefoni',\n",
       " 'Standardni tosteri',\n",
       " 'Stone sudomašine',\n",
       " 'Styleri',\n",
       " 'Sudopere',\n",
       " 'Sušilice za veš',\n",
       " 'Tableti',\n",
       " 'Tastature',\n",
       " 'Televizori',\n",
       " 'Tiganji',\n",
       " 'Toplomeri',\n",
       " 'Torbe i futrole',\n",
       " 'Torbice i futrole za mobilne telefone',\n",
       " 'Tosteri za sendviče',\n",
       " 'Tranzistori i radio uređaji',\n",
       " 'Trimeri za bradu',\n",
       " 'Trimeri za kosu',\n",
       " 'Trimeri za telo',\n",
       " 'USB flashevi',\n",
       " 'Ugradne mašine za sudove',\n",
       " 'Ugradne mikrotalasne rerne',\n",
       " 'Ugradne ploče',\n",
       " 'Ugradne rerne',\n",
       " 'Ugradni aspiratori',\n",
       " 'Ugradni frižideri',\n",
       " 'Ugradni setovi',\n",
       " 'Usisivači sa kesom za prašinu',\n",
       " 'Usisivači sa posudom za prašinu',\n",
       " 'Usisivači sa vodenim filterom',\n",
       " 'Vage za merenje telesne težine',\n",
       " 'Vakum aparati',\n",
       " 'Vertikalni zamrzivači',\n",
       " 'Wi-Fi, Bluetooth i USB adapteri',\n",
       " 'Zvučnici za kompjuter',\n",
       " 'iPad',\n",
       " 'Čitači kartica',\n",
       " 'Šerpe i lonci',\n",
       " 'Šivaće mašine',\n",
       " 'Šporeti na čvrsto gorivo',\n",
       " 'Štampači',\n",
       " 'Štapni mikseri',\n",
       " 'Štapni usisivači',\n",
       " 'Žični telefoni',\n",
       " 'frequency',\n",
       " 'length',\n",
       " 'recency',\n",
       " 'monetary']"
      ]
     },
     "execution_count": 68,
     "metadata": {},
     "output_type": "execute_result"
    }
   ],
   "source": [
    "pivoted.columns"
   ]
  },
  {
   "cell_type": "code",
   "execution_count": 70,
   "metadata": {
    "collapsed": true
   },
   "outputs": [],
   "source": [
    "from pyspark.ml.feature import VectorAssembler\n",
    "from pyspark.mllib.util import MLUtils\n",
    "from pyspark.ml.feature import Normalizer\n",
    "from pyspark.ml.feature import StandardScaler"
   ]
  },
  {
   "cell_type": "code",
   "execution_count": 71,
   "metadata": {
    "collapsed": true
   },
   "outputs": [],
   "source": [
    "vecAssembler = VectorAssembler(inputCols=['Adapteri, baterije i punjači',\n",
    " 'Alati za baštu',\n",
    " 'Antialergijski usisivači',\n",
    " 'Aparati za brijanje',\n",
    " 'Aparati za espresso',\n",
    " 'Aparati za kuvanje na pari',\n",
    " 'Aparati za mafine i cupcakes',\n",
    " 'Aparati za negu lica i tela',\n",
    " 'Aparati za pravljenje jogurta',\n",
    " 'Aparati za pritisak',\n",
    " 'Aparati za sladoled',\n",
    " 'Aparati za vafle',\n",
    " 'Aparati za vertikalno peglanje',\n",
    " 'Auto kamere',\n",
    " 'Auto punjači za mobilne telefone',\n",
    " 'Auto radio',\n",
    " 'Auto zvučnici',\n",
    " 'Baterijske lampe',\n",
    " 'Bežični telefoni',\n",
    " 'Bežični zvučnici',\n",
    " 'Bicikli',\n",
    " 'Blenderi sa funkcijom kuvanja',\n",
    " 'Blu-ray plejeri',\n",
    " 'Blu-ray sistemi',\n",
    " 'Bokali za filtriranje vode',\n",
    " 'Bušilice i odvrtači',\n",
    " 'CD',\n",
    " 'Cediljke i citrusete',\n",
    " 'DSLR fotoaparati',\n",
    " 'Daljinski upravljači',\n",
    " 'Daske i oprema za pegle',\n",
    " 'Depilatori',\n",
    " 'Desktop računari',\n",
    " 'Dodaci za blendere',\n",
    " 'Dodatna oprema za aparate za kafu',\n",
    " 'Dodatna oprema za računare',\n",
    " 'Dodatna oprema za sudopere',\n",
    " 'Dodatna oprema za tablete',\n",
    " 'Dodatna oprema za usisivače',\n",
    " 'Dronovi',\n",
    " 'Držači mobilnih telefona za auto',\n",
    " 'Eksterni hard diskovi',\n",
    " 'Električne džezve',\n",
    " 'Električne vodenice',\n",
    " 'Električne četkice za zube',\n",
    " 'Električni šporeti',\n",
    " 'Epilatori',\n",
    " 'Escajg',\n",
    " 'FM transmiteri',\n",
    " 'Fenovi za kosu',\n",
    " 'Filteri za bokale za vodu',\n",
    " 'Fitbit',\n",
    " 'Fitnes oprema',\n",
    " 'Friteze',\n",
    " 'Frižideri sa jednim vratima',\n",
    " 'Grafičke karte',\n",
    " 'Gramofoni',\n",
    " 'Grejalice',\n",
    " 'Horizontalni zamrzivači',\n",
    " 'Indukcijski rešoi',\n",
    " 'Indukcijski šporeti',\n",
    " 'Inverter klime',\n",
    " 'Jastuci',\n",
    " 'Jonizatori',\n",
    " 'Kablovi za TV / AV',\n",
    " 'Kablovi, adapteri i baterije',\n",
    " 'Kafa',\n",
    " 'Kalkulatori',\n",
    " 'Kamini i peći na čvrsta goriva',\n",
    " 'Kertridži i toneri',\n",
    " 'Kese za vakumiranje',\n",
    " 'Kombinovani frižideri',\n",
    " 'Kombinovani šporeti',\n",
    " 'Konzole',\n",
    " 'Kuhinjske vage',\n",
    " 'Kuhinjski pribor',\n",
    " 'Kuhinjski roboti',\n",
    " 'Kuvala za vodu',\n",
    " 'Laptop računari',\n",
    " 'MP3 plejeri',\n",
    " 'Masažeri',\n",
    " 'Matične ploče',\n",
    " 'Mašine za meso',\n",
    " 'Mašine za pranje i sušenje veša',\n",
    " 'Mašine za pranje veša',\n",
    " 'Mašine za sušenje veša',\n",
    " 'Memorijske kartice',\n",
    " 'Meteorološke stanice',\n",
    " 'Mikrofoni',\n",
    " 'Mikseri sa posudom',\n",
    " 'Mini barovi',\n",
    " 'Mini kuhinje',\n",
    " 'Mini linije',\n",
    " 'Mini šporeti',\n",
    " 'Miševi',\n",
    " 'Monitori',\n",
    " 'Multi trimeri',\n",
    " 'Multicookeri',\n",
    " 'Multipraktici',\n",
    " 'Mutilice za nes kafu',\n",
    " 'Napajanja',\n",
    " 'Nosači i police',\n",
    " 'Nutri blenderi',\n",
    " 'Odvlaživači',\n",
    " 'Oprema za aparate za brijanje',\n",
    " 'Oprema za frižidere',\n",
    " 'Oprema za igrice',\n",
    " 'Oprema za mašine za veš',\n",
    " 'Oprema za mikrotalasne rerne',\n",
    " 'Oprema za sudomašine',\n",
    " 'Oprema za šivaće mašine',\n",
    " 'Oprema za šporete i rerne',\n",
    " 'Ostala oprema za kuću',\n",
    " 'Ostala oprema za telefone',\n",
    " 'Ovlaživači',\n",
    " 'Oštrači noževa',\n",
    " 'PCI kartice',\n",
    " 'Pametni satovi',\n",
    " 'Parne stanice',\n",
    " 'Paročistači',\n",
    " 'Pekare',\n",
    " 'Pekači i tepsije',\n",
    " 'Plastične kutije za hranu',\n",
    " 'Plinski šporeti',\n",
    " 'Podloge za miš',\n",
    " 'Pokretne klime',\n",
    " 'Postolja za laptopove',\n",
    " 'Power Bank',\n",
    " 'Prese za kosu',\n",
    " 'Procesori',\n",
    " 'Programi i softveri',\n",
    " 'Punjači i baterije',\n",
    " 'Punjači za mobilne telefone',\n",
    " 'Radijatori',\n",
    " 'Rashladne vinske vitrine',\n",
    " 'Robotski usisivači',\n",
    " 'Roštilji i grilovi',\n",
    " 'Ruteri',\n",
    " 'Ručni mikseri',\n",
    " 'Ručni usisivači',\n",
    " 'Salamoreznice',\n",
    " 'Samostalne mašine za pranje sudova',\n",
    " 'Samostalne mikrotalasne rerne',\n",
    " 'Samostalni aspiratori',\n",
    " 'Set-top box tjuneri i risiveri',\n",
    " 'Setovi posuđa',\n",
    " 'Setovi ručnog alata',\n",
    " 'Side by side frižideri',\n",
    " 'Sijalice',\n",
    " 'Slušalice',\n",
    " 'Smart telefoni',\n",
    " 'Smoothie blenderi',\n",
    " 'Sobne antene',\n",
    " 'Soundbar zvučnici',\n",
    " 'Standardne klime',\n",
    " 'Standardne pegle',\n",
    " 'Standardne seckalice',\n",
    " 'Standardni blenderi',\n",
    " 'Standardni bojleri',\n",
    " 'Standardni rešoi',\n",
    " 'Standardni sokovnici',\n",
    " 'Standardni telefoni',\n",
    " 'Standardni tosteri',\n",
    " 'Stone sudomašine',\n",
    " 'Styleri',\n",
    " 'Sudopere',\n",
    " 'Sušilice za veš',\n",
    " 'Tableti',\n",
    " 'Tastature',\n",
    " 'Televizori',\n",
    " 'Tiganji',\n",
    " 'Toplomeri',\n",
    " 'Torbe i futrole',\n",
    " 'Torbice i futrole za mobilne telefone',\n",
    " 'Tosteri za sendviče',\n",
    " 'Tranzistori i radio uređaji',\n",
    " 'Trimeri za bradu',\n",
    " 'Trimeri za kosu',\n",
    " 'Trimeri za telo',\n",
    " 'USB flashevi',\n",
    " 'Ugradne mašine za sudove',\n",
    " 'Ugradne mikrotalasne rerne',\n",
    " 'Ugradne ploče',\n",
    " 'Ugradne rerne',\n",
    " 'Ugradni aspiratori',\n",
    " 'Ugradni frižideri',\n",
    " 'Ugradni setovi',\n",
    " 'Usisivači sa kesom za prašinu',\n",
    " 'Usisivači sa posudom za prašinu',\n",
    " 'Usisivači sa vodenim filterom',\n",
    " 'Vage za merenje telesne težine',\n",
    " 'Vakum aparati',\n",
    " 'Vertikalni zamrzivači',\n",
    " 'Wi-Fi, Bluetooth i USB adapteri',\n",
    " 'Zvučnici za kompjuter',\n",
    " 'iPad',\n",
    " 'Čitači kartica',\n",
    " 'Šerpe i lonci',\n",
    " 'Šivaće mašine',\n",
    " 'Šporeti na čvrsto gorivo',\n",
    " 'Štampači',\n",
    " 'Štapni mikseri',\n",
    " 'Štapni usisivači',\n",
    " 'Žični telefoni',\n",
    " 'frequency',\n",
    " 'length',\n",
    " 'recency',\n",
    " 'monetary'], outputCol='features')"
   ]
  },
  {
   "cell_type": "code",
   "execution_count": 72,
   "metadata": {},
   "outputs": [
    {
     "name": "stdout",
     "output_type": "stream",
     "text": [
      "+-------------------------------------------------------------------------------------------------------+----------------------------------------------------------------------------------------------------------------------------------------------------------------------------------------------------------------------------------------------------------------------------------+\n",
      "|features                                                                                               |scaledFeatures                                                                                                                                                                                                                                                                    |\n",
      "+-------------------------------------------------------------------------------------------------------+----------------------------------------------------------------------------------------------------------------------------------------------------------------------------------------------------------------------------------------------------------------------------------+\n",
      "|(208,[76,204,206,207],[1.0,3.0,5.0,29499.0])                                                           |(208,[76,204,206,207],[1.6510046366129383,0.2633961106112056,1.5527145009557173,1.1329053196823744])                                                                                                                                                                              |\n",
      "|(208,[47,204,206],[3.0,3.0,5.0])                                                                       |(208,[47,204,206],[28.800016314983417,0.2633961106112056,1.5527145009557173])                                                                                                                                                                                                     |\n",
      "|(208,[71,169,182,183,204,205,206],[10.0,3.0,3.0,3.0,19.0,1.0,3.0])                                     |(208,[71,169,182,183,204,205,206],[6.444927145710027,1.3689577308156435,3.403903675118639,4.169157454484135,1.6681753672043023,0.7414282861893106,0.9316287005734303])                                                                                                            |\n",
      "|(208,[84,189,204,205,206,207],[2.0,1.0,6.0,8.0,4.0,21591.0])                                           |(208,[84,189,204,205,206,207],[0.7504656316276668,3.687786446527592,0.5267922212224112,5.9314262895144845,1.2421716007645738,0.8291995917577595])                                                                                                                                 |\n",
      "|(208,[84,156,204,206],[2.0,2.0,4.0,12.0])                                                              |(208,[84,156,204,206],[0.7504656316276668,3.273241450250703,0.35119481414827414,3.726514802293721])                                                                                                                                                                               |\n",
      "|(208,[150,204,206],[5.0,6.0,7.0])                                                                      |(208,[150,204,206],[3.522184529622128,0.5267922212224112,2.1738003013380043])                                                                                                                                                                                                     |\n",
      "|(208,[28,86,204,206,207],[6.0,1.0,14.0,7.0,34290.0])                                                   |(208,[28,86,204,206,207],[28.800016314983417,3.0707563225145935,1.2291818495189595,2.1738003013380043,1.3169030615244117])                                                                                                                                                        |\n",
      "|(208,[169,204,206],[6.0,8.0,5.0])                                                                      |(208,[169,204,206],[2.737915461631287,0.7023896282965483,1.5527145009557173])                                                                                                                                                                                                     |\n",
      "|(208,[45,61,71,84,85,141,169,187,188,204,205,206],[13.0,1.0,6.0,5.0,5.0,6.0,5.0,2.0,4.0,47.0,1.0,10.0])|(208,[45,61,71,84,85,141,169,187,188,204,205,206],[11.50993087769255,1.4063253950914043,3.866956287426016,1.876164079069167,2.9727032848644788,5.582387920394979,2.2815962180260723,1.8316292711024853,4.100852745105702,4.126539066242221,0.7414282861893106,3.1054290019114346])|\n",
      "|(208,[101,169,204,205,206],[1.0,1.0,4.0,1.0,4.0])                                                      |(208,[101,169,204,205,206],[3.282687874214001,0.4563192436052145,0.35119481414827414,0.7414282861893106,1.2421716007645738])                                                                                                                                                      |\n",
      "|(208,[58,204,206],[4.0,5.0,2.0])                                                                       |(208,[58,204,206],[13.190100398564184,0.43899351768534267,0.6210858003822869])                                                                                                                                                                                                    |\n",
      "|(208,[71,84,188,204,205,206],[8.0,9.0,6.0,24.0,2.0,2.0])                                               |(208,[71,84,188,204,205,206],[5.155941716568021,3.3770953423245005,6.151279117658554,2.107168884889645,1.4828565723786211,0.6210858003822869])                                                                                                                                    |\n",
      "|(208,[77,204,206],[2.0,2.0,3.0])                                                                       |(208,[77,204,206],[2.8328571367982383,0.17559740707413707,0.9316287005734303])                                                                                                                                                                                                    |\n",
      "|(208,[151,204,206,207],[1.0,3.0,12.0,3861.0])                                                          |(208,[151,204,206,207],[3.2553131121776313,0.2633961106112056,3.726514802293721,0.14828121086455973])                                                                                                                                                                             |\n",
      "|(208,[68,204,206],[3.0,5.0,10.0])                                                                      |(208,[68,204,206],[30.347981810987037,0.43899351768534267,3.1054290019114346])                                                                                                                                                                                                    |\n",
      "|(208,[182,183,204,205,206],[3.0,5.0,8.0,3.0,6.0])                                                      |(208,[182,183,204,205,206],[3.403903675118639,6.948595757473558,0.7023896282965483,2.224284858567932,1.8632574011468606])                                                                                                                                                         |\n",
      "|(208,[185,204,206,207],[1.0,3.0,3.0,47898.0])                                                          |(208,[185,204,206,207],[2.028103518929728,0.2633961106112056,0.9316287005734303,1.8395165599561467])                                                                                                                                                                              |\n",
      "|(208,[45,204,206],[11.0,11.0,2.0])                                                                     |(208,[45,204,206],[9.739172281124466,0.9657857389077539,0.6210858003822869])                                                                                                                                                                                                      |\n",
      "|(208,[182,183,204,206],[7.0,8.0,15.0,4.0])                                                             |(208,[182,183,204,206],[7.942441908610157,11.117753211957693,1.3169805530560281,1.2421716007645738])                                                                                                                                                                              |\n",
      "|(208,[169,204,206],[8.0,8.0,5.0])                                                                      |(208,[169,204,206],[3.650553948841716,0.7023896282965483,1.5527145009557173])                                                                                                                                                                                                     |\n",
      "+-------------------------------------------------------------------------------------------------------+----------------------------------------------------------------------------------------------------------------------------------------------------------------------------------------------------------------------------------------------------------------------------------+\n",
      "only showing top 20 rows\n",
      "\n"
     ]
    }
   ],
   "source": [
    "new_df = vecAssembler.transform(pivoted)\n",
    "\n",
    "scaler = StandardScaler(inputCol='features', outputCol='scaledFeatures')\n",
    "scaler_model = scaler.fit(new_df)\n",
    "scaled_data = scaler_model.transform(new_df)\n",
    "scaled_data.select('features','scaledFeatures').show(truncate=False)"
   ]
  },
  {
   "cell_type": "code",
   "execution_count": 102,
   "metadata": {
    "collapsed": true
   },
   "outputs": [],
   "source": [
    "from pyspark.ml.clustering import BisectingKMeans\n",
    "\n",
    "# Trains a bisecting k-means model.\n",
    "bkm = BisectingKMeans().setK(10).setSeed(1)\n",
    "model = bkm.fit(scaled_data)\n",
    "\n",
    "transformed = model.transform(scaled_data)"
   ]
  },
  {
   "cell_type": "code",
   "execution_count": 107,
   "metadata": {},
   "outputs": [
    {
     "name": "stdout",
     "output_type": "stream",
     "text": [
      "root\n",
      " |-- customer_id: integer (nullable = true)\n",
      " |-- Adapteri, baterije i punjači: long (nullable = true)\n",
      " |-- Alati za baštu: long (nullable = true)\n",
      " |-- Antialergijski usisivači: long (nullable = true)\n",
      " |-- Aparati za brijanje: long (nullable = true)\n",
      " |-- Aparati za espresso: long (nullable = true)\n",
      " |-- Aparati za kuvanje na pari: long (nullable = true)\n",
      " |-- Aparati za mafine i cupcakes: long (nullable = true)\n",
      " |-- Aparati za negu lica i tela: long (nullable = true)\n",
      " |-- Aparati za pravljenje jogurta: long (nullable = true)\n",
      " |-- Aparati za pritisak: long (nullable = true)\n",
      " |-- Aparati za sladoled: long (nullable = true)\n",
      " |-- Aparati za vafle: long (nullable = true)\n",
      " |-- Aparati za vertikalno peglanje: long (nullable = true)\n",
      " |-- Auto kamere: long (nullable = true)\n",
      " |-- Auto punjači za mobilne telefone: long (nullable = true)\n",
      " |-- Auto radio: long (nullable = true)\n",
      " |-- Auto zvučnici: long (nullable = true)\n",
      " |-- Baterijske lampe: long (nullable = true)\n",
      " |-- Bežični telefoni: long (nullable = true)\n",
      " |-- Bežični zvučnici: long (nullable = true)\n",
      " |-- Bicikli: long (nullable = true)\n",
      " |-- Blenderi sa funkcijom kuvanja: long (nullable = true)\n",
      " |-- Blu-ray plejeri: long (nullable = true)\n",
      " |-- Blu-ray sistemi: long (nullable = true)\n",
      " |-- Bokali za filtriranje vode: long (nullable = true)\n",
      " |-- Bušilice i odvrtači: long (nullable = true)\n",
      " |-- CD: long (nullable = true)\n",
      " |-- Cediljke i citrusete: long (nullable = true)\n",
      " |-- DSLR fotoaparati: long (nullable = true)\n",
      " |-- Daljinski upravljači: long (nullable = true)\n",
      " |-- Daske i oprema za pegle: long (nullable = true)\n",
      " |-- Depilatori: long (nullable = true)\n",
      " |-- Desktop računari: long (nullable = true)\n",
      " |-- Dodaci za blendere: long (nullable = true)\n",
      " |-- Dodatna oprema za aparate za kafu: long (nullable = true)\n",
      " |-- Dodatna oprema za računare: long (nullable = true)\n",
      " |-- Dodatna oprema za sudopere: long (nullable = true)\n",
      " |-- Dodatna oprema za tablete: long (nullable = true)\n",
      " |-- Dodatna oprema za usisivače: long (nullable = true)\n",
      " |-- Dronovi: long (nullable = true)\n",
      " |-- Držači mobilnih telefona za auto: long (nullable = true)\n",
      " |-- Eksterni hard diskovi: long (nullable = true)\n",
      " |-- Električne džezve: long (nullable = true)\n",
      " |-- Električne vodenice: long (nullable = true)\n",
      " |-- Električne četkice za zube: long (nullable = true)\n",
      " |-- Električni šporeti: long (nullable = true)\n",
      " |-- Epilatori: long (nullable = true)\n",
      " |-- Escajg: long (nullable = true)\n",
      " |-- FM transmiteri: long (nullable = true)\n",
      " |-- Fenovi za kosu: long (nullable = true)\n",
      " |-- Filteri za bokale za vodu: long (nullable = true)\n",
      " |-- Fitbit: long (nullable = true)\n",
      " |-- Fitnes oprema: long (nullable = true)\n",
      " |-- Friteze: long (nullable = true)\n",
      " |-- Frižideri sa jednim vratima: long (nullable = true)\n",
      " |-- Grafičke karte: long (nullable = true)\n",
      " |-- Gramofoni: long (nullable = true)\n",
      " |-- Grejalice: long (nullable = true)\n",
      " |-- Horizontalni zamrzivači: long (nullable = true)\n",
      " |-- Indukcijski rešoi: long (nullable = true)\n",
      " |-- Indukcijski šporeti: long (nullable = true)\n",
      " |-- Inverter klime: long (nullable = true)\n",
      " |-- Jastuci: long (nullable = true)\n",
      " |-- Jonizatori: long (nullable = true)\n",
      " |-- Kablovi za TV / AV: long (nullable = true)\n",
      " |-- Kablovi, adapteri i baterije: long (nullable = true)\n",
      " |-- Kafa: long (nullable = true)\n",
      " |-- Kalkulatori: long (nullable = true)\n",
      " |-- Kamini i peći na čvrsta goriva: long (nullable = true)\n",
      " |-- Kertridži i toneri: long (nullable = true)\n",
      " |-- Kese za vakumiranje: long (nullable = true)\n",
      " |-- Kombinovani frižideri: long (nullable = true)\n",
      " |-- Kombinovani šporeti: long (nullable = true)\n",
      " |-- Konzole: long (nullable = true)\n",
      " |-- Kuhinjske vage: long (nullable = true)\n",
      " |-- Kuhinjski pribor: long (nullable = true)\n",
      " |-- Kuhinjski roboti: long (nullable = true)\n",
      " |-- Kuvala za vodu: long (nullable = true)\n",
      " |-- Laptop računari: long (nullable = true)\n",
      " |-- MP3 plejeri: long (nullable = true)\n",
      " |-- Masažeri: long (nullable = true)\n",
      " |-- Matične ploče: long (nullable = true)\n",
      " |-- Mašine za meso: long (nullable = true)\n",
      " |-- Mašine za pranje i sušenje veša: long (nullable = true)\n",
      " |-- Mašine za pranje veša: long (nullable = true)\n",
      " |-- Mašine za sušenje veša: long (nullable = true)\n",
      " |-- Memorijske kartice: long (nullable = true)\n",
      " |-- Meteorološke stanice: long (nullable = true)\n",
      " |-- Mikrofoni: long (nullable = true)\n",
      " |-- Mikseri sa posudom: long (nullable = true)\n",
      " |-- Mini barovi: long (nullable = true)\n",
      " |-- Mini kuhinje: long (nullable = true)\n",
      " |-- Mini linije: long (nullable = true)\n",
      " |-- Mini šporeti: long (nullable = true)\n",
      " |-- Miševi: long (nullable = true)\n",
      " |-- Monitori: long (nullable = true)\n",
      " |-- Multi trimeri: long (nullable = true)\n",
      " |-- Multicookeri: long (nullable = true)\n",
      " |-- Multipraktici: long (nullable = true)\n",
      " |-- Mutilice za nes kafu: long (nullable = true)\n",
      " |-- Napajanja: long (nullable = true)\n",
      " |-- Nosači i police: long (nullable = true)\n",
      " |-- Nutri blenderi: long (nullable = true)\n",
      " |-- Odvlaživači: long (nullable = true)\n",
      " |-- Oprema za aparate za brijanje: long (nullable = true)\n",
      " |-- Oprema za frižidere: long (nullable = true)\n",
      " |-- Oprema za igrice: long (nullable = true)\n",
      " |-- Oprema za mašine za veš: long (nullable = true)\n",
      " |-- Oprema za mikrotalasne rerne: long (nullable = true)\n",
      " |-- Oprema za sudomašine: long (nullable = true)\n",
      " |-- Oprema za šivaće mašine: long (nullable = true)\n",
      " |-- Oprema za šporete i rerne: long (nullable = true)\n",
      " |-- Ostala oprema za kuću: long (nullable = true)\n",
      " |-- Ostala oprema za telefone: long (nullable = true)\n",
      " |-- Ovlaživači: long (nullable = true)\n",
      " |-- Oštrači noževa: long (nullable = true)\n",
      " |-- PCI kartice: long (nullable = true)\n",
      " |-- Pametni satovi: long (nullable = true)\n",
      " |-- Parne stanice: long (nullable = true)\n",
      " |-- Paročistači: long (nullable = true)\n",
      " |-- Pekare: long (nullable = true)\n",
      " |-- Pekači i tepsije: long (nullable = true)\n",
      " |-- Plastične kutije za hranu: long (nullable = true)\n",
      " |-- Plinski šporeti: long (nullable = true)\n",
      " |-- Podloge za miš: long (nullable = true)\n",
      " |-- Pokretne klime: long (nullable = true)\n",
      " |-- Postolja za laptopove: long (nullable = true)\n",
      " |-- Power Bank: long (nullable = true)\n",
      " |-- Prese za kosu: long (nullable = true)\n",
      " |-- Procesori: long (nullable = true)\n",
      " |-- Programi i softveri: long (nullable = true)\n",
      " |-- Punjači i baterije: long (nullable = true)\n",
      " |-- Punjači za mobilne telefone: long (nullable = true)\n",
      " |-- Radijatori: long (nullable = true)\n",
      " |-- Rashladne vinske vitrine: long (nullable = true)\n",
      " |-- Robotski usisivači: long (nullable = true)\n",
      " |-- Roštilji i grilovi: long (nullable = true)\n",
      " |-- Ruteri: long (nullable = true)\n",
      " |-- Ručni mikseri: long (nullable = true)\n",
      " |-- Ručni usisivači: long (nullable = true)\n",
      " |-- Salamoreznice: long (nullable = true)\n",
      " |-- Samostalne mašine za pranje sudova: long (nullable = true)\n",
      " |-- Samostalne mikrotalasne rerne: long (nullable = true)\n",
      " |-- Samostalni aspiratori: long (nullable = true)\n",
      " |-- Set-top box tjuneri i risiveri: long (nullable = true)\n",
      " |-- Setovi posuđa: long (nullable = true)\n",
      " |-- Setovi ručnog alata: long (nullable = true)\n",
      " |-- Side by side frižideri: long (nullable = true)\n",
      " |-- Sijalice: long (nullable = true)\n",
      " |-- Slušalice: long (nullable = true)\n",
      " |-- Smart telefoni: long (nullable = true)\n",
      " |-- Smoothie blenderi: long (nullable = true)\n",
      " |-- Sobne antene: long (nullable = true)\n",
      " |-- Soundbar zvučnici: long (nullable = true)\n",
      " |-- Standardne klime: long (nullable = true)\n",
      " |-- Standardne pegle: long (nullable = true)\n",
      " |-- Standardne seckalice: long (nullable = true)\n",
      " |-- Standardni blenderi: long (nullable = true)\n",
      " |-- Standardni bojleri: long (nullable = true)\n",
      " |-- Standardni rešoi: long (nullable = true)\n",
      " |-- Standardni sokovnici: long (nullable = true)\n",
      " |-- Standardni telefoni: long (nullable = true)\n",
      " |-- Standardni tosteri: long (nullable = true)\n",
      " |-- Stone sudomašine: long (nullable = true)\n",
      " |-- Styleri: long (nullable = true)\n",
      " |-- Sudopere: long (nullable = true)\n",
      " |-- Sušilice za veš: long (nullable = true)\n",
      " |-- Tableti: long (nullable = true)\n",
      " |-- Tastature: long (nullable = true)\n",
      " |-- Televizori: long (nullable = true)\n",
      " |-- Tiganji: long (nullable = true)\n",
      " |-- Toplomeri: long (nullable = true)\n",
      " |-- Torbe i futrole: long (nullable = true)\n",
      " |-- Torbice i futrole za mobilne telefone: long (nullable = true)\n",
      " |-- Tosteri za sendviče: long (nullable = true)\n",
      " |-- Tranzistori i radio uređaji: long (nullable = true)\n",
      " |-- Trimeri za bradu: long (nullable = true)\n",
      " |-- Trimeri za kosu: long (nullable = true)\n",
      " |-- Trimeri za telo: long (nullable = true)\n",
      " |-- USB flashevi: long (nullable = true)\n",
      " |-- Ugradne mašine za sudove: long (nullable = true)\n",
      " |-- Ugradne mikrotalasne rerne: long (nullable = true)\n",
      " |-- Ugradne ploče: long (nullable = true)\n",
      " |-- Ugradne rerne: long (nullable = true)\n",
      " |-- Ugradni aspiratori: long (nullable = true)\n",
      " |-- Ugradni frižideri: long (nullable = true)\n",
      " |-- Ugradni setovi: long (nullable = true)\n",
      " |-- Usisivači sa kesom za prašinu: long (nullable = true)\n",
      " |-- Usisivači sa posudom za prašinu: long (nullable = true)\n",
      " |-- Usisivači sa vodenim filterom: long (nullable = true)\n",
      " |-- Vage za merenje telesne težine: long (nullable = true)\n",
      " |-- Vakum aparati: long (nullable = true)\n",
      " |-- Vertikalni zamrzivači: long (nullable = true)\n",
      " |-- Wi-Fi, Bluetooth i USB adapteri: long (nullable = true)\n",
      " |-- Zvučnici za kompjuter: long (nullable = true)\n",
      " |-- iPad: long (nullable = true)\n",
      " |-- Čitači kartica: long (nullable = true)\n",
      " |-- Šerpe i lonci: long (nullable = true)\n",
      " |-- Šivaće mašine: long (nullable = true)\n",
      " |-- Šporeti na čvrsto gorivo: long (nullable = true)\n",
      " |-- Štampači: long (nullable = true)\n",
      " |-- Štapni mikseri: long (nullable = true)\n",
      " |-- Štapni usisivači: long (nullable = true)\n",
      " |-- Žični telefoni: long (nullable = true)\n",
      " |-- frequency: long (nullable = false)\n",
      " |-- length: integer (nullable = true)\n",
      " |-- recency: integer (nullable = true)\n",
      " |-- monetary: long (nullable = true)\n",
      " |-- features: vector (nullable = true)\n",
      " |-- scaledFeatures: vector (nullable = true)\n",
      "\n"
     ]
    }
   ],
   "source": [
    "scaled_data.printSchema()"
   ]
  },
  {
   "cell_type": "code",
   "execution_count": 108,
   "metadata": {},
   "outputs": [
    {
     "name": "stdout",
     "output_type": "stream",
     "text": [
      "Within Set Sum of Squared Errors = 10533570386.089205\n"
     ]
    }
   ],
   "source": [
    "#Evaluate clustering\n",
    "cost = model.computeCost(scaled_data)\n",
    "print(\"Within Set Sum of Squared Errors = \" + str(cost))"
   ]
  },
  {
   "cell_type": "code",
   "execution_count": 103,
   "metadata": {},
   "outputs": [
    {
     "name": "stdout",
     "output_type": "stream",
     "text": [
      "+----------+-----+\n",
      "|prediction|count|\n",
      "+----------+-----+\n",
      "|         0|  578|\n",
      "|         1|  105|\n",
      "|         2|   89|\n",
      "|         3|   43|\n",
      "|         4|   50|\n",
      "|         5|   35|\n",
      "|         6|   10|\n",
      "|         7|    7|\n",
      "|         8|    2|\n",
      "|         9|    2|\n",
      "+----------+-----+\n",
      "\n"
     ]
    }
   ],
   "source": [
    "transformed.groupBy('prediction').count().sort(col('prediction').asc()).show(15)"
   ]
  },
  {
   "cell_type": "code",
   "execution_count": 90,
   "metadata": {},
   "outputs": [
    {
     "name": "stdout",
     "output_type": "stream",
     "text": [
      "+-----------+----------------------+-----+\n",
      "|customer_id|category_name         |count|\n",
      "+-----------+----------------------+-----+\n",
      "|546817     |Mašine za sušenje veša|4    |\n",
      "+-----------+----------------------+-----+\n",
      "\n"
     ]
    }
   ],
   "source": [
    "grouped.filter(\"customer_id=='546817'\").show(truncate=False)"
   ]
  },
  {
   "cell_type": "code",
   "execution_count": 86,
   "metadata": {},
   "outputs": [
    {
     "name": "stdout",
     "output_type": "stream",
     "text": [
      "+-----------+----------+\n",
      "|customer_id|prediction|\n",
      "+-----------+----------+\n",
      "|     459999|         4|\n",
      "|     545792|         4|\n",
      "|     529730|         4|\n",
      "|     237621|         4|\n",
      "|     355766|         4|\n",
      "|     545925|         4|\n",
      "|     545937|         4|\n",
      "|     252427|         4|\n",
      "|     544461|         4|\n",
      "|     544441|         4|\n",
      "|     440798|         4|\n",
      "|     544004|         4|\n",
      "|     544153|         4|\n",
      "|     547861|         4|\n",
      "|     544885|         4|\n",
      "|     547328|         4|\n",
      "|     492829|         4|\n",
      "|     547365|         4|\n",
      "|     545253|         4|\n",
      "|     546817|         4|\n",
      "+-----------+----------+\n",
      "only showing top 20 rows\n",
      "\n"
     ]
    }
   ],
   "source": [
    "transformed.select(\"customer_id\", \"prediction\").filter(\"prediction == 4\").show()"
   ]
  },
  {
   "cell_type": "code",
   "execution_count": 93,
   "metadata": {},
   "outputs": [
    {
     "data": {
      "text/plain": [
       "334"
      ]
     },
     "execution_count": 93,
     "metadata": {},
     "output_type": "execute_result"
    }
   ],
   "source": [
    "s_products.select(\"category_name\").distinct().count()"
   ]
  },
  {
   "cell_type": "code",
   "execution_count": null,
   "metadata": {
    "collapsed": true
   },
   "outputs": [],
   "source": []
  }
 ],
 "metadata": {
  "kernelspec": {
   "display_name": "Python 3",
   "language": "python",
   "name": "python3"
  },
  "language_info": {
   "codemirror_mode": {
    "name": "ipython",
    "version": 3
   },
   "file_extension": ".py",
   "mimetype": "text/x-python",
   "name": "python",
   "nbconvert_exporter": "python",
   "pygments_lexer": "ipython3",
   "version": "3.6.3"
  }
 },
 "nbformat": 4,
 "nbformat_minor": 2
}
